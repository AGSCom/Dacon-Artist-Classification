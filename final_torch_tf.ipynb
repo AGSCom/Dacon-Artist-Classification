{
 "cells": [
  {
   "cell_type": "markdown",
   "id": "2e14c5e3",
   "metadata": {},
   "source": [
    "# Private 10위(0.83173) Efficientnet + Ensemble"
   ]
  },
  {
   "cell_type": "markdown",
   "id": "020099ee",
   "metadata": {},
   "source": [
    "안녕하세요 팀 AGSC 입니다!\n",
    "대회하느라 다들 고생하셨습니다.\n",
    "\n",
    "먼저 Pytorch로 Efficientnet B1~B6 모델을 학습하여 앙상블 하였고,\n",
    "다음 TensorFlow로 Efficientnet B1~B6 모델을 학습하여 앙상블하여\n",
    "최종 적으로 Pytorch 모델과 TensorFlow 모델을 앙상블 하여 결과를 냈습니다.\n",
    "\n",
    "\n",
    "1. Pytorch Model\n",
    "    - 1. import Library\n",
    "    - 2. Make PyTorch Dataset\n",
    "    - 3. Make PyTorch Model\n",
    "    - 4. Train PyTorch Model\n",
    "    - 5. Test PyTorch Model\n",
    "2. Tensorflow Model\n",
    "    - 1. import Library\n",
    "    - 2. Make TF Dataset\n",
    "    - 3. Make TF Model\n",
    "    - 4. Train TF Model\n",
    "    - 5. Test TF Model\n",
    "3. Ensemble PyTorch & TensorFlow\n",
    "4. Make Submission"
   ]
  },
  {
   "cell_type": "markdown",
   "id": "596cb98f",
   "metadata": {},
   "source": [
    "## Pytorch Model"
   ]
  },
  {
   "cell_type": "markdown",
   "id": "12e5384f-764c-4171-9dae-cb4593744343",
   "metadata": {},
   "source": [
    "### 1.Import Library"
   ]
  },
  {
   "cell_type": "code",
   "execution_count": 13,
   "id": "aa59dba7",
   "metadata": {},
   "outputs": [],
   "source": [
    "import random\n",
    "import pandas as pd\n",
    "import numpy as np\n",
    "import os\n",
    "import cv2\n",
    "\n",
    "from sklearn import preprocessing\n",
    "from sklearn.model_selection import train_test_split\n",
    "\n",
    "import torch\n",
    "import torch.nn as nn\n",
    "import torch.optim as optim\n",
    "import torch.nn.functional as F\n",
    "from torch.utils.data import Dataset, DataLoader\n",
    "\n",
    "from tqdm.auto import tqdm\n",
    "\n",
    "import albumentations as A\n",
    "from albumentations.pytorch.transforms import ToTensorV2\n",
    "\n",
    "import torchvision.models as models\n",
    "\n",
    "from sklearn.metrics import f1_score\n",
    "\n",
    "import warnings\n",
    "warnings.filterwarnings(action='ignore') \n",
    "import torch, gc\n",
    "\n",
    "from torch.optim  import lr_scheduler"
   ]
  },
  {
   "cell_type": "code",
   "execution_count": 14,
   "id": "1e1b3779",
   "metadata": {},
   "outputs": [],
   "source": [
    "device = torch.device('cuda') if torch.cuda.is_available() else torch.device('cpu')"
   ]
  },
  {
   "cell_type": "code",
   "execution_count": 15,
   "id": "a7cc3a6b",
   "metadata": {},
   "outputs": [],
   "source": [
    "CFG = {\n",
    "    'IMG_SIZE':224,\n",
    "    'EPOCHS':30,\n",
    "    'LEARNING_RATE':3e-4,\n",
    "    'BATCH_SIZE':32,\n",
    "    'SEED':41\n",
    "}"
   ]
  },
  {
   "cell_type": "code",
   "execution_count": 16,
   "id": "8fb42c58",
   "metadata": {},
   "outputs": [],
   "source": [
    "def seed_everything(seed):\n",
    "    random.seed(seed)\n",
    "    os.environ['PYTHONHASHSEED'] = str(seed)\n",
    "    np.random.seed(seed)\n",
    "    torch.manual_seed(seed)\n",
    "    torch.cuda.manual_seed(seed)\n",
    "    torch.backends.cudnn.deterministic = True\n",
    "    torch.backends.cudnn.benchmark = True\n",
    "\n",
    "seed_everything(CFG['SEED']) # Seed 고정"
   ]
  },
  {
   "cell_type": "markdown",
   "id": "b812c51e-c697-4226-ac4b-c1a3f2be5bbd",
   "metadata": {},
   "source": [
    "### 2. Make PyTorch Dataset"
   ]
  },
  {
   "cell_type": "code",
   "execution_count": 17,
   "id": "9213bdc7",
   "metadata": {},
   "outputs": [
    {
     "data": {
      "text/plain": [
       "'D:\\\\ML\\\\Artist Classification'"
      ]
     },
     "execution_count": 17,
     "metadata": {},
     "output_type": "execute_result"
    }
   ],
   "source": [
    "os.getcwd()"
   ]
  },
  {
   "cell_type": "code",
   "execution_count": 18,
   "id": "b6f6f64d",
   "metadata": {},
   "outputs": [
    {
     "data": {
      "text/html": [
       "<div>\n",
       "<style scoped>\n",
       "    .dataframe tbody tr th:only-of-type {\n",
       "        vertical-align: middle;\n",
       "    }\n",
       "\n",
       "    .dataframe tbody tr th {\n",
       "        vertical-align: top;\n",
       "    }\n",
       "\n",
       "    .dataframe thead th {\n",
       "        text-align: right;\n",
       "    }\n",
       "</style>\n",
       "<table border=\"1\" class=\"dataframe\">\n",
       "  <thead>\n",
       "    <tr style=\"text-align: right;\">\n",
       "      <th></th>\n",
       "      <th>id</th>\n",
       "      <th>img_path</th>\n",
       "      <th>artist</th>\n",
       "    </tr>\n",
       "  </thead>\n",
       "  <tbody>\n",
       "    <tr>\n",
       "      <th>0</th>\n",
       "      <td>0</td>\n",
       "      <td>./train/0000.jpg</td>\n",
       "      <td>Diego Velazquez</td>\n",
       "    </tr>\n",
       "    <tr>\n",
       "      <th>1</th>\n",
       "      <td>1</td>\n",
       "      <td>./train/0001.jpg</td>\n",
       "      <td>Vincent van Gogh</td>\n",
       "    </tr>\n",
       "    <tr>\n",
       "      <th>2</th>\n",
       "      <td>2</td>\n",
       "      <td>./train/0002.jpg</td>\n",
       "      <td>Claude Monet</td>\n",
       "    </tr>\n",
       "    <tr>\n",
       "      <th>3</th>\n",
       "      <td>3</td>\n",
       "      <td>./train/0003.jpg</td>\n",
       "      <td>Edgar Degas</td>\n",
       "    </tr>\n",
       "    <tr>\n",
       "      <th>4</th>\n",
       "      <td>4</td>\n",
       "      <td>./train/0004.jpg</td>\n",
       "      <td>Hieronymus Bosch</td>\n",
       "    </tr>\n",
       "  </tbody>\n",
       "</table>\n",
       "</div>"
      ],
      "text/plain": [
       "   id          img_path            artist\n",
       "0   0  ./train/0000.jpg   Diego Velazquez\n",
       "1   1  ./train/0001.jpg  Vincent van Gogh\n",
       "2   2  ./train/0002.jpg      Claude Monet\n",
       "3   3  ./train/0003.jpg       Edgar Degas\n",
       "4   4  ./train/0004.jpg  Hieronymus Bosch"
      ]
     },
     "execution_count": 18,
     "metadata": {},
     "output_type": "execute_result"
    }
   ],
   "source": [
    "base_dir = 'D:/ML/Artist Classification'\n",
    "data_dir = 'D:/ML/Artist Classification/open'\n",
    "\n",
    "\n",
    "df = pd.read_csv(f'{data_dir}/train.csv')\n",
    "df1 = pd.read_csv(f'{data_dir}/train.csv')\n",
    "\n",
    "df.head()"
   ]
  },
  {
   "cell_type": "code",
   "execution_count": 19,
   "id": "1565979e",
   "metadata": {},
   "outputs": [],
   "source": [
    "# Label Encoding\n",
    "le = preprocessing.LabelEncoder()\n",
    "df['artist'] = le.fit_transform(df['artist'].values)"
   ]
  },
  {
   "cell_type": "code",
   "execution_count": 20,
   "id": "651b5edd",
   "metadata": {
    "scrolled": false
   },
   "outputs": [
    {
     "data": {
      "text/html": [
       "<div>\n",
       "<style scoped>\n",
       "    .dataframe tbody tr th:only-of-type {\n",
       "        vertical-align: middle;\n",
       "    }\n",
       "\n",
       "    .dataframe tbody tr th {\n",
       "        vertical-align: top;\n",
       "    }\n",
       "\n",
       "    .dataframe thead th {\n",
       "        text-align: right;\n",
       "    }\n",
       "</style>\n",
       "<table border=\"1\" class=\"dataframe\">\n",
       "  <thead>\n",
       "    <tr style=\"text-align: right;\">\n",
       "      <th></th>\n",
       "      <th>id</th>\n",
       "      <th>img_path</th>\n",
       "      <th>artist</th>\n",
       "    </tr>\n",
       "  </thead>\n",
       "  <tbody>\n",
       "    <tr>\n",
       "      <th>0</th>\n",
       "      <td>0</td>\n",
       "      <td>./train/0000.jpg</td>\n",
       "      <td>9</td>\n",
       "    </tr>\n",
       "    <tr>\n",
       "      <th>1</th>\n",
       "      <td>1</td>\n",
       "      <td>./train/0001.jpg</td>\n",
       "      <td>48</td>\n",
       "    </tr>\n",
       "    <tr>\n",
       "      <th>2</th>\n",
       "      <td>2</td>\n",
       "      <td>./train/0002.jpg</td>\n",
       "      <td>7</td>\n",
       "    </tr>\n",
       "    <tr>\n",
       "      <th>3</th>\n",
       "      <td>3</td>\n",
       "      <td>./train/0003.jpg</td>\n",
       "      <td>10</td>\n",
       "    </tr>\n",
       "    <tr>\n",
       "      <th>4</th>\n",
       "      <td>4</td>\n",
       "      <td>./train/0004.jpg</td>\n",
       "      <td>24</td>\n",
       "    </tr>\n",
       "  </tbody>\n",
       "</table>\n",
       "</div>"
      ],
      "text/plain": [
       "   id          img_path  artist\n",
       "0   0  ./train/0000.jpg       9\n",
       "1   1  ./train/0001.jpg      48\n",
       "2   2  ./train/0002.jpg       7\n",
       "3   3  ./train/0003.jpg      10\n",
       "4   4  ./train/0004.jpg      24"
      ]
     },
     "execution_count": 20,
     "metadata": {},
     "output_type": "execute_result"
    }
   ],
   "source": [
    "df.head()"
   ]
  },
  {
   "cell_type": "code",
   "execution_count": 21,
   "id": "66112189",
   "metadata": {},
   "outputs": [],
   "source": [
    "train_df, val_df, _, _ = train_test_split(df, df['artist'].values, test_size=0.2, random_state=CFG['SEED'])"
   ]
  },
  {
   "cell_type": "code",
   "execution_count": 22,
   "id": "868e786c",
   "metadata": {},
   "outputs": [
    {
     "data": {
      "text/html": [
       "<div>\n",
       "<style scoped>\n",
       "    .dataframe tbody tr th:only-of-type {\n",
       "        vertical-align: middle;\n",
       "    }\n",
       "\n",
       "    .dataframe tbody tr th {\n",
       "        vertical-align: top;\n",
       "    }\n",
       "\n",
       "    .dataframe thead th {\n",
       "        text-align: right;\n",
       "    }\n",
       "</style>\n",
       "<table border=\"1\" class=\"dataframe\">\n",
       "  <thead>\n",
       "    <tr style=\"text-align: right;\">\n",
       "      <th></th>\n",
       "      <th>id</th>\n",
       "      <th>img_path</th>\n",
       "      <th>artist</th>\n",
       "    </tr>\n",
       "  </thead>\n",
       "  <tbody>\n",
       "    <tr>\n",
       "      <th>0</th>\n",
       "      <td>0</td>\n",
       "      <td>./train/0000.jpg</td>\n",
       "      <td>9</td>\n",
       "    </tr>\n",
       "    <tr>\n",
       "      <th>2</th>\n",
       "      <td>2</td>\n",
       "      <td>./train/0002.jpg</td>\n",
       "      <td>7</td>\n",
       "    </tr>\n",
       "    <tr>\n",
       "      <th>3</th>\n",
       "      <td>3</td>\n",
       "      <td>./train/0003.jpg</td>\n",
       "      <td>10</td>\n",
       "    </tr>\n",
       "    <tr>\n",
       "      <th>5</th>\n",
       "      <td>5</td>\n",
       "      <td>./train/0005.jpg</td>\n",
       "      <td>38</td>\n",
       "    </tr>\n",
       "    <tr>\n",
       "      <th>6</th>\n",
       "      <td>6</td>\n",
       "      <td>./train/0006.jpg</td>\n",
       "      <td>43</td>\n",
       "    </tr>\n",
       "  </tbody>\n",
       "</table>\n",
       "</div>"
      ],
      "text/plain": [
       "   id          img_path  artist\n",
       "0   0  ./train/0000.jpg       9\n",
       "2   2  ./train/0002.jpg       7\n",
       "3   3  ./train/0003.jpg      10\n",
       "5   5  ./train/0005.jpg      38\n",
       "6   6  ./train/0006.jpg      43"
      ]
     },
     "execution_count": 22,
     "metadata": {},
     "output_type": "execute_result"
    }
   ],
   "source": [
    "train_df = train_df.sort_values(by=['id'])\n",
    "train_df.head()"
   ]
  },
  {
   "cell_type": "code",
   "execution_count": 23,
   "id": "defa3f1d",
   "metadata": {},
   "outputs": [
    {
     "data": {
      "text/html": [
       "<div>\n",
       "<style scoped>\n",
       "    .dataframe tbody tr th:only-of-type {\n",
       "        vertical-align: middle;\n",
       "    }\n",
       "\n",
       "    .dataframe tbody tr th {\n",
       "        vertical-align: top;\n",
       "    }\n",
       "\n",
       "    .dataframe thead th {\n",
       "        text-align: right;\n",
       "    }\n",
       "</style>\n",
       "<table border=\"1\" class=\"dataframe\">\n",
       "  <thead>\n",
       "    <tr style=\"text-align: right;\">\n",
       "      <th></th>\n",
       "      <th>id</th>\n",
       "      <th>img_path</th>\n",
       "      <th>artist</th>\n",
       "    </tr>\n",
       "  </thead>\n",
       "  <tbody>\n",
       "    <tr>\n",
       "      <th>1</th>\n",
       "      <td>1</td>\n",
       "      <td>./train/0001.jpg</td>\n",
       "      <td>48</td>\n",
       "    </tr>\n",
       "    <tr>\n",
       "      <th>4</th>\n",
       "      <td>4</td>\n",
       "      <td>./train/0004.jpg</td>\n",
       "      <td>24</td>\n",
       "    </tr>\n",
       "    <tr>\n",
       "      <th>17</th>\n",
       "      <td>17</td>\n",
       "      <td>./train/0017.jpg</td>\n",
       "      <td>10</td>\n",
       "    </tr>\n",
       "    <tr>\n",
       "      <th>21</th>\n",
       "      <td>21</td>\n",
       "      <td>./train/0021.jpg</td>\n",
       "      <td>29</td>\n",
       "    </tr>\n",
       "    <tr>\n",
       "      <th>29</th>\n",
       "      <td>29</td>\n",
       "      <td>./train/0029.jpg</td>\n",
       "      <td>28</td>\n",
       "    </tr>\n",
       "  </tbody>\n",
       "</table>\n",
       "</div>"
      ],
      "text/plain": [
       "    id          img_path  artist\n",
       "1    1  ./train/0001.jpg      48\n",
       "4    4  ./train/0004.jpg      24\n",
       "17  17  ./train/0017.jpg      10\n",
       "21  21  ./train/0021.jpg      29\n",
       "29  29  ./train/0029.jpg      28"
      ]
     },
     "execution_count": 23,
     "metadata": {},
     "output_type": "execute_result"
    }
   ],
   "source": [
    "val_df = val_df.sort_values(by=['id'])\n",
    "val_df.head()"
   ]
  },
  {
   "cell_type": "code",
   "execution_count": 24,
   "id": "ffd175ab",
   "metadata": {},
   "outputs": [],
   "source": [
    "def get_data(df, infer=False):\n",
    "    if infer:\n",
    "        return df['img_path'].values\n",
    "    return df['img_path'].values, df['artist'].values"
   ]
  },
  {
   "cell_type": "code",
   "execution_count": 25,
   "id": "d471a308",
   "metadata": {},
   "outputs": [],
   "source": [
    "train_img_paths, train_labels = get_data(train_df)\n",
    "val_img_paths, val_labels = get_data(val_df)"
   ]
  },
  {
   "cell_type": "code",
   "execution_count": 26,
   "id": "f55bed16",
   "metadata": {},
   "outputs": [
    {
     "name": "stdout",
     "output_type": "stream",
     "text": [
      "D:/ML/Artist Classification/open/train/0000.jpg\n"
     ]
    }
   ],
   "source": [
    "print(f\"{data_dir}/{train_img_paths[0].split('/')[-2]}/{train_img_paths[0].split('/')[-1]}\")"
   ]
  },
  {
   "cell_type": "code",
   "execution_count": 27,
   "id": "5cd7b47b",
   "metadata": {},
   "outputs": [],
   "source": [
    "class CustomDataset(Dataset):\n",
    "    def __init__(self, img_paths, labels, transforms=None):\n",
    "        self.img_paths = img_paths\n",
    "        self.labels = labels\n",
    "        self.transforms = transforms\n",
    "\n",
    "    def __getitem__(self, index):\n",
    "        img_path = self.img_paths[index]\n",
    "        image = cv2.imread(f\"{data_dir}/{img_path.split('/')[-2]}/{img_path.split('/')[-1]}\")\n",
    "        image = cv2.cvtColor(image, cv2.COLOR_BGR2RGB)\n",
    "        \n",
    "        if self.transforms is not None:\n",
    "            image = self.transforms(image=image)['image']\n",
    "        \n",
    "        if self.labels is not None:\n",
    "            label = self.labels[index]\n",
    "            return image, label\n",
    "        else:\n",
    "            return image\n",
    "    \n",
    "    def __len__(self):\n",
    "        return len(self.img_paths)"
   ]
  },
  {
   "cell_type": "code",
   "execution_count": 28,
   "id": "0c7d8e03-b727-4295-b989-6aebe3f46784",
   "metadata": {},
   "outputs": [],
   "source": [
    "def resize_transform(size, state='train'):\n",
    "    if state == 'train':\n",
    "        transform = A.Compose([\n",
    "                                A.HorizontalFlip(p=0.5),\n",
    "                                A.VerticalFlip(p=0.5),\n",
    "                                A.Rotate(p=0.5),\n",
    "                                A.RandomRotate90(p=0.5),\n",
    "                                A.RandomResizedCrop(height=size, width=size, scale=(0.3, 1.0)),\n",
    "                                A.Normalize([0.485, 0.456, 0.406], [0.229, 0.224, 0.225]),\n",
    "                                ToTensorV2(),\n",
    "                                ])\n",
    "    else:\n",
    "        transform = A.Compose([\n",
    "                            A.Resize(size,size),\n",
    "                            A.Normalize(mean=(0.485, 0.456, 0.406), std=(0.229, 0.224, 0.225), max_pixel_value=255.0, always_apply=False, p=1.0),\n",
    "                            ToTensorV2()\n",
    "                            ])\n",
    "\n",
    "    return transform\n",
    "# 256, 288, 320, 384, 456, 528\n",
    "# 240, 260, 300, 380, 456, 528"
   ]
  },
  {
   "cell_type": "markdown",
   "id": "199b3a5c-5051-4d43-8a9c-bfa4e19ea7ba",
   "metadata": {},
   "source": [
    "### 3.Make PyTorch Model"
   ]
  },
  {
   "cell_type": "code",
   "execution_count": 29,
   "id": "ae03d260",
   "metadata": {},
   "outputs": [],
   "source": [
    "class BaseModel(nn.Module): # 224\n",
    "    def __init__(self, num_classes=len(le.classes_)):\n",
    "        super(BaseModel, self).__init__()\n",
    "        self.backbone = models.efficientnet_b0(pretrained=True)\n",
    "\n",
    "        self.classifier = nn.Sequential(nn.ReLU(),\n",
    "                                        nn.Dropout(),\n",
    "                                        nn.Linear(1000, num_classes))\n",
    "\n",
    "    def forward(self, x):\n",
    "        x = self.backbone(x)\n",
    "        x = self.classifier(x)\n",
    "        return x\n",
    "\n",
    "class EfficientNet_B1(nn.Module): # 256\n",
    "    def __init__(self, num_classes=len(le.classes_)):\n",
    "        super(EfficientNet_B1, self).__init__()\n",
    "        self.backbone = models.efficientnet_b1(pretrained=True)\n",
    "\n",
    "        self.classifier = nn.Sequential(\n",
    "                                        nn.ReLU(),\n",
    "                                        nn.Dropout(),\n",
    "                                        nn.Linear(1000, num_classes))\n",
    "    def forward(self, x):\n",
    "        x = self.backbone(x)\n",
    "        x = self.classifier(x)\n",
    "        return x\n",
    "\n",
    "class EfficientNet_B2(nn.Module): # 288\n",
    "    def __init__(self, num_classes=len(le.classes_)):\n",
    "        super(EfficientNet_B2, self).__init__()\n",
    "        self.backbone = models.efficientnet_b2(pretrained=True)\n",
    "\n",
    "        self.classifier = nn.Sequential(\n",
    "                                        nn.ReLU(),\n",
    "                                        nn.Dropout(),\n",
    "                                        nn.Linear(1000, num_classes))\n",
    "    def forward(self, x):\n",
    "        x = self.backbone(x)\n",
    "        x = self.classifier(x)\n",
    "        return x\n",
    "\n",
    "class EfficientNet_B3(nn.Module): # 320\n",
    "    def __init__(self, num_classes=len(le.classes_)):\n",
    "        super(EfficientNet_B3, self).__init__()\n",
    "        self.backbone = models.efficientnet_b3(pretrained=True)\n",
    "\n",
    "        self.classifier = nn.Sequential(\n",
    "                                        nn.ReLU(),\n",
    "                                        nn.Dropout(),\n",
    "                                        nn.Linear(1000, num_classes))\n",
    "    def forward(self, x):\n",
    "        x = self.backbone(x)\n",
    "        x = self.classifier(x)\n",
    "        return x\n",
    "    \n",
    "class EfficientNet_B4(nn.Module): # 384\n",
    "    def __init__(self, num_classes=len(le.classes_)):\n",
    "        super(EfficientNet_B4, self).__init__()\n",
    "        self.backbone = models.efficientnet_b4(pretrained=True)\n",
    "\n",
    "        self.classifier = nn.Sequential(\n",
    "                                        nn.ReLU(),\n",
    "                                        nn.Dropout(),\n",
    "                                        nn.Linear(1000, num_classes))\n",
    "    def forward(self, x):\n",
    "        x = self.backbone(x)\n",
    "        x = self.classifier(x)\n",
    "        return x\n",
    "\n",
    "class EfficientNet_B5(nn.Module): # 456\n",
    "    def __init__(self, num_classes=len(le.classes_)):\n",
    "        super(EfficientNet_B5, self).__init__()\n",
    "        self.backbone = models.efficientnet_b5(pretrained=True)\n",
    "\n",
    "        self.classifier = nn.Sequential(\n",
    "                                        nn.ReLU(),\n",
    "                                        nn.Dropout(),\n",
    "                                        nn.Linear(1000, num_classes))\n",
    "    def forward(self, x):\n",
    "        x = self.backbone(x)\n",
    "        x = self.classifier(x)\n",
    "        return x\n",
    "\n",
    "class EfficientNet_B6(nn.Module): # 528\n",
    "    def __init__(self, num_classes=len(le.classes_)):\n",
    "        super(EfficientNet_B6, self).__init__()\n",
    "        self.backbone = models.efficientnet_b6(pretrained=True)\n",
    "\n",
    "        self.classifier = nn.Sequential(\n",
    "                                        nn.ReLU(),\n",
    "                                        nn.Dropout(),\n",
    "                                        nn.Linear(1000, num_classes))\n",
    "    def forward(self, x):\n",
    "        x = self.backbone(x)\n",
    "        x = self.classifier(x)\n",
    "        return x   "
   ]
  },
  {
   "cell_type": "markdown",
   "id": "5978bada-b7bf-4a3d-9a21-0efc8c2c6688",
   "metadata": {},
   "source": [
    "### 4.Train PyTorch Model"
   ]
  },
  {
   "cell_type": "code",
   "execution_count": 30,
   "id": "a7308773",
   "metadata": {},
   "outputs": [],
   "source": [
    "def train(model,epochs, optimizer, train_loader, test_loader, scheduler, device):\n",
    "    model.to(device)\n",
    "\n",
    "    criterion = nn.CrossEntropyLoss().to(device)\n",
    "    \n",
    "    best_score = 0\n",
    "    best_model = None\n",
    "    \n",
    "    for epoch in range(1,epochs+1):\n",
    "        model.train()\n",
    "        train_loss = []\n",
    "        for img, label in tqdm(iter(train_loader)):\n",
    "            img, label = img.float().to(device), label.type(torch.LongTensor).to(device)\n",
    "            \n",
    "            optimizer.zero_grad()\n",
    "\n",
    "            model_pred = model(img)\n",
    "            \n",
    "            loss = criterion(model_pred, label)\n",
    "\n",
    "            loss.backward()\n",
    "            optimizer.step()\n",
    "\n",
    "            train_loss.append(loss.item())\n",
    "\n",
    "        tr_loss = np.mean(train_loss)\n",
    "            \n",
    "        val_loss, val_score = validation(model, criterion, test_loader, device)\n",
    "            \n",
    "        print(f'Epoch [{epoch}], Train Loss : [{tr_loss:.5f}] Val Loss : [{val_loss:.5f}] Val F1 Score : [{val_score:.5f}]')\n",
    "        \n",
    "        if scheduler is not None:\n",
    "            scheduler.step()\n",
    "            \n",
    "        if best_score < val_score:\n",
    "            best_model = model\n",
    "            best_score = val_score\n",
    "        \n",
    "    return best_model"
   ]
  },
  {
   "cell_type": "code",
   "execution_count": 31,
   "id": "246b0f80",
   "metadata": {},
   "outputs": [],
   "source": [
    "def competition_metric(true, pred):\n",
    "    return f1_score(true, pred, average=\"macro\")\n",
    "\n",
    "def validation(model, criterion, test_loader, device):\n",
    "    model.eval()\n",
    "    \n",
    "    model_preds = []\n",
    "    true_labels = []\n",
    "    \n",
    "    val_loss = []\n",
    "    \n",
    "    with torch.no_grad():\n",
    "        for img, label in tqdm(iter(test_loader)):\n",
    "            img, label = img.float().to(device), label.type(torch.LongTensor).to(device)\n",
    "            \n",
    "            model_pred = model(img)\n",
    "            \n",
    "            loss = criterion(model_pred, label)\n",
    "            val_loss.append(loss.item())\n",
    "            \n",
    "            model_preds += model_pred.argmax(1).detach().cpu().numpy().tolist()\n",
    "            true_labels += label.detach().cpu().numpy().tolist()\n",
    "            \n",
    "        \n",
    "    val_f1 = competition_metric(true_labels, model_preds)\n",
    "\n",
    "    return np.mean(val_loss), val_f1"
   ]
  },
  {
   "cell_type": "code",
   "execution_count": 32,
   "id": "a7dfe282",
   "metadata": {},
   "outputs": [],
   "source": [
    "num_epoch  = 30"
   ]
  },
  {
   "cell_type": "code",
   "execution_count": 33,
   "id": "04f8b976",
   "metadata": {
    "jupyter": {
     "outputs_hidden": true
    },
    "scrolled": true,
    "tags": []
   },
   "outputs": [
    {
     "name": "stderr",
     "output_type": "stream",
     "text": [
      "Downloading: \"https://download.pytorch.org/models/efficientnet_b0_rwightman-3dd342df.pth\" to C:\\Users\\DELL/.cache\\torch\\hub\\checkpoints\\efficientnet_b0_rwightman-3dd342df.pth\n"
     ]
    },
    {
     "data": {
      "application/vnd.jupyter.widget-view+json": {
       "model_id": "a24095abebb44a17bf7233b433a4a365",
       "version_major": 2,
       "version_minor": 0
      },
      "text/plain": [
       "  0%|          | 0.00/20.5M [00:00<?, ?B/s]"
      ]
     },
     "metadata": {},
     "output_type": "display_data"
    },
    {
     "ename": "KeyboardInterrupt",
     "evalue": "",
     "output_type": "error",
     "traceback": [
      "\u001b[1;31m---------------------------------------------------------------------------\u001b[0m",
      "\u001b[1;31mKeyboardInterrupt\u001b[0m                         Traceback (most recent call last)",
      "\u001b[1;32m~\\AppData\\Local\\Temp\\ipykernel_30064\\3377559122.py\u001b[0m in \u001b[0;36m<cell line: 7>\u001b[1;34m()\u001b[0m\n\u001b[0;32m      5\u001b[0m \u001b[0mval_loader_0\u001b[0m \u001b[1;33m=\u001b[0m \u001b[0mDataLoader\u001b[0m\u001b[1;33m(\u001b[0m\u001b[0mval_dataset_0\u001b[0m\u001b[1;33m,\u001b[0m \u001b[0mbatch_size\u001b[0m\u001b[1;33m=\u001b[0m\u001b[1;36m32\u001b[0m\u001b[1;33m,\u001b[0m \u001b[0mshuffle\u001b[0m\u001b[1;33m=\u001b[0m\u001b[1;32mFalse\u001b[0m\u001b[1;33m,\u001b[0m \u001b[0mnum_workers\u001b[0m\u001b[1;33m=\u001b[0m\u001b[1;36m0\u001b[0m\u001b[1;33m)\u001b[0m\u001b[1;33m\u001b[0m\u001b[1;33m\u001b[0m\u001b[0m\n\u001b[0;32m      6\u001b[0m \u001b[1;33m\u001b[0m\u001b[0m\n\u001b[1;32m----> 7\u001b[1;33m \u001b[0mmodel_0\u001b[0m \u001b[1;33m=\u001b[0m \u001b[0mBaseModel\u001b[0m\u001b[1;33m(\u001b[0m\u001b[1;33m)\u001b[0m\u001b[1;33m\u001b[0m\u001b[1;33m\u001b[0m\u001b[0m\n\u001b[0m\u001b[0;32m      8\u001b[0m \u001b[0moptimizer_0\u001b[0m \u001b[1;33m=\u001b[0m \u001b[0mtorch\u001b[0m\u001b[1;33m.\u001b[0m\u001b[0moptim\u001b[0m\u001b[1;33m.\u001b[0m\u001b[0mAdam\u001b[0m\u001b[1;33m(\u001b[0m\u001b[0mparams\u001b[0m \u001b[1;33m=\u001b[0m \u001b[0mmodel_0\u001b[0m\u001b[1;33m.\u001b[0m\u001b[0mparameters\u001b[0m\u001b[1;33m(\u001b[0m\u001b[1;33m)\u001b[0m\u001b[1;33m,\u001b[0m \u001b[0mlr\u001b[0m \u001b[1;33m=\u001b[0m \u001b[0mCFG\u001b[0m\u001b[1;33m[\u001b[0m\u001b[1;34m\"LEARNING_RATE\"\u001b[0m\u001b[1;33m]\u001b[0m\u001b[1;33m)\u001b[0m\u001b[1;33m\u001b[0m\u001b[1;33m\u001b[0m\u001b[0m\n\u001b[0;32m      9\u001b[0m \u001b[0mscheduler_0\u001b[0m \u001b[1;33m=\u001b[0m \u001b[0mlr_scheduler\u001b[0m\u001b[1;33m.\u001b[0m\u001b[0mMultiStepLR\u001b[0m\u001b[1;33m(\u001b[0m\u001b[0moptimizer_0\u001b[0m\u001b[1;33m,\u001b[0m \u001b[0mmilestones\u001b[0m\u001b[1;33m=\u001b[0m\u001b[1;33m[\u001b[0m\u001b[1;36m10\u001b[0m\u001b[1;33m,\u001b[0m\u001b[1;36m20\u001b[0m\u001b[1;33m]\u001b[0m\u001b[1;33m,\u001b[0m \u001b[0mgamma\u001b[0m\u001b[1;33m=\u001b[0m\u001b[1;36m0.5\u001b[0m\u001b[1;33m)\u001b[0m\u001b[1;33m\u001b[0m\u001b[1;33m\u001b[0m\u001b[0m\n",
      "\u001b[1;32m~\\AppData\\Local\\Temp\\ipykernel_30064\\2142813306.py\u001b[0m in \u001b[0;36m__init__\u001b[1;34m(self, num_classes)\u001b[0m\n\u001b[0;32m      2\u001b[0m     \u001b[1;32mdef\u001b[0m \u001b[0m__init__\u001b[0m\u001b[1;33m(\u001b[0m\u001b[0mself\u001b[0m\u001b[1;33m,\u001b[0m \u001b[0mnum_classes\u001b[0m\u001b[1;33m=\u001b[0m\u001b[0mlen\u001b[0m\u001b[1;33m(\u001b[0m\u001b[0mle\u001b[0m\u001b[1;33m.\u001b[0m\u001b[0mclasses_\u001b[0m\u001b[1;33m)\u001b[0m\u001b[1;33m)\u001b[0m\u001b[1;33m:\u001b[0m\u001b[1;33m\u001b[0m\u001b[1;33m\u001b[0m\u001b[0m\n\u001b[0;32m      3\u001b[0m         \u001b[0msuper\u001b[0m\u001b[1;33m(\u001b[0m\u001b[0mBaseModel\u001b[0m\u001b[1;33m,\u001b[0m \u001b[0mself\u001b[0m\u001b[1;33m)\u001b[0m\u001b[1;33m.\u001b[0m\u001b[0m__init__\u001b[0m\u001b[1;33m(\u001b[0m\u001b[1;33m)\u001b[0m\u001b[1;33m\u001b[0m\u001b[1;33m\u001b[0m\u001b[0m\n\u001b[1;32m----> 4\u001b[1;33m         \u001b[0mself\u001b[0m\u001b[1;33m.\u001b[0m\u001b[0mbackbone\u001b[0m \u001b[1;33m=\u001b[0m \u001b[0mmodels\u001b[0m\u001b[1;33m.\u001b[0m\u001b[0mefficientnet_b0\u001b[0m\u001b[1;33m(\u001b[0m\u001b[0mpretrained\u001b[0m\u001b[1;33m=\u001b[0m\u001b[1;32mTrue\u001b[0m\u001b[1;33m)\u001b[0m\u001b[1;33m\u001b[0m\u001b[1;33m\u001b[0m\u001b[0m\n\u001b[0m\u001b[0;32m      5\u001b[0m \u001b[1;33m\u001b[0m\u001b[0m\n\u001b[0;32m      6\u001b[0m         self.classifier = nn.Sequential(nn.ReLU(),\n",
      "\u001b[1;32m~\\anaconda3\\envs\\mytorch\\lib\\site-packages\\torchvision\\models\\_utils.py\u001b[0m in \u001b[0;36mwrapper\u001b[1;34m(*args, **kwargs)\u001b[0m\n\u001b[0;32m    140\u001b[0m             \u001b[0mkwargs\u001b[0m\u001b[1;33m.\u001b[0m\u001b[0mupdate\u001b[0m\u001b[1;33m(\u001b[0m\u001b[0mkeyword_only_kwargs\u001b[0m\u001b[1;33m)\u001b[0m\u001b[1;33m\u001b[0m\u001b[1;33m\u001b[0m\u001b[0m\n\u001b[0;32m    141\u001b[0m \u001b[1;33m\u001b[0m\u001b[0m\n\u001b[1;32m--> 142\u001b[1;33m         \u001b[1;32mreturn\u001b[0m \u001b[0mfn\u001b[0m\u001b[1;33m(\u001b[0m\u001b[1;33m*\u001b[0m\u001b[0margs\u001b[0m\u001b[1;33m,\u001b[0m \u001b[1;33m**\u001b[0m\u001b[0mkwargs\u001b[0m\u001b[1;33m)\u001b[0m\u001b[1;33m\u001b[0m\u001b[1;33m\u001b[0m\u001b[0m\n\u001b[0m\u001b[0;32m    143\u001b[0m \u001b[1;33m\u001b[0m\u001b[0m\n\u001b[0;32m    144\u001b[0m     \u001b[1;32mreturn\u001b[0m \u001b[0mwrapper\u001b[0m\u001b[1;33m\u001b[0m\u001b[1;33m\u001b[0m\u001b[0m\n",
      "\u001b[1;32m~\\anaconda3\\envs\\mytorch\\lib\\site-packages\\torchvision\\models\\_utils.py\u001b[0m in \u001b[0;36minner_wrapper\u001b[1;34m(*args, **kwargs)\u001b[0m\n\u001b[0;32m    226\u001b[0m                 \u001b[0mkwargs\u001b[0m\u001b[1;33m[\u001b[0m\u001b[0mweights_param\u001b[0m\u001b[1;33m]\u001b[0m \u001b[1;33m=\u001b[0m \u001b[0mdefault_weights_arg\u001b[0m\u001b[1;33m\u001b[0m\u001b[1;33m\u001b[0m\u001b[0m\n\u001b[0;32m    227\u001b[0m \u001b[1;33m\u001b[0m\u001b[0m\n\u001b[1;32m--> 228\u001b[1;33m             \u001b[1;32mreturn\u001b[0m \u001b[0mbuilder\u001b[0m\u001b[1;33m(\u001b[0m\u001b[1;33m*\u001b[0m\u001b[0margs\u001b[0m\u001b[1;33m,\u001b[0m \u001b[1;33m**\u001b[0m\u001b[0mkwargs\u001b[0m\u001b[1;33m)\u001b[0m\u001b[1;33m\u001b[0m\u001b[1;33m\u001b[0m\u001b[0m\n\u001b[0m\u001b[0;32m    229\u001b[0m \u001b[1;33m\u001b[0m\u001b[0m\n\u001b[0;32m    230\u001b[0m         \u001b[1;32mreturn\u001b[0m \u001b[0minner_wrapper\u001b[0m\u001b[1;33m\u001b[0m\u001b[1;33m\u001b[0m\u001b[0m\n",
      "\u001b[1;32m~\\anaconda3\\envs\\mytorch\\lib\\site-packages\\torchvision\\models\\efficientnet.py\u001b[0m in \u001b[0;36mefficientnet_b0\u001b[1;34m(weights, progress, **kwargs)\u001b[0m\n\u001b[0;32m    755\u001b[0m \u001b[1;33m\u001b[0m\u001b[0m\n\u001b[0;32m    756\u001b[0m     \u001b[0minverted_residual_setting\u001b[0m\u001b[1;33m,\u001b[0m \u001b[0mlast_channel\u001b[0m \u001b[1;33m=\u001b[0m \u001b[0m_efficientnet_conf\u001b[0m\u001b[1;33m(\u001b[0m\u001b[1;34m\"efficientnet_b0\"\u001b[0m\u001b[1;33m,\u001b[0m \u001b[0mwidth_mult\u001b[0m\u001b[1;33m=\u001b[0m\u001b[1;36m1.0\u001b[0m\u001b[1;33m,\u001b[0m \u001b[0mdepth_mult\u001b[0m\u001b[1;33m=\u001b[0m\u001b[1;36m1.0\u001b[0m\u001b[1;33m)\u001b[0m\u001b[1;33m\u001b[0m\u001b[1;33m\u001b[0m\u001b[0m\n\u001b[1;32m--> 757\u001b[1;33m     \u001b[1;32mreturn\u001b[0m \u001b[0m_efficientnet\u001b[0m\u001b[1;33m(\u001b[0m\u001b[0minverted_residual_setting\u001b[0m\u001b[1;33m,\u001b[0m \u001b[1;36m0.2\u001b[0m\u001b[1;33m,\u001b[0m \u001b[0mlast_channel\u001b[0m\u001b[1;33m,\u001b[0m \u001b[0mweights\u001b[0m\u001b[1;33m,\u001b[0m \u001b[0mprogress\u001b[0m\u001b[1;33m,\u001b[0m \u001b[1;33m**\u001b[0m\u001b[0mkwargs\u001b[0m\u001b[1;33m)\u001b[0m\u001b[1;33m\u001b[0m\u001b[1;33m\u001b[0m\u001b[0m\n\u001b[0m\u001b[0;32m    758\u001b[0m \u001b[1;33m\u001b[0m\u001b[0m\n\u001b[0;32m    759\u001b[0m \u001b[1;33m\u001b[0m\u001b[0m\n",
      "\u001b[1;32m~\\anaconda3\\envs\\mytorch\\lib\\site-packages\\torchvision\\models\\efficientnet.py\u001b[0m in \u001b[0;36m_efficientnet\u001b[1;34m(inverted_residual_setting, dropout, last_channel, weights, progress, **kwargs)\u001b[0m\n\u001b[0;32m    370\u001b[0m \u001b[1;33m\u001b[0m\u001b[0m\n\u001b[0;32m    371\u001b[0m     \u001b[1;32mif\u001b[0m \u001b[0mweights\u001b[0m \u001b[1;32mis\u001b[0m \u001b[1;32mnot\u001b[0m \u001b[1;32mNone\u001b[0m\u001b[1;33m:\u001b[0m\u001b[1;33m\u001b[0m\u001b[1;33m\u001b[0m\u001b[0m\n\u001b[1;32m--> 372\u001b[1;33m         \u001b[0mmodel\u001b[0m\u001b[1;33m.\u001b[0m\u001b[0mload_state_dict\u001b[0m\u001b[1;33m(\u001b[0m\u001b[0mweights\u001b[0m\u001b[1;33m.\u001b[0m\u001b[0mget_state_dict\u001b[0m\u001b[1;33m(\u001b[0m\u001b[0mprogress\u001b[0m\u001b[1;33m=\u001b[0m\u001b[0mprogress\u001b[0m\u001b[1;33m)\u001b[0m\u001b[1;33m)\u001b[0m\u001b[1;33m\u001b[0m\u001b[1;33m\u001b[0m\u001b[0m\n\u001b[0m\u001b[0;32m    373\u001b[0m \u001b[1;33m\u001b[0m\u001b[0m\n\u001b[0;32m    374\u001b[0m     \u001b[1;32mreturn\u001b[0m \u001b[0mmodel\u001b[0m\u001b[1;33m\u001b[0m\u001b[1;33m\u001b[0m\u001b[0m\n",
      "\u001b[1;32m~\\anaconda3\\envs\\mytorch\\lib\\site-packages\\torchvision\\models\\_api.py\u001b[0m in \u001b[0;36mget_state_dict\u001b[1;34m(self, progress)\u001b[0m\n\u001b[0;32m     61\u001b[0m \u001b[1;33m\u001b[0m\u001b[0m\n\u001b[0;32m     62\u001b[0m     \u001b[1;32mdef\u001b[0m \u001b[0mget_state_dict\u001b[0m\u001b[1;33m(\u001b[0m\u001b[0mself\u001b[0m\u001b[1;33m,\u001b[0m \u001b[0mprogress\u001b[0m\u001b[1;33m:\u001b[0m \u001b[0mbool\u001b[0m\u001b[1;33m)\u001b[0m \u001b[1;33m->\u001b[0m \u001b[0mDict\u001b[0m\u001b[1;33m[\u001b[0m\u001b[0mstr\u001b[0m\u001b[1;33m,\u001b[0m \u001b[0mAny\u001b[0m\u001b[1;33m]\u001b[0m\u001b[1;33m:\u001b[0m\u001b[1;33m\u001b[0m\u001b[1;33m\u001b[0m\u001b[0m\n\u001b[1;32m---> 63\u001b[1;33m         \u001b[1;32mreturn\u001b[0m \u001b[0mload_state_dict_from_url\u001b[0m\u001b[1;33m(\u001b[0m\u001b[0mself\u001b[0m\u001b[1;33m.\u001b[0m\u001b[0murl\u001b[0m\u001b[1;33m,\u001b[0m \u001b[0mprogress\u001b[0m\u001b[1;33m=\u001b[0m\u001b[0mprogress\u001b[0m\u001b[1;33m)\u001b[0m\u001b[1;33m\u001b[0m\u001b[1;33m\u001b[0m\u001b[0m\n\u001b[0m\u001b[0;32m     64\u001b[0m \u001b[1;33m\u001b[0m\u001b[0m\n\u001b[0;32m     65\u001b[0m     \u001b[1;32mdef\u001b[0m \u001b[0m__repr__\u001b[0m\u001b[1;33m(\u001b[0m\u001b[0mself\u001b[0m\u001b[1;33m)\u001b[0m \u001b[1;33m->\u001b[0m \u001b[0mstr\u001b[0m\u001b[1;33m:\u001b[0m\u001b[1;33m\u001b[0m\u001b[1;33m\u001b[0m\u001b[0m\n",
      "\u001b[1;32m~\\anaconda3\\envs\\mytorch\\lib\\site-packages\\torch\\hub.py\u001b[0m in \u001b[0;36mload_state_dict_from_url\u001b[1;34m(url, model_dir, map_location, progress, check_hash, file_name)\u001b[0m\n\u001b[0;32m    725\u001b[0m             \u001b[0mr\u001b[0m \u001b[1;33m=\u001b[0m \u001b[0mHASH_REGEX\u001b[0m\u001b[1;33m.\u001b[0m\u001b[0msearch\u001b[0m\u001b[1;33m(\u001b[0m\u001b[0mfilename\u001b[0m\u001b[1;33m)\u001b[0m  \u001b[1;31m# r is Optional[Match[str]]\u001b[0m\u001b[1;33m\u001b[0m\u001b[1;33m\u001b[0m\u001b[0m\n\u001b[0;32m    726\u001b[0m             \u001b[0mhash_prefix\u001b[0m \u001b[1;33m=\u001b[0m \u001b[0mr\u001b[0m\u001b[1;33m.\u001b[0m\u001b[0mgroup\u001b[0m\u001b[1;33m(\u001b[0m\u001b[1;36m1\u001b[0m\u001b[1;33m)\u001b[0m \u001b[1;32mif\u001b[0m \u001b[0mr\u001b[0m \u001b[1;32melse\u001b[0m \u001b[1;32mNone\u001b[0m\u001b[1;33m\u001b[0m\u001b[1;33m\u001b[0m\u001b[0m\n\u001b[1;32m--> 727\u001b[1;33m         \u001b[0mdownload_url_to_file\u001b[0m\u001b[1;33m(\u001b[0m\u001b[0murl\u001b[0m\u001b[1;33m,\u001b[0m \u001b[0mcached_file\u001b[0m\u001b[1;33m,\u001b[0m \u001b[0mhash_prefix\u001b[0m\u001b[1;33m,\u001b[0m \u001b[0mprogress\u001b[0m\u001b[1;33m=\u001b[0m\u001b[0mprogress\u001b[0m\u001b[1;33m)\u001b[0m\u001b[1;33m\u001b[0m\u001b[1;33m\u001b[0m\u001b[0m\n\u001b[0m\u001b[0;32m    728\u001b[0m \u001b[1;33m\u001b[0m\u001b[0m\n\u001b[0;32m    729\u001b[0m     \u001b[1;32mif\u001b[0m \u001b[0m_is_legacy_zip_format\u001b[0m\u001b[1;33m(\u001b[0m\u001b[0mcached_file\u001b[0m\u001b[1;33m)\u001b[0m\u001b[1;33m:\u001b[0m\u001b[1;33m\u001b[0m\u001b[1;33m\u001b[0m\u001b[0m\n",
      "\u001b[1;32m~\\anaconda3\\envs\\mytorch\\lib\\site-packages\\torch\\hub.py\u001b[0m in \u001b[0;36mdownload_url_to_file\u001b[1;34m(url, dst, hash_prefix, progress)\u001b[0m\n\u001b[0;32m    613\u001b[0m                   unit='B', unit_scale=True, unit_divisor=1024) as pbar:\n\u001b[0;32m    614\u001b[0m             \u001b[1;32mwhile\u001b[0m \u001b[1;32mTrue\u001b[0m\u001b[1;33m:\u001b[0m\u001b[1;33m\u001b[0m\u001b[1;33m\u001b[0m\u001b[0m\n\u001b[1;32m--> 615\u001b[1;33m                 \u001b[0mbuffer\u001b[0m \u001b[1;33m=\u001b[0m \u001b[0mu\u001b[0m\u001b[1;33m.\u001b[0m\u001b[0mread\u001b[0m\u001b[1;33m(\u001b[0m\u001b[1;36m8192\u001b[0m\u001b[1;33m)\u001b[0m\u001b[1;33m\u001b[0m\u001b[1;33m\u001b[0m\u001b[0m\n\u001b[0m\u001b[0;32m    616\u001b[0m                 \u001b[1;32mif\u001b[0m \u001b[0mlen\u001b[0m\u001b[1;33m(\u001b[0m\u001b[0mbuffer\u001b[0m\u001b[1;33m)\u001b[0m \u001b[1;33m==\u001b[0m \u001b[1;36m0\u001b[0m\u001b[1;33m:\u001b[0m\u001b[1;33m\u001b[0m\u001b[1;33m\u001b[0m\u001b[0m\n\u001b[0;32m    617\u001b[0m                     \u001b[1;32mbreak\u001b[0m\u001b[1;33m\u001b[0m\u001b[1;33m\u001b[0m\u001b[0m\n",
      "\u001b[1;32m~\\anaconda3\\envs\\mytorch\\lib\\http\\client.py\u001b[0m in \u001b[0;36mread\u001b[1;34m(self, amt)\u001b[0m\n\u001b[0;32m    463\u001b[0m                 \u001b[1;31m# clip the read to the \"end of response\"\u001b[0m\u001b[1;33m\u001b[0m\u001b[1;33m\u001b[0m\u001b[0m\n\u001b[0;32m    464\u001b[0m                 \u001b[0mamt\u001b[0m \u001b[1;33m=\u001b[0m \u001b[0mself\u001b[0m\u001b[1;33m.\u001b[0m\u001b[0mlength\u001b[0m\u001b[1;33m\u001b[0m\u001b[1;33m\u001b[0m\u001b[0m\n\u001b[1;32m--> 465\u001b[1;33m             \u001b[0ms\u001b[0m \u001b[1;33m=\u001b[0m \u001b[0mself\u001b[0m\u001b[1;33m.\u001b[0m\u001b[0mfp\u001b[0m\u001b[1;33m.\u001b[0m\u001b[0mread\u001b[0m\u001b[1;33m(\u001b[0m\u001b[0mamt\u001b[0m\u001b[1;33m)\u001b[0m\u001b[1;33m\u001b[0m\u001b[1;33m\u001b[0m\u001b[0m\n\u001b[0m\u001b[0;32m    466\u001b[0m             \u001b[1;32mif\u001b[0m \u001b[1;32mnot\u001b[0m \u001b[0ms\u001b[0m \u001b[1;32mand\u001b[0m \u001b[0mamt\u001b[0m\u001b[1;33m:\u001b[0m\u001b[1;33m\u001b[0m\u001b[1;33m\u001b[0m\u001b[0m\n\u001b[0;32m    467\u001b[0m                 \u001b[1;31m# Ideally, we would raise IncompleteRead if the content-length\u001b[0m\u001b[1;33m\u001b[0m\u001b[1;33m\u001b[0m\u001b[0m\n",
      "\u001b[1;32m~\\anaconda3\\envs\\mytorch\\lib\\socket.py\u001b[0m in \u001b[0;36mreadinto\u001b[1;34m(self, b)\u001b[0m\n\u001b[0;32m    703\u001b[0m         \u001b[1;32mwhile\u001b[0m \u001b[1;32mTrue\u001b[0m\u001b[1;33m:\u001b[0m\u001b[1;33m\u001b[0m\u001b[1;33m\u001b[0m\u001b[0m\n\u001b[0;32m    704\u001b[0m             \u001b[1;32mtry\u001b[0m\u001b[1;33m:\u001b[0m\u001b[1;33m\u001b[0m\u001b[1;33m\u001b[0m\u001b[0m\n\u001b[1;32m--> 705\u001b[1;33m                 \u001b[1;32mreturn\u001b[0m \u001b[0mself\u001b[0m\u001b[1;33m.\u001b[0m\u001b[0m_sock\u001b[0m\u001b[1;33m.\u001b[0m\u001b[0mrecv_into\u001b[0m\u001b[1;33m(\u001b[0m\u001b[0mb\u001b[0m\u001b[1;33m)\u001b[0m\u001b[1;33m\u001b[0m\u001b[1;33m\u001b[0m\u001b[0m\n\u001b[0m\u001b[0;32m    706\u001b[0m             \u001b[1;32mexcept\u001b[0m \u001b[0mtimeout\u001b[0m\u001b[1;33m:\u001b[0m\u001b[1;33m\u001b[0m\u001b[1;33m\u001b[0m\u001b[0m\n\u001b[0;32m    707\u001b[0m                 \u001b[0mself\u001b[0m\u001b[1;33m.\u001b[0m\u001b[0m_timeout_occurred\u001b[0m \u001b[1;33m=\u001b[0m \u001b[1;32mTrue\u001b[0m\u001b[1;33m\u001b[0m\u001b[1;33m\u001b[0m\u001b[0m\n",
      "\u001b[1;32m~\\anaconda3\\envs\\mytorch\\lib\\ssl.py\u001b[0m in \u001b[0;36mrecv_into\u001b[1;34m(self, buffer, nbytes, flags)\u001b[0m\n\u001b[0;32m   1272\u001b[0m                   \u001b[1;34m\"non-zero flags not allowed in calls to recv_into() on %s\"\u001b[0m \u001b[1;33m%\u001b[0m\u001b[1;33m\u001b[0m\u001b[1;33m\u001b[0m\u001b[0m\n\u001b[0;32m   1273\u001b[0m                   self.__class__)\n\u001b[1;32m-> 1274\u001b[1;33m             \u001b[1;32mreturn\u001b[0m \u001b[0mself\u001b[0m\u001b[1;33m.\u001b[0m\u001b[0mread\u001b[0m\u001b[1;33m(\u001b[0m\u001b[0mnbytes\u001b[0m\u001b[1;33m,\u001b[0m \u001b[0mbuffer\u001b[0m\u001b[1;33m)\u001b[0m\u001b[1;33m\u001b[0m\u001b[1;33m\u001b[0m\u001b[0m\n\u001b[0m\u001b[0;32m   1275\u001b[0m         \u001b[1;32melse\u001b[0m\u001b[1;33m:\u001b[0m\u001b[1;33m\u001b[0m\u001b[1;33m\u001b[0m\u001b[0m\n\u001b[0;32m   1276\u001b[0m             \u001b[1;32mreturn\u001b[0m \u001b[0msuper\u001b[0m\u001b[1;33m(\u001b[0m\u001b[1;33m)\u001b[0m\u001b[1;33m.\u001b[0m\u001b[0mrecv_into\u001b[0m\u001b[1;33m(\u001b[0m\u001b[0mbuffer\u001b[0m\u001b[1;33m,\u001b[0m \u001b[0mnbytes\u001b[0m\u001b[1;33m,\u001b[0m \u001b[0mflags\u001b[0m\u001b[1;33m)\u001b[0m\u001b[1;33m\u001b[0m\u001b[1;33m\u001b[0m\u001b[0m\n",
      "\u001b[1;32m~\\anaconda3\\envs\\mytorch\\lib\\ssl.py\u001b[0m in \u001b[0;36mread\u001b[1;34m(self, len, buffer)\u001b[0m\n\u001b[0;32m   1128\u001b[0m         \u001b[1;32mtry\u001b[0m\u001b[1;33m:\u001b[0m\u001b[1;33m\u001b[0m\u001b[1;33m\u001b[0m\u001b[0m\n\u001b[0;32m   1129\u001b[0m             \u001b[1;32mif\u001b[0m \u001b[0mbuffer\u001b[0m \u001b[1;32mis\u001b[0m \u001b[1;32mnot\u001b[0m \u001b[1;32mNone\u001b[0m\u001b[1;33m:\u001b[0m\u001b[1;33m\u001b[0m\u001b[1;33m\u001b[0m\u001b[0m\n\u001b[1;32m-> 1130\u001b[1;33m                 \u001b[1;32mreturn\u001b[0m \u001b[0mself\u001b[0m\u001b[1;33m.\u001b[0m\u001b[0m_sslobj\u001b[0m\u001b[1;33m.\u001b[0m\u001b[0mread\u001b[0m\u001b[1;33m(\u001b[0m\u001b[0mlen\u001b[0m\u001b[1;33m,\u001b[0m \u001b[0mbuffer\u001b[0m\u001b[1;33m)\u001b[0m\u001b[1;33m\u001b[0m\u001b[1;33m\u001b[0m\u001b[0m\n\u001b[0m\u001b[0;32m   1131\u001b[0m             \u001b[1;32melse\u001b[0m\u001b[1;33m:\u001b[0m\u001b[1;33m\u001b[0m\u001b[1;33m\u001b[0m\u001b[0m\n\u001b[0;32m   1132\u001b[0m                 \u001b[1;32mreturn\u001b[0m \u001b[0mself\u001b[0m\u001b[1;33m.\u001b[0m\u001b[0m_sslobj\u001b[0m\u001b[1;33m.\u001b[0m\u001b[0mread\u001b[0m\u001b[1;33m(\u001b[0m\u001b[0mlen\u001b[0m\u001b[1;33m)\u001b[0m\u001b[1;33m\u001b[0m\u001b[1;33m\u001b[0m\u001b[0m\n",
      "\u001b[1;31mKeyboardInterrupt\u001b[0m: "
     ]
    }
   ],
   "source": [
    "train_dataset_0 = CustomDataset(train_img_paths, train_labels, resize_transform(224,'train'))\n",
    "train_loader_0 = DataLoader(train_dataset_0, batch_size = 32, shuffle=True, num_workers=0)\n",
    "\n",
    "val_dataset_0 = CustomDataset(val_img_paths, val_labels, resize_transform(224,'test'))\n",
    "val_loader_0 = DataLoader(val_dataset_0, batch_size=32, shuffle=False, num_workers=0)\n",
    "\n",
    "model_0 = BaseModel()\n",
    "optimizer_0 = torch.optim.Adam(params = model_0.parameters(), lr = CFG[\"LEARNING_RATE\"])\n",
    "scheduler_0 = lr_scheduler.MultiStepLR(optimizer_0, milestones=[10,20], gamma=0.5)\n",
    "infer_model_0 = train(model_0,num_epoch, optimizer_0, train_loader_0, val_loader_0, scheduler_0, device)"
   ]
  },
  {
   "cell_type": "code",
   "execution_count": 76,
   "id": "93e22e9a",
   "metadata": {},
   "outputs": [],
   "source": [
    "torch.save(infer_model_0,'weights/b0_32_30.pt')\n",
    "gc.collect()\n",
    "torch.cuda.empty_cache()"
   ]
  },
  {
   "cell_type": "code",
   "execution_count": 77,
   "id": "2659577f-d7ae-44a5-a077-d831af8dfdfb",
   "metadata": {
    "jupyter": {
     "outputs_hidden": true
    },
    "scrolled": true,
    "tags": []
   },
   "outputs": [
    {
     "data": {
      "application/vnd.jupyter.widget-view+json": {
       "model_id": "af0402cf6c9840d3ae154213a75b73e1",
       "version_major": 2,
       "version_minor": 0
      },
      "text/plain": [
       "  0%|          | 0/148 [00:00<?, ?it/s]"
      ]
     },
     "metadata": {},
     "output_type": "display_data"
    },
    {
     "data": {
      "application/vnd.jupyter.widget-view+json": {
       "model_id": "a9d8abcb1c3f44e5adbcf33e316a3c5f",
       "version_major": 2,
       "version_minor": 0
      },
      "text/plain": [
       "  0%|          | 0/37 [00:00<?, ?it/s]"
      ]
     },
     "metadata": {},
     "output_type": "display_data"
    },
    {
     "name": "stdout",
     "output_type": "stream",
     "text": [
      "Epoch [1], Train Loss : [2.86433] Val Loss : [1.99244] Val F1 Score : [0.31057]\n"
     ]
    },
    {
     "data": {
      "application/vnd.jupyter.widget-view+json": {
       "model_id": "caddf9c841bd48e38befe3bd794dcf9f",
       "version_major": 2,
       "version_minor": 0
      },
      "text/plain": [
       "  0%|          | 0/148 [00:00<?, ?it/s]"
      ]
     },
     "metadata": {},
     "output_type": "display_data"
    },
    {
     "data": {
      "application/vnd.jupyter.widget-view+json": {
       "model_id": "3dbbd5bbf91a40b3ba1cabc17a46f0a8",
       "version_major": 2,
       "version_minor": 0
      },
      "text/plain": [
       "  0%|          | 0/37 [00:00<?, ?it/s]"
      ]
     },
     "metadata": {},
     "output_type": "display_data"
    },
    {
     "name": "stdout",
     "output_type": "stream",
     "text": [
      "Epoch [2], Train Loss : [1.67252] Val Loss : [1.40388] Val F1 Score : [0.49893]\n"
     ]
    },
    {
     "data": {
      "application/vnd.jupyter.widget-view+json": {
       "model_id": "213d4f16eaec4c3896debd6573d673a3",
       "version_major": 2,
       "version_minor": 0
      },
      "text/plain": [
       "  0%|          | 0/148 [00:00<?, ?it/s]"
      ]
     },
     "metadata": {},
     "output_type": "display_data"
    },
    {
     "data": {
      "application/vnd.jupyter.widget-view+json": {
       "model_id": "0ba0ed3dc8b3498b8ecf9f0cba21b328",
       "version_major": 2,
       "version_minor": 0
      },
      "text/plain": [
       "  0%|          | 0/37 [00:00<?, ?it/s]"
      ]
     },
     "metadata": {},
     "output_type": "display_data"
    },
    {
     "name": "stdout",
     "output_type": "stream",
     "text": [
      "Epoch [3], Train Loss : [1.22175] Val Loss : [1.21196] Val F1 Score : [0.56305]\n"
     ]
    },
    {
     "data": {
      "application/vnd.jupyter.widget-view+json": {
       "model_id": "da6cc72b7c6a48729cf1d74a604ce3d7",
       "version_major": 2,
       "version_minor": 0
      },
      "text/plain": [
       "  0%|          | 0/148 [00:00<?, ?it/s]"
      ]
     },
     "metadata": {},
     "output_type": "display_data"
    },
    {
     "data": {
      "application/vnd.jupyter.widget-view+json": {
       "model_id": "a208ca3db21447b5aa71f3f7e1a8870a",
       "version_major": 2,
       "version_minor": 0
      },
      "text/plain": [
       "  0%|          | 0/37 [00:00<?, ?it/s]"
      ]
     },
     "metadata": {},
     "output_type": "display_data"
    },
    {
     "name": "stdout",
     "output_type": "stream",
     "text": [
      "Epoch [4], Train Loss : [0.95499] Val Loss : [1.12642] Val F1 Score : [0.58965]\n"
     ]
    },
    {
     "data": {
      "application/vnd.jupyter.widget-view+json": {
       "model_id": "1b36dd850616401290fdd851d2271a86",
       "version_major": 2,
       "version_minor": 0
      },
      "text/plain": [
       "  0%|          | 0/148 [00:00<?, ?it/s]"
      ]
     },
     "metadata": {},
     "output_type": "display_data"
    },
    {
     "data": {
      "application/vnd.jupyter.widget-view+json": {
       "model_id": "7b761cf513ea4cff9a72d3559fda5f01",
       "version_major": 2,
       "version_minor": 0
      },
      "text/plain": [
       "  0%|          | 0/37 [00:00<?, ?it/s]"
      ]
     },
     "metadata": {},
     "output_type": "display_data"
    },
    {
     "name": "stdout",
     "output_type": "stream",
     "text": [
      "Epoch [5], Train Loss : [0.79811] Val Loss : [1.06909] Val F1 Score : [0.61608]\n"
     ]
    },
    {
     "data": {
      "application/vnd.jupyter.widget-view+json": {
       "model_id": "c884c71188e34671899a9eb15a910459",
       "version_major": 2,
       "version_minor": 0
      },
      "text/plain": [
       "  0%|          | 0/148 [00:00<?, ?it/s]"
      ]
     },
     "metadata": {},
     "output_type": "display_data"
    },
    {
     "data": {
      "application/vnd.jupyter.widget-view+json": {
       "model_id": "714134b067d344a59418fc3726259d2c",
       "version_major": 2,
       "version_minor": 0
      },
      "text/plain": [
       "  0%|          | 0/37 [00:00<?, ?it/s]"
      ]
     },
     "metadata": {},
     "output_type": "display_data"
    },
    {
     "name": "stdout",
     "output_type": "stream",
     "text": [
      "Epoch [6], Train Loss : [0.69485] Val Loss : [1.03311] Val F1 Score : [0.64123]\n"
     ]
    },
    {
     "data": {
      "application/vnd.jupyter.widget-view+json": {
       "model_id": "429b589fe93448f89721f1b4c9d74da2",
       "version_major": 2,
       "version_minor": 0
      },
      "text/plain": [
       "  0%|          | 0/148 [00:00<?, ?it/s]"
      ]
     },
     "metadata": {},
     "output_type": "display_data"
    },
    {
     "data": {
      "application/vnd.jupyter.widget-view+json": {
       "model_id": "c2d182759d3b4d01bfee3c67443a122e",
       "version_major": 2,
       "version_minor": 0
      },
      "text/plain": [
       "  0%|          | 0/37 [00:00<?, ?it/s]"
      ]
     },
     "metadata": {},
     "output_type": "display_data"
    },
    {
     "name": "stdout",
     "output_type": "stream",
     "text": [
      "Epoch [7], Train Loss : [0.60306] Val Loss : [0.95537] Val F1 Score : [0.66869]\n"
     ]
    },
    {
     "data": {
      "application/vnd.jupyter.widget-view+json": {
       "model_id": "7eca714da3ee41eea5628e38d5ac2e45",
       "version_major": 2,
       "version_minor": 0
      },
      "text/plain": [
       "  0%|          | 0/148 [00:00<?, ?it/s]"
      ]
     },
     "metadata": {},
     "output_type": "display_data"
    },
    {
     "data": {
      "application/vnd.jupyter.widget-view+json": {
       "model_id": "f4bdfb51a78b4b92afe616f188af1dcd",
       "version_major": 2,
       "version_minor": 0
      },
      "text/plain": [
       "  0%|          | 0/37 [00:00<?, ?it/s]"
      ]
     },
     "metadata": {},
     "output_type": "display_data"
    },
    {
     "name": "stdout",
     "output_type": "stream",
     "text": [
      "Epoch [8], Train Loss : [0.51950] Val Loss : [0.98454] Val F1 Score : [0.66737]\n"
     ]
    },
    {
     "data": {
      "application/vnd.jupyter.widget-view+json": {
       "model_id": "2c5f7599cba940b9baf29b6ae8ea2c0f",
       "version_major": 2,
       "version_minor": 0
      },
      "text/plain": [
       "  0%|          | 0/148 [00:00<?, ?it/s]"
      ]
     },
     "metadata": {},
     "output_type": "display_data"
    },
    {
     "data": {
      "application/vnd.jupyter.widget-view+json": {
       "model_id": "10865e143aa34202bd594e5ef785958f",
       "version_major": 2,
       "version_minor": 0
      },
      "text/plain": [
       "  0%|          | 0/37 [00:00<?, ?it/s]"
      ]
     },
     "metadata": {},
     "output_type": "display_data"
    },
    {
     "name": "stdout",
     "output_type": "stream",
     "text": [
      "Epoch [9], Train Loss : [0.47799] Val Loss : [1.00903] Val F1 Score : [0.67572]\n"
     ]
    },
    {
     "data": {
      "application/vnd.jupyter.widget-view+json": {
       "model_id": "1422281a01d249dc84689af774f3166b",
       "version_major": 2,
       "version_minor": 0
      },
      "text/plain": [
       "  0%|          | 0/148 [00:00<?, ?it/s]"
      ]
     },
     "metadata": {},
     "output_type": "display_data"
    },
    {
     "data": {
      "application/vnd.jupyter.widget-view+json": {
       "model_id": "942b6a9cd2bf412592160ebc253dd0a8",
       "version_major": 2,
       "version_minor": 0
      },
      "text/plain": [
       "  0%|          | 0/37 [00:00<?, ?it/s]"
      ]
     },
     "metadata": {},
     "output_type": "display_data"
    },
    {
     "name": "stdout",
     "output_type": "stream",
     "text": [
      "Epoch [10], Train Loss : [0.43844] Val Loss : [1.07134] Val F1 Score : [0.64893]\n"
     ]
    },
    {
     "data": {
      "application/vnd.jupyter.widget-view+json": {
       "model_id": "2ce1508477ce41778cbd791f0f7133e6",
       "version_major": 2,
       "version_minor": 0
      },
      "text/plain": [
       "  0%|          | 0/148 [00:00<?, ?it/s]"
      ]
     },
     "metadata": {},
     "output_type": "display_data"
    },
    {
     "data": {
      "application/vnd.jupyter.widget-view+json": {
       "model_id": "c1b335854b37403fb6d6ac67407f6e49",
       "version_major": 2,
       "version_minor": 0
      },
      "text/plain": [
       "  0%|          | 0/37 [00:00<?, ?it/s]"
      ]
     },
     "metadata": {},
     "output_type": "display_data"
    },
    {
     "name": "stdout",
     "output_type": "stream",
     "text": [
      "Epoch [11], Train Loss : [0.32390] Val Loss : [0.93084] Val F1 Score : [0.70103]\n"
     ]
    },
    {
     "data": {
      "application/vnd.jupyter.widget-view+json": {
       "model_id": "d238d6a9d9ad4b8f915a0cff6b5608cc",
       "version_major": 2,
       "version_minor": 0
      },
      "text/plain": [
       "  0%|          | 0/148 [00:00<?, ?it/s]"
      ]
     },
     "metadata": {},
     "output_type": "display_data"
    },
    {
     "data": {
      "application/vnd.jupyter.widget-view+json": {
       "model_id": "8cabd67484fd443baba79fda7ad21433",
       "version_major": 2,
       "version_minor": 0
      },
      "text/plain": [
       "  0%|          | 0/37 [00:00<?, ?it/s]"
      ]
     },
     "metadata": {},
     "output_type": "display_data"
    },
    {
     "name": "stdout",
     "output_type": "stream",
     "text": [
      "Epoch [12], Train Loss : [0.26255] Val Loss : [0.94579] Val F1 Score : [0.70830]\n"
     ]
    },
    {
     "data": {
      "application/vnd.jupyter.widget-view+json": {
       "model_id": "acf7100519904f418595219abd095c0d",
       "version_major": 2,
       "version_minor": 0
      },
      "text/plain": [
       "  0%|          | 0/148 [00:00<?, ?it/s]"
      ]
     },
     "metadata": {},
     "output_type": "display_data"
    },
    {
     "data": {
      "application/vnd.jupyter.widget-view+json": {
       "model_id": "068a5e203e0345028639cda80c8b16e3",
       "version_major": 2,
       "version_minor": 0
      },
      "text/plain": [
       "  0%|          | 0/37 [00:00<?, ?it/s]"
      ]
     },
     "metadata": {},
     "output_type": "display_data"
    },
    {
     "name": "stdout",
     "output_type": "stream",
     "text": [
      "Epoch [13], Train Loss : [0.26448] Val Loss : [0.94592] Val F1 Score : [0.69609]\n"
     ]
    },
    {
     "data": {
      "application/vnd.jupyter.widget-view+json": {
       "model_id": "a621d2e9940c44c9ae0806d8ad96e882",
       "version_major": 2,
       "version_minor": 0
      },
      "text/plain": [
       "  0%|          | 0/148 [00:00<?, ?it/s]"
      ]
     },
     "metadata": {},
     "output_type": "display_data"
    },
    {
     "data": {
      "application/vnd.jupyter.widget-view+json": {
       "model_id": "f171050da3234d4f92f4912f85825d85",
       "version_major": 2,
       "version_minor": 0
      },
      "text/plain": [
       "  0%|          | 0/37 [00:00<?, ?it/s]"
      ]
     },
     "metadata": {},
     "output_type": "display_data"
    },
    {
     "name": "stdout",
     "output_type": "stream",
     "text": [
      "Epoch [14], Train Loss : [0.23658] Val Loss : [0.93292] Val F1 Score : [0.70796]\n"
     ]
    },
    {
     "data": {
      "application/vnd.jupyter.widget-view+json": {
       "model_id": "e4e437c59fb24195843f9ec95c5f265e",
       "version_major": 2,
       "version_minor": 0
      },
      "text/plain": [
       "  0%|          | 0/148 [00:00<?, ?it/s]"
      ]
     },
     "metadata": {},
     "output_type": "display_data"
    },
    {
     "data": {
      "application/vnd.jupyter.widget-view+json": {
       "model_id": "655ce606a41e4ca2893c012fd356841a",
       "version_major": 2,
       "version_minor": 0
      },
      "text/plain": [
       "  0%|          | 0/37 [00:00<?, ?it/s]"
      ]
     },
     "metadata": {},
     "output_type": "display_data"
    },
    {
     "name": "stdout",
     "output_type": "stream",
     "text": [
      "Epoch [15], Train Loss : [0.20293] Val Loss : [0.94833] Val F1 Score : [0.70960]\n"
     ]
    },
    {
     "data": {
      "application/vnd.jupyter.widget-view+json": {
       "model_id": "0f70afba001b4536806aa1420f8bd6e0",
       "version_major": 2,
       "version_minor": 0
      },
      "text/plain": [
       "  0%|          | 0/148 [00:00<?, ?it/s]"
      ]
     },
     "metadata": {},
     "output_type": "display_data"
    },
    {
     "data": {
      "application/vnd.jupyter.widget-view+json": {
       "model_id": "3874cb2ad9fe4682a00bda5089d61dfb",
       "version_major": 2,
       "version_minor": 0
      },
      "text/plain": [
       "  0%|          | 0/37 [00:00<?, ?it/s]"
      ]
     },
     "metadata": {},
     "output_type": "display_data"
    },
    {
     "name": "stdout",
     "output_type": "stream",
     "text": [
      "Epoch [16], Train Loss : [0.17906] Val Loss : [0.92146] Val F1 Score : [0.71044]\n"
     ]
    },
    {
     "data": {
      "application/vnd.jupyter.widget-view+json": {
       "model_id": "7afc5f4d5cda4faba7accf6a57b7f260",
       "version_major": 2,
       "version_minor": 0
      },
      "text/plain": [
       "  0%|          | 0/148 [00:00<?, ?it/s]"
      ]
     },
     "metadata": {},
     "output_type": "display_data"
    },
    {
     "data": {
      "application/vnd.jupyter.widget-view+json": {
       "model_id": "51e156d83ebb4095b9425b9826f15741",
       "version_major": 2,
       "version_minor": 0
      },
      "text/plain": [
       "  0%|          | 0/37 [00:00<?, ?it/s]"
      ]
     },
     "metadata": {},
     "output_type": "display_data"
    },
    {
     "name": "stdout",
     "output_type": "stream",
     "text": [
      "Epoch [17], Train Loss : [0.17759] Val Loss : [0.98141] Val F1 Score : [0.70534]\n"
     ]
    },
    {
     "data": {
      "application/vnd.jupyter.widget-view+json": {
       "model_id": "39e129175a1f46728dff34f05ed6e535",
       "version_major": 2,
       "version_minor": 0
      },
      "text/plain": [
       "  0%|          | 0/148 [00:00<?, ?it/s]"
      ]
     },
     "metadata": {},
     "output_type": "display_data"
    },
    {
     "data": {
      "application/vnd.jupyter.widget-view+json": {
       "model_id": "d849ab9c22f343d796f0ea405280426e",
       "version_major": 2,
       "version_minor": 0
      },
      "text/plain": [
       "  0%|          | 0/37 [00:00<?, ?it/s]"
      ]
     },
     "metadata": {},
     "output_type": "display_data"
    },
    {
     "name": "stdout",
     "output_type": "stream",
     "text": [
      "Epoch [18], Train Loss : [0.16463] Val Loss : [0.94423] Val F1 Score : [0.71908]\n"
     ]
    },
    {
     "data": {
      "application/vnd.jupyter.widget-view+json": {
       "model_id": "ff429a1ad25646198613f28200ab8f2e",
       "version_major": 2,
       "version_minor": 0
      },
      "text/plain": [
       "  0%|          | 0/148 [00:00<?, ?it/s]"
      ]
     },
     "metadata": {},
     "output_type": "display_data"
    },
    {
     "data": {
      "application/vnd.jupyter.widget-view+json": {
       "model_id": "f689352075ce4feda35a11976e99177b",
       "version_major": 2,
       "version_minor": 0
      },
      "text/plain": [
       "  0%|          | 0/37 [00:00<?, ?it/s]"
      ]
     },
     "metadata": {},
     "output_type": "display_data"
    },
    {
     "name": "stdout",
     "output_type": "stream",
     "text": [
      "Epoch [19], Train Loss : [0.16075] Val Loss : [0.94291] Val F1 Score : [0.72070]\n"
     ]
    },
    {
     "data": {
      "application/vnd.jupyter.widget-view+json": {
       "model_id": "1170218dc4104dfc9bf061e66da902b7",
       "version_major": 2,
       "version_minor": 0
      },
      "text/plain": [
       "  0%|          | 0/148 [00:00<?, ?it/s]"
      ]
     },
     "metadata": {},
     "output_type": "display_data"
    },
    {
     "data": {
      "application/vnd.jupyter.widget-view+json": {
       "model_id": "bcfc8d6525eb48829f88e81ff102f328",
       "version_major": 2,
       "version_minor": 0
      },
      "text/plain": [
       "  0%|          | 0/37 [00:00<?, ?it/s]"
      ]
     },
     "metadata": {},
     "output_type": "display_data"
    },
    {
     "name": "stdout",
     "output_type": "stream",
     "text": [
      "Epoch [20], Train Loss : [0.15083] Val Loss : [1.01654] Val F1 Score : [0.69910]\n"
     ]
    },
    {
     "data": {
      "application/vnd.jupyter.widget-view+json": {
       "model_id": "9a38085206224fe891aa221cdae2b05f",
       "version_major": 2,
       "version_minor": 0
      },
      "text/plain": [
       "  0%|          | 0/148 [00:00<?, ?it/s]"
      ]
     },
     "metadata": {},
     "output_type": "display_data"
    },
    {
     "data": {
      "application/vnd.jupyter.widget-view+json": {
       "model_id": "e489c1a8f2c540519fd768bd9fd4d311",
       "version_major": 2,
       "version_minor": 0
      },
      "text/plain": [
       "  0%|          | 0/37 [00:00<?, ?it/s]"
      ]
     },
     "metadata": {},
     "output_type": "display_data"
    },
    {
     "name": "stdout",
     "output_type": "stream",
     "text": [
      "Epoch [21], Train Loss : [0.12245] Val Loss : [0.96108] Val F1 Score : [0.71936]\n"
     ]
    },
    {
     "data": {
      "application/vnd.jupyter.widget-view+json": {
       "model_id": "74eb8d3713dc45dbab797083c7ef3da3",
       "version_major": 2,
       "version_minor": 0
      },
      "text/plain": [
       "  0%|          | 0/148 [00:00<?, ?it/s]"
      ]
     },
     "metadata": {},
     "output_type": "display_data"
    },
    {
     "data": {
      "application/vnd.jupyter.widget-view+json": {
       "model_id": "30dd31471d234b5da12521383340420c",
       "version_major": 2,
       "version_minor": 0
      },
      "text/plain": [
       "  0%|          | 0/37 [00:00<?, ?it/s]"
      ]
     },
     "metadata": {},
     "output_type": "display_data"
    },
    {
     "name": "stdout",
     "output_type": "stream",
     "text": [
      "Epoch [22], Train Loss : [0.10746] Val Loss : [0.97904] Val F1 Score : [0.70149]\n"
     ]
    },
    {
     "data": {
      "application/vnd.jupyter.widget-view+json": {
       "model_id": "d7e5d9c16dcf4aa2aeedd7b94a598029",
       "version_major": 2,
       "version_minor": 0
      },
      "text/plain": [
       "  0%|          | 0/148 [00:00<?, ?it/s]"
      ]
     },
     "metadata": {},
     "output_type": "display_data"
    },
    {
     "data": {
      "application/vnd.jupyter.widget-view+json": {
       "model_id": "b67d196099e34c378fa5281d9a618b35",
       "version_major": 2,
       "version_minor": 0
      },
      "text/plain": [
       "  0%|          | 0/37 [00:00<?, ?it/s]"
      ]
     },
     "metadata": {},
     "output_type": "display_data"
    },
    {
     "name": "stdout",
     "output_type": "stream",
     "text": [
      "Epoch [23], Train Loss : [0.10572] Val Loss : [0.97803] Val F1 Score : [0.70993]\n"
     ]
    },
    {
     "data": {
      "application/vnd.jupyter.widget-view+json": {
       "model_id": "a4e3954eae1f44db9972ab4835e7b8c7",
       "version_major": 2,
       "version_minor": 0
      },
      "text/plain": [
       "  0%|          | 0/148 [00:00<?, ?it/s]"
      ]
     },
     "metadata": {},
     "output_type": "display_data"
    },
    {
     "data": {
      "application/vnd.jupyter.widget-view+json": {
       "model_id": "0c06551287d144ff8faf9c9149af72f0",
       "version_major": 2,
       "version_minor": 0
      },
      "text/plain": [
       "  0%|          | 0/37 [00:00<?, ?it/s]"
      ]
     },
     "metadata": {},
     "output_type": "display_data"
    },
    {
     "name": "stdout",
     "output_type": "stream",
     "text": [
      "Epoch [24], Train Loss : [0.10125] Val Loss : [0.96736] Val F1 Score : [0.72027]\n"
     ]
    },
    {
     "data": {
      "application/vnd.jupyter.widget-view+json": {
       "model_id": "26471415cbdc4dabad8d86ec2ae97d3b",
       "version_major": 2,
       "version_minor": 0
      },
      "text/plain": [
       "  0%|          | 0/148 [00:00<?, ?it/s]"
      ]
     },
     "metadata": {},
     "output_type": "display_data"
    },
    {
     "data": {
      "application/vnd.jupyter.widget-view+json": {
       "model_id": "fc39bafbc4eb4359be5b6b6998434e55",
       "version_major": 2,
       "version_minor": 0
      },
      "text/plain": [
       "  0%|          | 0/37 [00:00<?, ?it/s]"
      ]
     },
     "metadata": {},
     "output_type": "display_data"
    },
    {
     "name": "stdout",
     "output_type": "stream",
     "text": [
      "Epoch [25], Train Loss : [0.11162] Val Loss : [0.93451] Val F1 Score : [0.72733]\n"
     ]
    },
    {
     "data": {
      "application/vnd.jupyter.widget-view+json": {
       "model_id": "a256eb3c2d82404cafaf497d7bf63dd3",
       "version_major": 2,
       "version_minor": 0
      },
      "text/plain": [
       "  0%|          | 0/148 [00:00<?, ?it/s]"
      ]
     },
     "metadata": {},
     "output_type": "display_data"
    },
    {
     "data": {
      "application/vnd.jupyter.widget-view+json": {
       "model_id": "1b2c74d674b54454a75e60a786d4cf7c",
       "version_major": 2,
       "version_minor": 0
      },
      "text/plain": [
       "  0%|          | 0/37 [00:00<?, ?it/s]"
      ]
     },
     "metadata": {},
     "output_type": "display_data"
    },
    {
     "name": "stdout",
     "output_type": "stream",
     "text": [
      "Epoch [26], Train Loss : [0.09709] Val Loss : [0.94990] Val F1 Score : [0.73513]\n"
     ]
    },
    {
     "data": {
      "application/vnd.jupyter.widget-view+json": {
       "model_id": "1322fcea37594ab68a7efb1f4e859f51",
       "version_major": 2,
       "version_minor": 0
      },
      "text/plain": [
       "  0%|          | 0/148 [00:00<?, ?it/s]"
      ]
     },
     "metadata": {},
     "output_type": "display_data"
    },
    {
     "data": {
      "application/vnd.jupyter.widget-view+json": {
       "model_id": "6afd4f5b1aef4dffbe4b00e19f16a8ae",
       "version_major": 2,
       "version_minor": 0
      },
      "text/plain": [
       "  0%|          | 0/37 [00:00<?, ?it/s]"
      ]
     },
     "metadata": {},
     "output_type": "display_data"
    },
    {
     "name": "stdout",
     "output_type": "stream",
     "text": [
      "Epoch [27], Train Loss : [0.08806] Val Loss : [0.95070] Val F1 Score : [0.72676]\n"
     ]
    },
    {
     "data": {
      "application/vnd.jupyter.widget-view+json": {
       "model_id": "f72f3b35a3d74c8d9aaeda84bc2f3e2e",
       "version_major": 2,
       "version_minor": 0
      },
      "text/plain": [
       "  0%|          | 0/148 [00:00<?, ?it/s]"
      ]
     },
     "metadata": {},
     "output_type": "display_data"
    },
    {
     "data": {
      "application/vnd.jupyter.widget-view+json": {
       "model_id": "c177771d80f24c958ff5cab79125751b",
       "version_major": 2,
       "version_minor": 0
      },
      "text/plain": [
       "  0%|          | 0/37 [00:00<?, ?it/s]"
      ]
     },
     "metadata": {},
     "output_type": "display_data"
    },
    {
     "name": "stdout",
     "output_type": "stream",
     "text": [
      "Epoch [28], Train Loss : [0.08901] Val Loss : [0.94382] Val F1 Score : [0.72633]\n"
     ]
    },
    {
     "data": {
      "application/vnd.jupyter.widget-view+json": {
       "model_id": "c7bf26c7355a4eb59ebd0fd2ff529cf6",
       "version_major": 2,
       "version_minor": 0
      },
      "text/plain": [
       "  0%|          | 0/148 [00:00<?, ?it/s]"
      ]
     },
     "metadata": {},
     "output_type": "display_data"
    },
    {
     "data": {
      "application/vnd.jupyter.widget-view+json": {
       "model_id": "8ecaa88c004b4122a5e1c5d2a2bd0bd4",
       "version_major": 2,
       "version_minor": 0
      },
      "text/plain": [
       "  0%|          | 0/37 [00:00<?, ?it/s]"
      ]
     },
     "metadata": {},
     "output_type": "display_data"
    },
    {
     "name": "stdout",
     "output_type": "stream",
     "text": [
      "Epoch [29], Train Loss : [0.09446] Val Loss : [0.96864] Val F1 Score : [0.74452]\n"
     ]
    },
    {
     "data": {
      "application/vnd.jupyter.widget-view+json": {
       "model_id": "3e83de93fee04aaa961beb9de806e529",
       "version_major": 2,
       "version_minor": 0
      },
      "text/plain": [
       "  0%|          | 0/148 [00:00<?, ?it/s]"
      ]
     },
     "metadata": {},
     "output_type": "display_data"
    },
    {
     "data": {
      "application/vnd.jupyter.widget-view+json": {
       "model_id": "75c5a5974a1144ae954948f748d9d2ef",
       "version_major": 2,
       "version_minor": 0
      },
      "text/plain": [
       "  0%|          | 0/37 [00:00<?, ?it/s]"
      ]
     },
     "metadata": {},
     "output_type": "display_data"
    },
    {
     "name": "stdout",
     "output_type": "stream",
     "text": [
      "Epoch [30], Train Loss : [0.09075] Val Loss : [1.01470] Val F1 Score : [0.71360]\n"
     ]
    }
   ],
   "source": [
    "#0.76917 batch:16, epoch:30, LR: [10,20]\n",
    "#0.73733 batch:8, epoch:30, LR: [9,18,27]\n",
    "train_dataset_1 = CustomDataset(train_img_paths, train_labels, resize_transform(256,'train'))\n",
    "train_loader_1 = DataLoader(train_dataset_1, batch_size = 32, shuffle=True, num_workers=0)\n",
    "\n",
    "val_dataset_1 = CustomDataset(val_img_paths, val_labels, resize_transform(256,'test'))\n",
    "val_loader_1 = DataLoader(val_dataset_1, batch_size=32, shuffle=False, num_workers=0)\n",
    "\n",
    "model_1 = EfficientNet_B1()\n",
    "optimizer_1 = torch.optim.Adam(params = model_1.parameters(), lr = CFG[\"LEARNING_RATE\"])\n",
    "scheduler_1 = lr_scheduler.MultiStepLR(optimizer_1, milestones=[10,20], gamma=0.5)\n",
    "infer_model_1 = train(model_1, num_epoch, optimizer_1, train_loader_1, val_loader_1, scheduler_1, device)"
   ]
  },
  {
   "cell_type": "code",
   "execution_count": 78,
   "id": "be372c99",
   "metadata": {},
   "outputs": [],
   "source": [
    "torch.save(infer_model_1,'weights/b1_32_30.pt')\n",
    "gc.collect()\n",
    "torch.cuda.empty_cache()"
   ]
  },
  {
   "cell_type": "code",
   "execution_count": 79,
   "id": "2656543f-2425-410a-b9f1-a675415f5207",
   "metadata": {
    "jupyter": {
     "outputs_hidden": true
    },
    "scrolled": true,
    "tags": []
   },
   "outputs": [
    {
     "data": {
      "application/vnd.jupyter.widget-view+json": {
       "model_id": "a146934b1e464fa8a7f780324b69eff0",
       "version_major": 2,
       "version_minor": 0
      },
      "text/plain": [
       "  0%|          | 0/148 [00:00<?, ?it/s]"
      ]
     },
     "metadata": {},
     "output_type": "display_data"
    },
    {
     "data": {
      "application/vnd.jupyter.widget-view+json": {
       "model_id": "47702cdc1f8b4dbf8d8c92723de59ab9",
       "version_major": 2,
       "version_minor": 0
      },
      "text/plain": [
       "  0%|          | 0/37 [00:00<?, ?it/s]"
      ]
     },
     "metadata": {},
     "output_type": "display_data"
    },
    {
     "name": "stdout",
     "output_type": "stream",
     "text": [
      "Epoch [1], Train Loss : [2.84091] Val Loss : [1.93657] Val F1 Score : [0.31513]\n"
     ]
    },
    {
     "data": {
      "application/vnd.jupyter.widget-view+json": {
       "model_id": "4fba2d41255d4572a61679f0d589caf2",
       "version_major": 2,
       "version_minor": 0
      },
      "text/plain": [
       "  0%|          | 0/148 [00:00<?, ?it/s]"
      ]
     },
     "metadata": {},
     "output_type": "display_data"
    },
    {
     "data": {
      "application/vnd.jupyter.widget-view+json": {
       "model_id": "c7dda7d784d641b696df50c583c5af17",
       "version_major": 2,
       "version_minor": 0
      },
      "text/plain": [
       "  0%|          | 0/37 [00:00<?, ?it/s]"
      ]
     },
     "metadata": {},
     "output_type": "display_data"
    },
    {
     "name": "stdout",
     "output_type": "stream",
     "text": [
      "Epoch [2], Train Loss : [1.64862] Val Loss : [1.42578] Val F1 Score : [0.47108]\n"
     ]
    },
    {
     "data": {
      "application/vnd.jupyter.widget-view+json": {
       "model_id": "ab4f1379c6bd408e91224c229121540a",
       "version_major": 2,
       "version_minor": 0
      },
      "text/plain": [
       "  0%|          | 0/148 [00:00<?, ?it/s]"
      ]
     },
     "metadata": {},
     "output_type": "display_data"
    },
    {
     "data": {
      "application/vnd.jupyter.widget-view+json": {
       "model_id": "e7f42211c4b74f49863c2d8f463f3264",
       "version_major": 2,
       "version_minor": 0
      },
      "text/plain": [
       "  0%|          | 0/37 [00:00<?, ?it/s]"
      ]
     },
     "metadata": {},
     "output_type": "display_data"
    },
    {
     "name": "stdout",
     "output_type": "stream",
     "text": [
      "Epoch [3], Train Loss : [1.19200] Val Loss : [1.24434] Val F1 Score : [0.56843]\n"
     ]
    },
    {
     "data": {
      "application/vnd.jupyter.widget-view+json": {
       "model_id": "665012415c704c1a97b9ea6d881f98ba",
       "version_major": 2,
       "version_minor": 0
      },
      "text/plain": [
       "  0%|          | 0/148 [00:00<?, ?it/s]"
      ]
     },
     "metadata": {},
     "output_type": "display_data"
    },
    {
     "data": {
      "application/vnd.jupyter.widget-view+json": {
       "model_id": "418c295fac204dab8b6bc8a05c3c5b24",
       "version_major": 2,
       "version_minor": 0
      },
      "text/plain": [
       "  0%|          | 0/37 [00:00<?, ?it/s]"
      ]
     },
     "metadata": {},
     "output_type": "display_data"
    },
    {
     "name": "stdout",
     "output_type": "stream",
     "text": [
      "Epoch [4], Train Loss : [0.98051] Val Loss : [1.08336] Val F1 Score : [0.62683]\n"
     ]
    },
    {
     "data": {
      "application/vnd.jupyter.widget-view+json": {
       "model_id": "eecb835fb9a24dae94922199a72d378e",
       "version_major": 2,
       "version_minor": 0
      },
      "text/plain": [
       "  0%|          | 0/148 [00:00<?, ?it/s]"
      ]
     },
     "metadata": {},
     "output_type": "display_data"
    },
    {
     "data": {
      "application/vnd.jupyter.widget-view+json": {
       "model_id": "7e94420992d9448cb4bdef0efbc4865c",
       "version_major": 2,
       "version_minor": 0
      },
      "text/plain": [
       "  0%|          | 0/37 [00:00<?, ?it/s]"
      ]
     },
     "metadata": {},
     "output_type": "display_data"
    },
    {
     "name": "stdout",
     "output_type": "stream",
     "text": [
      "Epoch [5], Train Loss : [0.79707] Val Loss : [1.01485] Val F1 Score : [0.64318]\n"
     ]
    },
    {
     "data": {
      "application/vnd.jupyter.widget-view+json": {
       "model_id": "fed0fc9c6c674ab1be1f6588ccfdb585",
       "version_major": 2,
       "version_minor": 0
      },
      "text/plain": [
       "  0%|          | 0/148 [00:00<?, ?it/s]"
      ]
     },
     "metadata": {},
     "output_type": "display_data"
    },
    {
     "data": {
      "application/vnd.jupyter.widget-view+json": {
       "model_id": "0098c7d6e7024a749f24b7af2fbd5ad7",
       "version_major": 2,
       "version_minor": 0
      },
      "text/plain": [
       "  0%|          | 0/37 [00:00<?, ?it/s]"
      ]
     },
     "metadata": {},
     "output_type": "display_data"
    },
    {
     "name": "stdout",
     "output_type": "stream",
     "text": [
      "Epoch [6], Train Loss : [0.65105] Val Loss : [1.01123] Val F1 Score : [0.66262]\n"
     ]
    },
    {
     "data": {
      "application/vnd.jupyter.widget-view+json": {
       "model_id": "35a3e7ac151244659993ffd037923716",
       "version_major": 2,
       "version_minor": 0
      },
      "text/plain": [
       "  0%|          | 0/148 [00:00<?, ?it/s]"
      ]
     },
     "metadata": {},
     "output_type": "display_data"
    },
    {
     "data": {
      "application/vnd.jupyter.widget-view+json": {
       "model_id": "7920ed7d89ca4be6bf63a87b9b57eb5f",
       "version_major": 2,
       "version_minor": 0
      },
      "text/plain": [
       "  0%|          | 0/37 [00:00<?, ?it/s]"
      ]
     },
     "metadata": {},
     "output_type": "display_data"
    },
    {
     "name": "stdout",
     "output_type": "stream",
     "text": [
      "Epoch [7], Train Loss : [0.56123] Val Loss : [0.99846] Val F1 Score : [0.66938]\n"
     ]
    },
    {
     "data": {
      "application/vnd.jupyter.widget-view+json": {
       "model_id": "5a3d73daae554fc884a73451acd7c85b",
       "version_major": 2,
       "version_minor": 0
      },
      "text/plain": [
       "  0%|          | 0/148 [00:00<?, ?it/s]"
      ]
     },
     "metadata": {},
     "output_type": "display_data"
    },
    {
     "data": {
      "application/vnd.jupyter.widget-view+json": {
       "model_id": "83cf7b9f75f14b909f5689eb7bc6b10f",
       "version_major": 2,
       "version_minor": 0
      },
      "text/plain": [
       "  0%|          | 0/37 [00:00<?, ?it/s]"
      ]
     },
     "metadata": {},
     "output_type": "display_data"
    },
    {
     "name": "stdout",
     "output_type": "stream",
     "text": [
      "Epoch [8], Train Loss : [0.48988] Val Loss : [1.06386] Val F1 Score : [0.67323]\n"
     ]
    },
    {
     "data": {
      "application/vnd.jupyter.widget-view+json": {
       "model_id": "04ad9144ee3447469555880f78fd785c",
       "version_major": 2,
       "version_minor": 0
      },
      "text/plain": [
       "  0%|          | 0/148 [00:00<?, ?it/s]"
      ]
     },
     "metadata": {},
     "output_type": "display_data"
    },
    {
     "data": {
      "application/vnd.jupyter.widget-view+json": {
       "model_id": "320d723ee3244ccaa1df429db396672b",
       "version_major": 2,
       "version_minor": 0
      },
      "text/plain": [
       "  0%|          | 0/37 [00:00<?, ?it/s]"
      ]
     },
     "metadata": {},
     "output_type": "display_data"
    },
    {
     "name": "stdout",
     "output_type": "stream",
     "text": [
      "Epoch [9], Train Loss : [0.46574] Val Loss : [1.03603] Val F1 Score : [0.69025]\n"
     ]
    },
    {
     "data": {
      "application/vnd.jupyter.widget-view+json": {
       "model_id": "84803d9fe83f4359998641397f9b77b5",
       "version_major": 2,
       "version_minor": 0
      },
      "text/plain": [
       "  0%|          | 0/148 [00:00<?, ?it/s]"
      ]
     },
     "metadata": {},
     "output_type": "display_data"
    },
    {
     "data": {
      "application/vnd.jupyter.widget-view+json": {
       "model_id": "bbf8661068c8465a8db4692e49ee3323",
       "version_major": 2,
       "version_minor": 0
      },
      "text/plain": [
       "  0%|          | 0/37 [00:00<?, ?it/s]"
      ]
     },
     "metadata": {},
     "output_type": "display_data"
    },
    {
     "name": "stdout",
     "output_type": "stream",
     "text": [
      "Epoch [10], Train Loss : [0.40618] Val Loss : [1.00115] Val F1 Score : [0.69509]\n"
     ]
    },
    {
     "data": {
      "application/vnd.jupyter.widget-view+json": {
       "model_id": "b4ae6b429d484080ac55717434987ddf",
       "version_major": 2,
       "version_minor": 0
      },
      "text/plain": [
       "  0%|          | 0/148 [00:00<?, ?it/s]"
      ]
     },
     "metadata": {},
     "output_type": "display_data"
    },
    {
     "data": {
      "application/vnd.jupyter.widget-view+json": {
       "model_id": "7c9b606a5910492882b7a9c9682ba827",
       "version_major": 2,
       "version_minor": 0
      },
      "text/plain": [
       "  0%|          | 0/37 [00:00<?, ?it/s]"
      ]
     },
     "metadata": {},
     "output_type": "display_data"
    },
    {
     "name": "stdout",
     "output_type": "stream",
     "text": [
      "Epoch [11], Train Loss : [0.31095] Val Loss : [0.92462] Val F1 Score : [0.71284]\n"
     ]
    },
    {
     "data": {
      "application/vnd.jupyter.widget-view+json": {
       "model_id": "fbaf54b0a9ef4f509e0a6501068b5271",
       "version_major": 2,
       "version_minor": 0
      },
      "text/plain": [
       "  0%|          | 0/148 [00:00<?, ?it/s]"
      ]
     },
     "metadata": {},
     "output_type": "display_data"
    },
    {
     "data": {
      "application/vnd.jupyter.widget-view+json": {
       "model_id": "766955e210c34e24abf3d8d11f820b5a",
       "version_major": 2,
       "version_minor": 0
      },
      "text/plain": [
       "  0%|          | 0/37 [00:00<?, ?it/s]"
      ]
     },
     "metadata": {},
     "output_type": "display_data"
    },
    {
     "name": "stdout",
     "output_type": "stream",
     "text": [
      "Epoch [12], Train Loss : [0.25567] Val Loss : [0.87565] Val F1 Score : [0.71627]\n"
     ]
    },
    {
     "data": {
      "application/vnd.jupyter.widget-view+json": {
       "model_id": "b273fb75173142b79aec4392eff6a9dc",
       "version_major": 2,
       "version_minor": 0
      },
      "text/plain": [
       "  0%|          | 0/148 [00:00<?, ?it/s]"
      ]
     },
     "metadata": {},
     "output_type": "display_data"
    },
    {
     "data": {
      "application/vnd.jupyter.widget-view+json": {
       "model_id": "d7d586a8681e4abfa8595eb02d7b7f75",
       "version_major": 2,
       "version_minor": 0
      },
      "text/plain": [
       "  0%|          | 0/37 [00:00<?, ?it/s]"
      ]
     },
     "metadata": {},
     "output_type": "display_data"
    },
    {
     "name": "stdout",
     "output_type": "stream",
     "text": [
      "Epoch [13], Train Loss : [0.19559] Val Loss : [0.87135] Val F1 Score : [0.73637]\n"
     ]
    },
    {
     "data": {
      "application/vnd.jupyter.widget-view+json": {
       "model_id": "bf291cb035f84274b73059bda1e5d65d",
       "version_major": 2,
       "version_minor": 0
      },
      "text/plain": [
       "  0%|          | 0/148 [00:00<?, ?it/s]"
      ]
     },
     "metadata": {},
     "output_type": "display_data"
    },
    {
     "data": {
      "application/vnd.jupyter.widget-view+json": {
       "model_id": "f48d736a871c456598798221c35efa36",
       "version_major": 2,
       "version_minor": 0
      },
      "text/plain": [
       "  0%|          | 0/37 [00:00<?, ?it/s]"
      ]
     },
     "metadata": {},
     "output_type": "display_data"
    },
    {
     "name": "stdout",
     "output_type": "stream",
     "text": [
      "Epoch [14], Train Loss : [0.17889] Val Loss : [0.88735] Val F1 Score : [0.74174]\n"
     ]
    },
    {
     "data": {
      "application/vnd.jupyter.widget-view+json": {
       "model_id": "8d7d8cbeb03241a0b2727afe8d45c134",
       "version_major": 2,
       "version_minor": 0
      },
      "text/plain": [
       "  0%|          | 0/148 [00:00<?, ?it/s]"
      ]
     },
     "metadata": {},
     "output_type": "display_data"
    },
    {
     "data": {
      "application/vnd.jupyter.widget-view+json": {
       "model_id": "bb0f0bf1c4a54b3f844d66d95c826c40",
       "version_major": 2,
       "version_minor": 0
      },
      "text/plain": [
       "  0%|          | 0/37 [00:00<?, ?it/s]"
      ]
     },
     "metadata": {},
     "output_type": "display_data"
    },
    {
     "name": "stdout",
     "output_type": "stream",
     "text": [
      "Epoch [15], Train Loss : [0.19776] Val Loss : [0.87272] Val F1 Score : [0.73257]\n"
     ]
    },
    {
     "data": {
      "application/vnd.jupyter.widget-view+json": {
       "model_id": "c3095ae795ba4ca7a50f3169c6acd8d2",
       "version_major": 2,
       "version_minor": 0
      },
      "text/plain": [
       "  0%|          | 0/148 [00:00<?, ?it/s]"
      ]
     },
     "metadata": {},
     "output_type": "display_data"
    },
    {
     "data": {
      "application/vnd.jupyter.widget-view+json": {
       "model_id": "524363ac1f22473f9bd5aed851f81c88",
       "version_major": 2,
       "version_minor": 0
      },
      "text/plain": [
       "  0%|          | 0/37 [00:00<?, ?it/s]"
      ]
     },
     "metadata": {},
     "output_type": "display_data"
    },
    {
     "name": "stdout",
     "output_type": "stream",
     "text": [
      "Epoch [16], Train Loss : [0.15405] Val Loss : [0.88796] Val F1 Score : [0.75005]\n"
     ]
    },
    {
     "data": {
      "application/vnd.jupyter.widget-view+json": {
       "model_id": "458f9082d54f44a5a0a6e84fecbb33df",
       "version_major": 2,
       "version_minor": 0
      },
      "text/plain": [
       "  0%|          | 0/148 [00:00<?, ?it/s]"
      ]
     },
     "metadata": {},
     "output_type": "display_data"
    },
    {
     "data": {
      "application/vnd.jupyter.widget-view+json": {
       "model_id": "2e6d41abc2b4427e80b057bc63ea5513",
       "version_major": 2,
       "version_minor": 0
      },
      "text/plain": [
       "  0%|          | 0/37 [00:00<?, ?it/s]"
      ]
     },
     "metadata": {},
     "output_type": "display_data"
    },
    {
     "name": "stdout",
     "output_type": "stream",
     "text": [
      "Epoch [17], Train Loss : [0.15535] Val Loss : [0.91011] Val F1 Score : [0.75121]\n"
     ]
    },
    {
     "data": {
      "application/vnd.jupyter.widget-view+json": {
       "model_id": "d8815812817e4a18b30489ab6c587f2c",
       "version_major": 2,
       "version_minor": 0
      },
      "text/plain": [
       "  0%|          | 0/148 [00:00<?, ?it/s]"
      ]
     },
     "metadata": {},
     "output_type": "display_data"
    },
    {
     "data": {
      "application/vnd.jupyter.widget-view+json": {
       "model_id": "c9a53ab1766a49f49f983546be5eb79c",
       "version_major": 2,
       "version_minor": 0
      },
      "text/plain": [
       "  0%|          | 0/37 [00:00<?, ?it/s]"
      ]
     },
     "metadata": {},
     "output_type": "display_data"
    },
    {
     "name": "stdout",
     "output_type": "stream",
     "text": [
      "Epoch [18], Train Loss : [0.16650] Val Loss : [0.87328] Val F1 Score : [0.73690]\n"
     ]
    },
    {
     "data": {
      "application/vnd.jupyter.widget-view+json": {
       "model_id": "8bd9833555f54d26b535bb2f70d71e83",
       "version_major": 2,
       "version_minor": 0
      },
      "text/plain": [
       "  0%|          | 0/148 [00:00<?, ?it/s]"
      ]
     },
     "metadata": {},
     "output_type": "display_data"
    },
    {
     "data": {
      "application/vnd.jupyter.widget-view+json": {
       "model_id": "8d3829efbf544a6d991a7999608a7ab5",
       "version_major": 2,
       "version_minor": 0
      },
      "text/plain": [
       "  0%|          | 0/37 [00:00<?, ?it/s]"
      ]
     },
     "metadata": {},
     "output_type": "display_data"
    },
    {
     "name": "stdout",
     "output_type": "stream",
     "text": [
      "Epoch [19], Train Loss : [0.16779] Val Loss : [0.91495] Val F1 Score : [0.75160]\n"
     ]
    },
    {
     "data": {
      "application/vnd.jupyter.widget-view+json": {
       "model_id": "4dc4aed458a140889f9528bd76bb0abb",
       "version_major": 2,
       "version_minor": 0
      },
      "text/plain": [
       "  0%|          | 0/148 [00:00<?, ?it/s]"
      ]
     },
     "metadata": {},
     "output_type": "display_data"
    },
    {
     "data": {
      "application/vnd.jupyter.widget-view+json": {
       "model_id": "b4e45aeee6a44146a0525223bd7683a0",
       "version_major": 2,
       "version_minor": 0
      },
      "text/plain": [
       "  0%|          | 0/37 [00:00<?, ?it/s]"
      ]
     },
     "metadata": {},
     "output_type": "display_data"
    },
    {
     "name": "stdout",
     "output_type": "stream",
     "text": [
      "Epoch [20], Train Loss : [0.13167] Val Loss : [0.90711] Val F1 Score : [0.74207]\n"
     ]
    },
    {
     "data": {
      "application/vnd.jupyter.widget-view+json": {
       "model_id": "b62bbc858d1b4bfb8bae4dcdd06167dd",
       "version_major": 2,
       "version_minor": 0
      },
      "text/plain": [
       "  0%|          | 0/148 [00:00<?, ?it/s]"
      ]
     },
     "metadata": {},
     "output_type": "display_data"
    },
    {
     "data": {
      "application/vnd.jupyter.widget-view+json": {
       "model_id": "832e8ff8afcc40009a99a82bd5c8d748",
       "version_major": 2,
       "version_minor": 0
      },
      "text/plain": [
       "  0%|          | 0/37 [00:00<?, ?it/s]"
      ]
     },
     "metadata": {},
     "output_type": "display_data"
    },
    {
     "name": "stdout",
     "output_type": "stream",
     "text": [
      "Epoch [21], Train Loss : [0.13070] Val Loss : [0.89215] Val F1 Score : [0.74640]\n"
     ]
    },
    {
     "data": {
      "application/vnd.jupyter.widget-view+json": {
       "model_id": "a558c2644849475383bd014217785988",
       "version_major": 2,
       "version_minor": 0
      },
      "text/plain": [
       "  0%|          | 0/148 [00:00<?, ?it/s]"
      ]
     },
     "metadata": {},
     "output_type": "display_data"
    },
    {
     "data": {
      "application/vnd.jupyter.widget-view+json": {
       "model_id": "41f49cd7bf194678b4d10462d17b4aee",
       "version_major": 2,
       "version_minor": 0
      },
      "text/plain": [
       "  0%|          | 0/37 [00:00<?, ?it/s]"
      ]
     },
     "metadata": {},
     "output_type": "display_data"
    },
    {
     "name": "stdout",
     "output_type": "stream",
     "text": [
      "Epoch [22], Train Loss : [0.09696] Val Loss : [0.93472] Val F1 Score : [0.75965]\n"
     ]
    },
    {
     "data": {
      "application/vnd.jupyter.widget-view+json": {
       "model_id": "e08f469e2bf34aae8c5de1d97b342d00",
       "version_major": 2,
       "version_minor": 0
      },
      "text/plain": [
       "  0%|          | 0/148 [00:00<?, ?it/s]"
      ]
     },
     "metadata": {},
     "output_type": "display_data"
    },
    {
     "data": {
      "application/vnd.jupyter.widget-view+json": {
       "model_id": "99ddda55b80948d092d350bf69c00c56",
       "version_major": 2,
       "version_minor": 0
      },
      "text/plain": [
       "  0%|          | 0/37 [00:00<?, ?it/s]"
      ]
     },
     "metadata": {},
     "output_type": "display_data"
    },
    {
     "name": "stdout",
     "output_type": "stream",
     "text": [
      "Epoch [23], Train Loss : [0.09565] Val Loss : [0.92335] Val F1 Score : [0.74133]\n"
     ]
    },
    {
     "data": {
      "application/vnd.jupyter.widget-view+json": {
       "model_id": "5068084eea734a0d9a8b7d22baba608e",
       "version_major": 2,
       "version_minor": 0
      },
      "text/plain": [
       "  0%|          | 0/148 [00:00<?, ?it/s]"
      ]
     },
     "metadata": {},
     "output_type": "display_data"
    },
    {
     "data": {
      "application/vnd.jupyter.widget-view+json": {
       "model_id": "b4e1f442995c44b1aae1c16ea1a247cc",
       "version_major": 2,
       "version_minor": 0
      },
      "text/plain": [
       "  0%|          | 0/37 [00:00<?, ?it/s]"
      ]
     },
     "metadata": {},
     "output_type": "display_data"
    },
    {
     "name": "stdout",
     "output_type": "stream",
     "text": [
      "Epoch [24], Train Loss : [0.08867] Val Loss : [0.93646] Val F1 Score : [0.74623]\n"
     ]
    },
    {
     "data": {
      "application/vnd.jupyter.widget-view+json": {
       "model_id": "6fd2ddda229f4f5085ed62155ba8e1f7",
       "version_major": 2,
       "version_minor": 0
      },
      "text/plain": [
       "  0%|          | 0/148 [00:00<?, ?it/s]"
      ]
     },
     "metadata": {},
     "output_type": "display_data"
    },
    {
     "data": {
      "application/vnd.jupyter.widget-view+json": {
       "model_id": "8f62471a9b5c40f1b75a1375c0a9e000",
       "version_major": 2,
       "version_minor": 0
      },
      "text/plain": [
       "  0%|          | 0/37 [00:00<?, ?it/s]"
      ]
     },
     "metadata": {},
     "output_type": "display_data"
    },
    {
     "name": "stdout",
     "output_type": "stream",
     "text": [
      "Epoch [25], Train Loss : [0.09513] Val Loss : [0.94538] Val F1 Score : [0.74109]\n"
     ]
    },
    {
     "data": {
      "application/vnd.jupyter.widget-view+json": {
       "model_id": "6c5f8bceb2334e0386ddef7b28c268b0",
       "version_major": 2,
       "version_minor": 0
      },
      "text/plain": [
       "  0%|          | 0/148 [00:00<?, ?it/s]"
      ]
     },
     "metadata": {},
     "output_type": "display_data"
    },
    {
     "data": {
      "application/vnd.jupyter.widget-view+json": {
       "model_id": "384e12162efe41f48a45c552b181ed36",
       "version_major": 2,
       "version_minor": 0
      },
      "text/plain": [
       "  0%|          | 0/37 [00:00<?, ?it/s]"
      ]
     },
     "metadata": {},
     "output_type": "display_data"
    },
    {
     "name": "stdout",
     "output_type": "stream",
     "text": [
      "Epoch [26], Train Loss : [0.08413] Val Loss : [0.92614] Val F1 Score : [0.74130]\n"
     ]
    },
    {
     "data": {
      "application/vnd.jupyter.widget-view+json": {
       "model_id": "9c0b09fe75574de7a8dff5aa8e2db6ea",
       "version_major": 2,
       "version_minor": 0
      },
      "text/plain": [
       "  0%|          | 0/148 [00:00<?, ?it/s]"
      ]
     },
     "metadata": {},
     "output_type": "display_data"
    },
    {
     "data": {
      "application/vnd.jupyter.widget-view+json": {
       "model_id": "2942f05963ff41f8a5f544028519e78e",
       "version_major": 2,
       "version_minor": 0
      },
      "text/plain": [
       "  0%|          | 0/37 [00:00<?, ?it/s]"
      ]
     },
     "metadata": {},
     "output_type": "display_data"
    },
    {
     "name": "stdout",
     "output_type": "stream",
     "text": [
      "Epoch [27], Train Loss : [0.06902] Val Loss : [0.90424] Val F1 Score : [0.74870]\n"
     ]
    },
    {
     "data": {
      "application/vnd.jupyter.widget-view+json": {
       "model_id": "d162b173a748472d91101c29479994c1",
       "version_major": 2,
       "version_minor": 0
      },
      "text/plain": [
       "  0%|          | 0/148 [00:00<?, ?it/s]"
      ]
     },
     "metadata": {},
     "output_type": "display_data"
    },
    {
     "data": {
      "application/vnd.jupyter.widget-view+json": {
       "model_id": "995240b8070f42e59b35aad653f260bb",
       "version_major": 2,
       "version_minor": 0
      },
      "text/plain": [
       "  0%|          | 0/37 [00:00<?, ?it/s]"
      ]
     },
     "metadata": {},
     "output_type": "display_data"
    },
    {
     "name": "stdout",
     "output_type": "stream",
     "text": [
      "Epoch [28], Train Loss : [0.08088] Val Loss : [0.88133] Val F1 Score : [0.74694]\n"
     ]
    },
    {
     "data": {
      "application/vnd.jupyter.widget-view+json": {
       "model_id": "ff57e1d794e543379385b59975878eb0",
       "version_major": 2,
       "version_minor": 0
      },
      "text/plain": [
       "  0%|          | 0/148 [00:00<?, ?it/s]"
      ]
     },
     "metadata": {},
     "output_type": "display_data"
    },
    {
     "data": {
      "application/vnd.jupyter.widget-view+json": {
       "model_id": "873c65cd24274c09baf4e0dce50a63bf",
       "version_major": 2,
       "version_minor": 0
      },
      "text/plain": [
       "  0%|          | 0/37 [00:00<?, ?it/s]"
      ]
     },
     "metadata": {},
     "output_type": "display_data"
    },
    {
     "name": "stdout",
     "output_type": "stream",
     "text": [
      "Epoch [29], Train Loss : [0.07385] Val Loss : [0.91839] Val F1 Score : [0.74788]\n"
     ]
    },
    {
     "data": {
      "application/vnd.jupyter.widget-view+json": {
       "model_id": "14b2ebd546a74d35bab1d0db08705003",
       "version_major": 2,
       "version_minor": 0
      },
      "text/plain": [
       "  0%|          | 0/148 [00:00<?, ?it/s]"
      ]
     },
     "metadata": {},
     "output_type": "display_data"
    },
    {
     "data": {
      "application/vnd.jupyter.widget-view+json": {
       "model_id": "5ed8bea779044cbeb039bad049fe9108",
       "version_major": 2,
       "version_minor": 0
      },
      "text/plain": [
       "  0%|          | 0/37 [00:00<?, ?it/s]"
      ]
     },
     "metadata": {},
     "output_type": "display_data"
    },
    {
     "name": "stdout",
     "output_type": "stream",
     "text": [
      "Epoch [30], Train Loss : [0.06524] Val Loss : [0.91463] Val F1 Score : [0.75428]\n"
     ]
    }
   ],
   "source": [
    "#0.78464 batch:16, epoch:30, lr:[10,20]\n",
    "#0.77673 batch:8, epoch:30, LR: [9,18,27]\n",
    "\n",
    "train_dataset_2 = CustomDataset(train_img_paths, train_labels, resize_transform(288,'train'))\n",
    "train_loader_2 = DataLoader(train_dataset_2, batch_size = 32, shuffle=True, num_workers=0)\n",
    "\n",
    "val_dataset_2 = CustomDataset(val_img_paths, val_labels, resize_transform(288,'test'))\n",
    "val_loader_2 = DataLoader(val_dataset_2, batch_size=32, shuffle=False, num_workers=0)\n",
    "\n",
    "model_2 = EfficientNet_B2()\n",
    "optimizer_2 = torch.optim.Adam(params = model_2.parameters(), lr = CFG[\"LEARNING_RATE\"])\n",
    "scheduler_2 = lr_scheduler.MultiStepLR(optimizer_2, milestones=[10,20], gamma=0.5)\n",
    "infer_model_2 = train(model_2, num_epoch, optimizer_2, train_loader_2, val_loader_2, scheduler_2, device)"
   ]
  },
  {
   "cell_type": "code",
   "execution_count": 80,
   "id": "b000656d",
   "metadata": {},
   "outputs": [],
   "source": [
    "torch.save(infer_model_2,'weights/b2_32_30.pt')\n",
    "gc.collect()\n",
    "torch.cuda.empty_cache()"
   ]
  },
  {
   "cell_type": "code",
   "execution_count": 81,
   "id": "c0b0a79e-e380-4871-9aca-1cd1e8a03691",
   "metadata": {
    "jupyter": {
     "outputs_hidden": true
    },
    "scrolled": true,
    "tags": []
   },
   "outputs": [
    {
     "data": {
      "application/vnd.jupyter.widget-view+json": {
       "model_id": "1df7759fbc1248f4beabf935d0a69368",
       "version_major": 2,
       "version_minor": 0
      },
      "text/plain": [
       "  0%|          | 0/148 [00:00<?, ?it/s]"
      ]
     },
     "metadata": {},
     "output_type": "display_data"
    },
    {
     "data": {
      "application/vnd.jupyter.widget-view+json": {
       "model_id": "6a9b0116472a430b971f2efee23bfb92",
       "version_major": 2,
       "version_minor": 0
      },
      "text/plain": [
       "  0%|          | 0/37 [00:00<?, ?it/s]"
      ]
     },
     "metadata": {},
     "output_type": "display_data"
    },
    {
     "name": "stdout",
     "output_type": "stream",
     "text": [
      "Epoch [1], Train Loss : [2.96602] Val Loss : [2.09809] Val F1 Score : [0.25765]\n"
     ]
    },
    {
     "data": {
      "application/vnd.jupyter.widget-view+json": {
       "model_id": "1aaff425268649c6a19f1df4afcbef9b",
       "version_major": 2,
       "version_minor": 0
      },
      "text/plain": [
       "  0%|          | 0/148 [00:00<?, ?it/s]"
      ]
     },
     "metadata": {},
     "output_type": "display_data"
    },
    {
     "data": {
      "application/vnd.jupyter.widget-view+json": {
       "model_id": "7ead306c8dbd4f02881713745b76707d",
       "version_major": 2,
       "version_minor": 0
      },
      "text/plain": [
       "  0%|          | 0/37 [00:00<?, ?it/s]"
      ]
     },
     "metadata": {},
     "output_type": "display_data"
    },
    {
     "name": "stdout",
     "output_type": "stream",
     "text": [
      "Epoch [2], Train Loss : [1.76417] Val Loss : [4.79204] Val F1 Score : [0.46767]\n"
     ]
    },
    {
     "data": {
      "application/vnd.jupyter.widget-view+json": {
       "model_id": "428c5dfd6bf0477aacf6e0145f99bc14",
       "version_major": 2,
       "version_minor": 0
      },
      "text/plain": [
       "  0%|          | 0/148 [00:00<?, ?it/s]"
      ]
     },
     "metadata": {},
     "output_type": "display_data"
    },
    {
     "data": {
      "application/vnd.jupyter.widget-view+json": {
       "model_id": "3429cd99b7ff4b61ad1d69ca3bd6b11a",
       "version_major": 2,
       "version_minor": 0
      },
      "text/plain": [
       "  0%|          | 0/37 [00:00<?, ?it/s]"
      ]
     },
     "metadata": {},
     "output_type": "display_data"
    },
    {
     "name": "stdout",
     "output_type": "stream",
     "text": [
      "Epoch [3], Train Loss : [1.23941] Val Loss : [2.04095] Val F1 Score : [0.55870]\n"
     ]
    },
    {
     "data": {
      "application/vnd.jupyter.widget-view+json": {
       "model_id": "46b9c47a51c7478f8736ba6ad6689744",
       "version_major": 2,
       "version_minor": 0
      },
      "text/plain": [
       "  0%|          | 0/148 [00:00<?, ?it/s]"
      ]
     },
     "metadata": {},
     "output_type": "display_data"
    },
    {
     "data": {
      "application/vnd.jupyter.widget-view+json": {
       "model_id": "0f791a9fdf61480191bec53e9a92a2f0",
       "version_major": 2,
       "version_minor": 0
      },
      "text/plain": [
       "  0%|          | 0/37 [00:00<?, ?it/s]"
      ]
     },
     "metadata": {},
     "output_type": "display_data"
    },
    {
     "name": "stdout",
     "output_type": "stream",
     "text": [
      "Epoch [4], Train Loss : [0.94343] Val Loss : [22.63151] Val F1 Score : [0.61632]\n"
     ]
    },
    {
     "data": {
      "application/vnd.jupyter.widget-view+json": {
       "model_id": "8e0abfafc0c44f3b818c4bcba04d771f",
       "version_major": 2,
       "version_minor": 0
      },
      "text/plain": [
       "  0%|          | 0/148 [00:00<?, ?it/s]"
      ]
     },
     "metadata": {},
     "output_type": "display_data"
    },
    {
     "data": {
      "application/vnd.jupyter.widget-view+json": {
       "model_id": "205da9bbaf6b4721991d8f3cd68b434e",
       "version_major": 2,
       "version_minor": 0
      },
      "text/plain": [
       "  0%|          | 0/37 [00:00<?, ?it/s]"
      ]
     },
     "metadata": {},
     "output_type": "display_data"
    },
    {
     "name": "stdout",
     "output_type": "stream",
     "text": [
      "Epoch [5], Train Loss : [0.78273] Val Loss : [13.65165] Val F1 Score : [0.66445]\n"
     ]
    },
    {
     "data": {
      "application/vnd.jupyter.widget-view+json": {
       "model_id": "5a5ef417db064d55ad06aac436c1efe2",
       "version_major": 2,
       "version_minor": 0
      },
      "text/plain": [
       "  0%|          | 0/148 [00:00<?, ?it/s]"
      ]
     },
     "metadata": {},
     "output_type": "display_data"
    },
    {
     "data": {
      "application/vnd.jupyter.widget-view+json": {
       "model_id": "b86d73d489a64e518176b965f07d200d",
       "version_major": 2,
       "version_minor": 0
      },
      "text/plain": [
       "  0%|          | 0/37 [00:00<?, ?it/s]"
      ]
     },
     "metadata": {},
     "output_type": "display_data"
    },
    {
     "name": "stdout",
     "output_type": "stream",
     "text": [
      "Epoch [6], Train Loss : [0.63187] Val Loss : [0.98746] Val F1 Score : [0.67272]\n"
     ]
    },
    {
     "data": {
      "application/vnd.jupyter.widget-view+json": {
       "model_id": "566d46cab67e48b0806728bb118c7653",
       "version_major": 2,
       "version_minor": 0
      },
      "text/plain": [
       "  0%|          | 0/148 [00:00<?, ?it/s]"
      ]
     },
     "metadata": {},
     "output_type": "display_data"
    },
    {
     "data": {
      "application/vnd.jupyter.widget-view+json": {
       "model_id": "bece347a6dee4665ac4b77be7acacee4",
       "version_major": 2,
       "version_minor": 0
      },
      "text/plain": [
       "  0%|          | 0/37 [00:00<?, ?it/s]"
      ]
     },
     "metadata": {},
     "output_type": "display_data"
    },
    {
     "name": "stdout",
     "output_type": "stream",
     "text": [
      "Epoch [7], Train Loss : [0.56337] Val Loss : [0.95072] Val F1 Score : [0.69470]\n"
     ]
    },
    {
     "data": {
      "application/vnd.jupyter.widget-view+json": {
       "model_id": "8b4a097c62cf45f6a5e67293250ddb9e",
       "version_major": 2,
       "version_minor": 0
      },
      "text/plain": [
       "  0%|          | 0/148 [00:00<?, ?it/s]"
      ]
     },
     "metadata": {},
     "output_type": "display_data"
    },
    {
     "data": {
      "application/vnd.jupyter.widget-view+json": {
       "model_id": "6f382680e4d340ddb170341bad894d82",
       "version_major": 2,
       "version_minor": 0
      },
      "text/plain": [
       "  0%|          | 0/37 [00:00<?, ?it/s]"
      ]
     },
     "metadata": {},
     "output_type": "display_data"
    },
    {
     "name": "stdout",
     "output_type": "stream",
     "text": [
      "Epoch [8], Train Loss : [0.46253] Val Loss : [0.93798] Val F1 Score : [0.72060]\n"
     ]
    },
    {
     "data": {
      "application/vnd.jupyter.widget-view+json": {
       "model_id": "fd2f21474091408993640eddb22a84f6",
       "version_major": 2,
       "version_minor": 0
      },
      "text/plain": [
       "  0%|          | 0/148 [00:00<?, ?it/s]"
      ]
     },
     "metadata": {},
     "output_type": "display_data"
    },
    {
     "data": {
      "application/vnd.jupyter.widget-view+json": {
       "model_id": "df9fe9f9deaf4415ba7f89c9cc47e878",
       "version_major": 2,
       "version_minor": 0
      },
      "text/plain": [
       "  0%|          | 0/37 [00:00<?, ?it/s]"
      ]
     },
     "metadata": {},
     "output_type": "display_data"
    },
    {
     "name": "stdout",
     "output_type": "stream",
     "text": [
      "Epoch [9], Train Loss : [0.41566] Val Loss : [0.95672] Val F1 Score : [0.70088]\n"
     ]
    },
    {
     "data": {
      "application/vnd.jupyter.widget-view+json": {
       "model_id": "18a24178b57144dca72c14dd2a10e787",
       "version_major": 2,
       "version_minor": 0
      },
      "text/plain": [
       "  0%|          | 0/148 [00:00<?, ?it/s]"
      ]
     },
     "metadata": {},
     "output_type": "display_data"
    },
    {
     "data": {
      "application/vnd.jupyter.widget-view+json": {
       "model_id": "662beb0bff284600b497152502507cc5",
       "version_major": 2,
       "version_minor": 0
      },
      "text/plain": [
       "  0%|          | 0/37 [00:00<?, ?it/s]"
      ]
     },
     "metadata": {},
     "output_type": "display_data"
    },
    {
     "name": "stdout",
     "output_type": "stream",
     "text": [
      "Epoch [10], Train Loss : [0.37844] Val Loss : [0.87937] Val F1 Score : [0.72910]\n"
     ]
    },
    {
     "data": {
      "application/vnd.jupyter.widget-view+json": {
       "model_id": "1ebd9d6d39ea4f4ea0c1265e12b3b07a",
       "version_major": 2,
       "version_minor": 0
      },
      "text/plain": [
       "  0%|          | 0/148 [00:00<?, ?it/s]"
      ]
     },
     "metadata": {},
     "output_type": "display_data"
    },
    {
     "data": {
      "application/vnd.jupyter.widget-view+json": {
       "model_id": "667484a1c1fa46c38f02234304df5124",
       "version_major": 2,
       "version_minor": 0
      },
      "text/plain": [
       "  0%|          | 0/37 [00:00<?, ?it/s]"
      ]
     },
     "metadata": {},
     "output_type": "display_data"
    },
    {
     "name": "stdout",
     "output_type": "stream",
     "text": [
      "Epoch [11], Train Loss : [0.28186] Val Loss : [0.80918] Val F1 Score : [0.74541]\n"
     ]
    },
    {
     "data": {
      "application/vnd.jupyter.widget-view+json": {
       "model_id": "e689a7389bc14843829561b36b214143",
       "version_major": 2,
       "version_minor": 0
      },
      "text/plain": [
       "  0%|          | 0/148 [00:00<?, ?it/s]"
      ]
     },
     "metadata": {},
     "output_type": "display_data"
    },
    {
     "data": {
      "application/vnd.jupyter.widget-view+json": {
       "model_id": "8fb35a74a4f645f6867bdd6559a23fb6",
       "version_major": 2,
       "version_minor": 0
      },
      "text/plain": [
       "  0%|          | 0/37 [00:00<?, ?it/s]"
      ]
     },
     "metadata": {},
     "output_type": "display_data"
    },
    {
     "name": "stdout",
     "output_type": "stream",
     "text": [
      "Epoch [12], Train Loss : [0.24858] Val Loss : [0.82082] Val F1 Score : [0.75996]\n"
     ]
    },
    {
     "data": {
      "application/vnd.jupyter.widget-view+json": {
       "model_id": "3de527997de24015bb13e2029505aa1b",
       "version_major": 2,
       "version_minor": 0
      },
      "text/plain": [
       "  0%|          | 0/148 [00:00<?, ?it/s]"
      ]
     },
     "metadata": {},
     "output_type": "display_data"
    },
    {
     "data": {
      "application/vnd.jupyter.widget-view+json": {
       "model_id": "b4a4b9e2569249cca7ff3973dcc930c3",
       "version_major": 2,
       "version_minor": 0
      },
      "text/plain": [
       "  0%|          | 0/37 [00:00<?, ?it/s]"
      ]
     },
     "metadata": {},
     "output_type": "display_data"
    },
    {
     "name": "stdout",
     "output_type": "stream",
     "text": [
      "Epoch [13], Train Loss : [0.20853] Val Loss : [0.84702] Val F1 Score : [0.75718]\n"
     ]
    },
    {
     "data": {
      "application/vnd.jupyter.widget-view+json": {
       "model_id": "86a3b6d7e361416db7e956c4980d5d49",
       "version_major": 2,
       "version_minor": 0
      },
      "text/plain": [
       "  0%|          | 0/148 [00:00<?, ?it/s]"
      ]
     },
     "metadata": {},
     "output_type": "display_data"
    },
    {
     "data": {
      "application/vnd.jupyter.widget-view+json": {
       "model_id": "345ea0123f71467295e6cf4472105bb5",
       "version_major": 2,
       "version_minor": 0
      },
      "text/plain": [
       "  0%|          | 0/37 [00:00<?, ?it/s]"
      ]
     },
     "metadata": {},
     "output_type": "display_data"
    },
    {
     "name": "stdout",
     "output_type": "stream",
     "text": [
      "Epoch [14], Train Loss : [0.19173] Val Loss : [0.82337] Val F1 Score : [0.75086]\n"
     ]
    },
    {
     "data": {
      "application/vnd.jupyter.widget-view+json": {
       "model_id": "044e86a9c1234f5f9bfdd4c24d736a0b",
       "version_major": 2,
       "version_minor": 0
      },
      "text/plain": [
       "  0%|          | 0/148 [00:00<?, ?it/s]"
      ]
     },
     "metadata": {},
     "output_type": "display_data"
    },
    {
     "data": {
      "application/vnd.jupyter.widget-view+json": {
       "model_id": "2d2c6590aab04a7fb9c4b26624825dfc",
       "version_major": 2,
       "version_minor": 0
      },
      "text/plain": [
       "  0%|          | 0/37 [00:00<?, ?it/s]"
      ]
     },
     "metadata": {},
     "output_type": "display_data"
    },
    {
     "name": "stdout",
     "output_type": "stream",
     "text": [
      "Epoch [15], Train Loss : [0.15849] Val Loss : [0.86349] Val F1 Score : [0.74895]\n"
     ]
    },
    {
     "data": {
      "application/vnd.jupyter.widget-view+json": {
       "model_id": "5546a5e900254b3eaba2da0651877a43",
       "version_major": 2,
       "version_minor": 0
      },
      "text/plain": [
       "  0%|          | 0/148 [00:00<?, ?it/s]"
      ]
     },
     "metadata": {},
     "output_type": "display_data"
    },
    {
     "data": {
      "application/vnd.jupyter.widget-view+json": {
       "model_id": "5872b1c9104a442f968811f0f7ed0b5d",
       "version_major": 2,
       "version_minor": 0
      },
      "text/plain": [
       "  0%|          | 0/37 [00:00<?, ?it/s]"
      ]
     },
     "metadata": {},
     "output_type": "display_data"
    },
    {
     "name": "stdout",
     "output_type": "stream",
     "text": [
      "Epoch [16], Train Loss : [0.16425] Val Loss : [0.89469] Val F1 Score : [0.73866]\n"
     ]
    },
    {
     "data": {
      "application/vnd.jupyter.widget-view+json": {
       "model_id": "036685a50ce7438cbb59b0bc889327ef",
       "version_major": 2,
       "version_minor": 0
      },
      "text/plain": [
       "  0%|          | 0/148 [00:00<?, ?it/s]"
      ]
     },
     "metadata": {},
     "output_type": "display_data"
    },
    {
     "data": {
      "application/vnd.jupyter.widget-view+json": {
       "model_id": "d4d3b0d02b3d4eeaa9851e95c6df9cd6",
       "version_major": 2,
       "version_minor": 0
      },
      "text/plain": [
       "  0%|          | 0/37 [00:00<?, ?it/s]"
      ]
     },
     "metadata": {},
     "output_type": "display_data"
    },
    {
     "name": "stdout",
     "output_type": "stream",
     "text": [
      "Epoch [17], Train Loss : [0.15805] Val Loss : [0.87677] Val F1 Score : [0.75369]\n"
     ]
    },
    {
     "data": {
      "application/vnd.jupyter.widget-view+json": {
       "model_id": "86628944c4854cc8aee58e8b8184e21b",
       "version_major": 2,
       "version_minor": 0
      },
      "text/plain": [
       "  0%|          | 0/148 [00:00<?, ?it/s]"
      ]
     },
     "metadata": {},
     "output_type": "display_data"
    },
    {
     "data": {
      "application/vnd.jupyter.widget-view+json": {
       "model_id": "59315871570e496d891c292ad496f4d8",
       "version_major": 2,
       "version_minor": 0
      },
      "text/plain": [
       "  0%|          | 0/37 [00:00<?, ?it/s]"
      ]
     },
     "metadata": {},
     "output_type": "display_data"
    },
    {
     "name": "stdout",
     "output_type": "stream",
     "text": [
      "Epoch [18], Train Loss : [0.14943] Val Loss : [0.86080] Val F1 Score : [0.76789]\n"
     ]
    },
    {
     "data": {
      "application/vnd.jupyter.widget-view+json": {
       "model_id": "49276ffc8fb2459b8a18379b379de8a9",
       "version_major": 2,
       "version_minor": 0
      },
      "text/plain": [
       "  0%|          | 0/148 [00:00<?, ?it/s]"
      ]
     },
     "metadata": {},
     "output_type": "display_data"
    },
    {
     "data": {
      "application/vnd.jupyter.widget-view+json": {
       "model_id": "414b9b563429402bba0b495a1b960c64",
       "version_major": 2,
       "version_minor": 0
      },
      "text/plain": [
       "  0%|          | 0/37 [00:00<?, ?it/s]"
      ]
     },
     "metadata": {},
     "output_type": "display_data"
    },
    {
     "name": "stdout",
     "output_type": "stream",
     "text": [
      "Epoch [19], Train Loss : [0.15045] Val Loss : [0.88198] Val F1 Score : [0.75696]\n"
     ]
    },
    {
     "data": {
      "application/vnd.jupyter.widget-view+json": {
       "model_id": "5855fdcf91a44017bfe17a4c3298d1a0",
       "version_major": 2,
       "version_minor": 0
      },
      "text/plain": [
       "  0%|          | 0/148 [00:00<?, ?it/s]"
      ]
     },
     "metadata": {},
     "output_type": "display_data"
    },
    {
     "data": {
      "application/vnd.jupyter.widget-view+json": {
       "model_id": "df2af264cbd148bbbe2020745ffc4d74",
       "version_major": 2,
       "version_minor": 0
      },
      "text/plain": [
       "  0%|          | 0/37 [00:00<?, ?it/s]"
      ]
     },
     "metadata": {},
     "output_type": "display_data"
    },
    {
     "name": "stdout",
     "output_type": "stream",
     "text": [
      "Epoch [20], Train Loss : [0.13075] Val Loss : [0.83852] Val F1 Score : [0.77286]\n"
     ]
    },
    {
     "data": {
      "application/vnd.jupyter.widget-view+json": {
       "model_id": "28e116c440544113af49d50991593607",
       "version_major": 2,
       "version_minor": 0
      },
      "text/plain": [
       "  0%|          | 0/148 [00:00<?, ?it/s]"
      ]
     },
     "metadata": {},
     "output_type": "display_data"
    },
    {
     "data": {
      "application/vnd.jupyter.widget-view+json": {
       "model_id": "7d3861d4a1754318b3367494a66a45b3",
       "version_major": 2,
       "version_minor": 0
      },
      "text/plain": [
       "  0%|          | 0/37 [00:00<?, ?it/s]"
      ]
     },
     "metadata": {},
     "output_type": "display_data"
    },
    {
     "name": "stdout",
     "output_type": "stream",
     "text": [
      "Epoch [21], Train Loss : [0.11035] Val Loss : [0.83203] Val F1 Score : [0.77791]\n"
     ]
    },
    {
     "data": {
      "application/vnd.jupyter.widget-view+json": {
       "model_id": "850348e430734789a4cd35ef3e0c7dd8",
       "version_major": 2,
       "version_minor": 0
      },
      "text/plain": [
       "  0%|          | 0/148 [00:00<?, ?it/s]"
      ]
     },
     "metadata": {},
     "output_type": "display_data"
    },
    {
     "data": {
      "application/vnd.jupyter.widget-view+json": {
       "model_id": "31d4f7c0e3eb4966b1b3d43ac693abd4",
       "version_major": 2,
       "version_minor": 0
      },
      "text/plain": [
       "  0%|          | 0/37 [00:00<?, ?it/s]"
      ]
     },
     "metadata": {},
     "output_type": "display_data"
    },
    {
     "name": "stdout",
     "output_type": "stream",
     "text": [
      "Epoch [22], Train Loss : [0.09658] Val Loss : [0.80675] Val F1 Score : [0.76831]\n"
     ]
    },
    {
     "data": {
      "application/vnd.jupyter.widget-view+json": {
       "model_id": "369770aa4f3f4713a9fa51073a8deb6c",
       "version_major": 2,
       "version_minor": 0
      },
      "text/plain": [
       "  0%|          | 0/148 [00:00<?, ?it/s]"
      ]
     },
     "metadata": {},
     "output_type": "display_data"
    },
    {
     "data": {
      "application/vnd.jupyter.widget-view+json": {
       "model_id": "17828d3ab31c420b9468141398c179cb",
       "version_major": 2,
       "version_minor": 0
      },
      "text/plain": [
       "  0%|          | 0/37 [00:00<?, ?it/s]"
      ]
     },
     "metadata": {},
     "output_type": "display_data"
    },
    {
     "name": "stdout",
     "output_type": "stream",
     "text": [
      "Epoch [23], Train Loss : [0.07447] Val Loss : [0.81352] Val F1 Score : [0.78098]\n"
     ]
    },
    {
     "data": {
      "application/vnd.jupyter.widget-view+json": {
       "model_id": "d406575d27fd4333be462eda7113b86f",
       "version_major": 2,
       "version_minor": 0
      },
      "text/plain": [
       "  0%|          | 0/148 [00:00<?, ?it/s]"
      ]
     },
     "metadata": {},
     "output_type": "display_data"
    },
    {
     "data": {
      "application/vnd.jupyter.widget-view+json": {
       "model_id": "4246bca362ac44c78d9e44ab7f1481b4",
       "version_major": 2,
       "version_minor": 0
      },
      "text/plain": [
       "  0%|          | 0/37 [00:00<?, ?it/s]"
      ]
     },
     "metadata": {},
     "output_type": "display_data"
    },
    {
     "name": "stdout",
     "output_type": "stream",
     "text": [
      "Epoch [24], Train Loss : [0.08322] Val Loss : [0.78007] Val F1 Score : [0.78147]\n"
     ]
    },
    {
     "data": {
      "application/vnd.jupyter.widget-view+json": {
       "model_id": "1a609afd79be44e0aeb675c41d8c5985",
       "version_major": 2,
       "version_minor": 0
      },
      "text/plain": [
       "  0%|          | 0/148 [00:00<?, ?it/s]"
      ]
     },
     "metadata": {},
     "output_type": "display_data"
    },
    {
     "data": {
      "application/vnd.jupyter.widget-view+json": {
       "model_id": "0e29f7522db049b2b104ca727d19eeef",
       "version_major": 2,
       "version_minor": 0
      },
      "text/plain": [
       "  0%|          | 0/37 [00:00<?, ?it/s]"
      ]
     },
     "metadata": {},
     "output_type": "display_data"
    },
    {
     "name": "stdout",
     "output_type": "stream",
     "text": [
      "Epoch [25], Train Loss : [0.08468] Val Loss : [0.82178] Val F1 Score : [0.78063]\n"
     ]
    },
    {
     "data": {
      "application/vnd.jupyter.widget-view+json": {
       "model_id": "eef5b09da4db4c56bf38f9a5fc282706",
       "version_major": 2,
       "version_minor": 0
      },
      "text/plain": [
       "  0%|          | 0/148 [00:00<?, ?it/s]"
      ]
     },
     "metadata": {},
     "output_type": "display_data"
    },
    {
     "data": {
      "application/vnd.jupyter.widget-view+json": {
       "model_id": "f400c168a78d42b6a54a71f5fa6b0bc0",
       "version_major": 2,
       "version_minor": 0
      },
      "text/plain": [
       "  0%|          | 0/37 [00:00<?, ?it/s]"
      ]
     },
     "metadata": {},
     "output_type": "display_data"
    },
    {
     "name": "stdout",
     "output_type": "stream",
     "text": [
      "Epoch [26], Train Loss : [0.07550] Val Loss : [0.84984] Val F1 Score : [0.77687]\n"
     ]
    },
    {
     "data": {
      "application/vnd.jupyter.widget-view+json": {
       "model_id": "69a2806dc7984b5094f275cd59afb558",
       "version_major": 2,
       "version_minor": 0
      },
      "text/plain": [
       "  0%|          | 0/148 [00:00<?, ?it/s]"
      ]
     },
     "metadata": {},
     "output_type": "display_data"
    },
    {
     "data": {
      "application/vnd.jupyter.widget-view+json": {
       "model_id": "6aa0b81147704da38718b8d0987ca4c8",
       "version_major": 2,
       "version_minor": 0
      },
      "text/plain": [
       "  0%|          | 0/37 [00:00<?, ?it/s]"
      ]
     },
     "metadata": {},
     "output_type": "display_data"
    },
    {
     "name": "stdout",
     "output_type": "stream",
     "text": [
      "Epoch [27], Train Loss : [0.09197] Val Loss : [0.83565] Val F1 Score : [0.77364]\n"
     ]
    },
    {
     "data": {
      "application/vnd.jupyter.widget-view+json": {
       "model_id": "d8494994d6a74afaaf7678400f4ce771",
       "version_major": 2,
       "version_minor": 0
      },
      "text/plain": [
       "  0%|          | 0/148 [00:00<?, ?it/s]"
      ]
     },
     "metadata": {},
     "output_type": "display_data"
    },
    {
     "data": {
      "application/vnd.jupyter.widget-view+json": {
       "model_id": "1c062ab7e003411fa6f8d275a946ad84",
       "version_major": 2,
       "version_minor": 0
      },
      "text/plain": [
       "  0%|          | 0/37 [00:00<?, ?it/s]"
      ]
     },
     "metadata": {},
     "output_type": "display_data"
    },
    {
     "name": "stdout",
     "output_type": "stream",
     "text": [
      "Epoch [28], Train Loss : [0.09117] Val Loss : [0.88094] Val F1 Score : [0.77142]\n"
     ]
    },
    {
     "data": {
      "application/vnd.jupyter.widget-view+json": {
       "model_id": "632aabc9093d4bcb821655589de11a09",
       "version_major": 2,
       "version_minor": 0
      },
      "text/plain": [
       "  0%|          | 0/148 [00:00<?, ?it/s]"
      ]
     },
     "metadata": {},
     "output_type": "display_data"
    },
    {
     "data": {
      "application/vnd.jupyter.widget-view+json": {
       "model_id": "66dc6a4977304515a94dce737c294964",
       "version_major": 2,
       "version_minor": 0
      },
      "text/plain": [
       "  0%|          | 0/37 [00:00<?, ?it/s]"
      ]
     },
     "metadata": {},
     "output_type": "display_data"
    },
    {
     "name": "stdout",
     "output_type": "stream",
     "text": [
      "Epoch [29], Train Loss : [0.07765] Val Loss : [0.81785] Val F1 Score : [0.76842]\n"
     ]
    },
    {
     "data": {
      "application/vnd.jupyter.widget-view+json": {
       "model_id": "b58c659ba96248c1b2811630fff623a4",
       "version_major": 2,
       "version_minor": 0
      },
      "text/plain": [
       "  0%|          | 0/148 [00:00<?, ?it/s]"
      ]
     },
     "metadata": {},
     "output_type": "display_data"
    },
    {
     "data": {
      "application/vnd.jupyter.widget-view+json": {
       "model_id": "790803e5c5d541e2bc9786417744ea98",
       "version_major": 2,
       "version_minor": 0
      },
      "text/plain": [
       "  0%|          | 0/37 [00:00<?, ?it/s]"
      ]
     },
     "metadata": {},
     "output_type": "display_data"
    },
    {
     "name": "stdout",
     "output_type": "stream",
     "text": [
      "Epoch [30], Train Loss : [0.07697] Val Loss : [1.13450] Val F1 Score : [0.76876]\n"
     ]
    }
   ],
   "source": [
    "# 0.77395 batch:32, epoch:30, LR: [10,20]\n",
    "# 0.77227 batch:16, epcoh:30, lr:[10,20]\n",
    "# 0.76952 batch:8, epoch:30, LR: [9,18,27]\n",
    "\n",
    "train_dataset_3 = CustomDataset(train_img_paths, train_labels, resize_transform(320,'train'))\n",
    "train_loader_3 = DataLoader(train_dataset_3, batch_size = 32, shuffle=True, num_workers=0)\n",
    "\n",
    "val_dataset_3 = CustomDataset(val_img_paths, val_labels, resize_transform(320,'test'))\n",
    "val_loader_3 = DataLoader(val_dataset_3, batch_size=32, shuffle=False, num_workers=0)\n",
    "\n",
    "model_3 = EfficientNet_B3()\n",
    "optimizer_3 = torch.optim.Adam(params = model_3.parameters(), lr = CFG[\"LEARNING_RATE\"])\n",
    "scheduler_3 = lr_scheduler.MultiStepLR(optimizer_3, milestones=[10,20], gamma=0.5)\n",
    "infer_model_3 = train(model_3, num_epoch, optimizer_3, train_loader_3, val_loader_3, scheduler_3, device)"
   ]
  },
  {
   "cell_type": "code",
   "execution_count": 82,
   "id": "257bba15",
   "metadata": {},
   "outputs": [],
   "source": [
    "torch.save(infer_model_3,'weights/b3_32_30.pt')\n",
    "gc.collect()\n",
    "torch.cuda.empty_cache()"
   ]
  },
  {
   "cell_type": "code",
   "execution_count": 83,
   "id": "b4551edd-32b2-44f4-91ca-fad24e12bfe3",
   "metadata": {
    "jupyter": {
     "outputs_hidden": true
    },
    "scrolled": true,
    "tags": []
   },
   "outputs": [
    {
     "data": {
      "application/vnd.jupyter.widget-view+json": {
       "model_id": "4c18727da22e4507adb58c537bb5994d",
       "version_major": 2,
       "version_minor": 0
      },
      "text/plain": [
       "  0%|          | 0/296 [00:00<?, ?it/s]"
      ]
     },
     "metadata": {},
     "output_type": "display_data"
    },
    {
     "data": {
      "application/vnd.jupyter.widget-view+json": {
       "model_id": "2e7dafdeaf3f4e14af41d36c86fc707d",
       "version_major": 2,
       "version_minor": 0
      },
      "text/plain": [
       "  0%|          | 0/74 [00:00<?, ?it/s]"
      ]
     },
     "metadata": {},
     "output_type": "display_data"
    },
    {
     "name": "stdout",
     "output_type": "stream",
     "text": [
      "Epoch [1], Train Loss : [2.91452] Val Loss : [2.01377] Val F1 Score : [0.29155]\n"
     ]
    },
    {
     "data": {
      "application/vnd.jupyter.widget-view+json": {
       "model_id": "9361e25461ea43b4851e51be0aa35ddf",
       "version_major": 2,
       "version_minor": 0
      },
      "text/plain": [
       "  0%|          | 0/296 [00:00<?, ?it/s]"
      ]
     },
     "metadata": {},
     "output_type": "display_data"
    },
    {
     "data": {
      "application/vnd.jupyter.widget-view+json": {
       "model_id": "836b098469b2459a87b70f17d1a1aee2",
       "version_major": 2,
       "version_minor": 0
      },
      "text/plain": [
       "  0%|          | 0/74 [00:00<?, ?it/s]"
      ]
     },
     "metadata": {},
     "output_type": "display_data"
    },
    {
     "name": "stdout",
     "output_type": "stream",
     "text": [
      "Epoch [2], Train Loss : [1.83046] Val Loss : [1.42001] Val F1 Score : [0.45443]\n"
     ]
    },
    {
     "data": {
      "application/vnd.jupyter.widget-view+json": {
       "model_id": "27a6c23a3ec8413c95560a2c3d8f821a",
       "version_major": 2,
       "version_minor": 0
      },
      "text/plain": [
       "  0%|          | 0/296 [00:00<?, ?it/s]"
      ]
     },
     "metadata": {},
     "output_type": "display_data"
    },
    {
     "data": {
      "application/vnd.jupyter.widget-view+json": {
       "model_id": "2b42beb6979749909ab75454337c1a83",
       "version_major": 2,
       "version_minor": 0
      },
      "text/plain": [
       "  0%|          | 0/74 [00:00<?, ?it/s]"
      ]
     },
     "metadata": {},
     "output_type": "display_data"
    },
    {
     "name": "stdout",
     "output_type": "stream",
     "text": [
      "Epoch [3], Train Loss : [1.38424] Val Loss : [1.66429] Val F1 Score : [0.55680]\n"
     ]
    },
    {
     "data": {
      "application/vnd.jupyter.widget-view+json": {
       "model_id": "3e5991688be24165b93796b1f651d67c",
       "version_major": 2,
       "version_minor": 0
      },
      "text/plain": [
       "  0%|          | 0/296 [00:00<?, ?it/s]"
      ]
     },
     "metadata": {},
     "output_type": "display_data"
    },
    {
     "data": {
      "application/vnd.jupyter.widget-view+json": {
       "model_id": "61a662e4e3c047fa982f666d48ab9193",
       "version_major": 2,
       "version_minor": 0
      },
      "text/plain": [
       "  0%|          | 0/74 [00:00<?, ?it/s]"
      ]
     },
     "metadata": {},
     "output_type": "display_data"
    },
    {
     "name": "stdout",
     "output_type": "stream",
     "text": [
      "Epoch [4], Train Loss : [1.11449] Val Loss : [10.93012] Val F1 Score : [0.60079]\n"
     ]
    },
    {
     "data": {
      "application/vnd.jupyter.widget-view+json": {
       "model_id": "043e198474ba455c904ec4ecb2ad663a",
       "version_major": 2,
       "version_minor": 0
      },
      "text/plain": [
       "  0%|          | 0/296 [00:00<?, ?it/s]"
      ]
     },
     "metadata": {},
     "output_type": "display_data"
    },
    {
     "data": {
      "application/vnd.jupyter.widget-view+json": {
       "model_id": "c366a0fe3a4d402194b3edd6a5002be3",
       "version_major": 2,
       "version_minor": 0
      },
      "text/plain": [
       "  0%|          | 0/74 [00:00<?, ?it/s]"
      ]
     },
     "metadata": {},
     "output_type": "display_data"
    },
    {
     "name": "stdout",
     "output_type": "stream",
     "text": [
      "Epoch [5], Train Loss : [0.92050] Val Loss : [0.98696] Val F1 Score : [0.66394]\n"
     ]
    },
    {
     "data": {
      "application/vnd.jupyter.widget-view+json": {
       "model_id": "ea93d71891844ecea06c9acf4c226802",
       "version_major": 2,
       "version_minor": 0
      },
      "text/plain": [
       "  0%|          | 0/296 [00:00<?, ?it/s]"
      ]
     },
     "metadata": {},
     "output_type": "display_data"
    },
    {
     "data": {
      "application/vnd.jupyter.widget-view+json": {
       "model_id": "eacf63c5066e457f9165a4e87c24ccca",
       "version_major": 2,
       "version_minor": 0
      },
      "text/plain": [
       "  0%|          | 0/74 [00:00<?, ?it/s]"
      ]
     },
     "metadata": {},
     "output_type": "display_data"
    },
    {
     "name": "stdout",
     "output_type": "stream",
     "text": [
      "Epoch [6], Train Loss : [0.80853] Val Loss : [0.88997] Val F1 Score : [0.70736]\n"
     ]
    },
    {
     "data": {
      "application/vnd.jupyter.widget-view+json": {
       "model_id": "ddf98696151d4210bbc201fadf54d9b0",
       "version_major": 2,
       "version_minor": 0
      },
      "text/plain": [
       "  0%|          | 0/296 [00:00<?, ?it/s]"
      ]
     },
     "metadata": {},
     "output_type": "display_data"
    },
    {
     "data": {
      "application/vnd.jupyter.widget-view+json": {
       "model_id": "a937120b44de4e3d97c6ec8d25f69abb",
       "version_major": 2,
       "version_minor": 0
      },
      "text/plain": [
       "  0%|          | 0/74 [00:00<?, ?it/s]"
      ]
     },
     "metadata": {},
     "output_type": "display_data"
    },
    {
     "name": "stdout",
     "output_type": "stream",
     "text": [
      "Epoch [7], Train Loss : [0.70011] Val Loss : [2.28833] Val F1 Score : [0.68705]\n"
     ]
    },
    {
     "data": {
      "application/vnd.jupyter.widget-view+json": {
       "model_id": "6402dcc1ef8842c4aad9c4c51f89d18e",
       "version_major": 2,
       "version_minor": 0
      },
      "text/plain": [
       "  0%|          | 0/296 [00:00<?, ?it/s]"
      ]
     },
     "metadata": {},
     "output_type": "display_data"
    },
    {
     "data": {
      "application/vnd.jupyter.widget-view+json": {
       "model_id": "5e2f659041244f329b76dddc649fff83",
       "version_major": 2,
       "version_minor": 0
      },
      "text/plain": [
       "  0%|          | 0/74 [00:00<?, ?it/s]"
      ]
     },
     "metadata": {},
     "output_type": "display_data"
    },
    {
     "name": "stdout",
     "output_type": "stream",
     "text": [
      "Epoch [8], Train Loss : [0.60581] Val Loss : [1.53085] Val F1 Score : [0.69880]\n"
     ]
    },
    {
     "data": {
      "application/vnd.jupyter.widget-view+json": {
       "model_id": "f6cd2a1c17a9404ab67aff47b5fb2f46",
       "version_major": 2,
       "version_minor": 0
      },
      "text/plain": [
       "  0%|          | 0/296 [00:00<?, ?it/s]"
      ]
     },
     "metadata": {},
     "output_type": "display_data"
    },
    {
     "data": {
      "application/vnd.jupyter.widget-view+json": {
       "model_id": "1c5eab5a3da34513bc79e34466cb63ca",
       "version_major": 2,
       "version_minor": 0
      },
      "text/plain": [
       "  0%|          | 0/74 [00:00<?, ?it/s]"
      ]
     },
     "metadata": {},
     "output_type": "display_data"
    },
    {
     "name": "stdout",
     "output_type": "stream",
     "text": [
      "Epoch [9], Train Loss : [0.53688] Val Loss : [1.55519] Val F1 Score : [0.71713]\n"
     ]
    },
    {
     "data": {
      "application/vnd.jupyter.widget-view+json": {
       "model_id": "022585589b034c72b75fc35925125e1c",
       "version_major": 2,
       "version_minor": 0
      },
      "text/plain": [
       "  0%|          | 0/296 [00:00<?, ?it/s]"
      ]
     },
     "metadata": {},
     "output_type": "display_data"
    },
    {
     "data": {
      "application/vnd.jupyter.widget-view+json": {
       "model_id": "d5db194cb07b4c019c10e9b674f53ad8",
       "version_major": 2,
       "version_minor": 0
      },
      "text/plain": [
       "  0%|          | 0/74 [00:00<?, ?it/s]"
      ]
     },
     "metadata": {},
     "output_type": "display_data"
    },
    {
     "name": "stdout",
     "output_type": "stream",
     "text": [
      "Epoch [10], Train Loss : [0.47595] Val Loss : [1.58916] Val F1 Score : [0.73828]\n"
     ]
    },
    {
     "data": {
      "application/vnd.jupyter.widget-view+json": {
       "model_id": "c189d04a3d0543089ad0205ab0c7bc15",
       "version_major": 2,
       "version_minor": 0
      },
      "text/plain": [
       "  0%|          | 0/296 [00:00<?, ?it/s]"
      ]
     },
     "metadata": {},
     "output_type": "display_data"
    },
    {
     "data": {
      "application/vnd.jupyter.widget-view+json": {
       "model_id": "ad5bc4d719d041a7b4332884a27a253a",
       "version_major": 2,
       "version_minor": 0
      },
      "text/plain": [
       "  0%|          | 0/74 [00:00<?, ?it/s]"
      ]
     },
     "metadata": {},
     "output_type": "display_data"
    },
    {
     "name": "stdout",
     "output_type": "stream",
     "text": [
      "Epoch [11], Train Loss : [0.38231] Val Loss : [6.32857] Val F1 Score : [0.72827]\n"
     ]
    },
    {
     "data": {
      "application/vnd.jupyter.widget-view+json": {
       "model_id": "7d26e3d7cdae46808a41e3c0d091dedf",
       "version_major": 2,
       "version_minor": 0
      },
      "text/plain": [
       "  0%|          | 0/296 [00:00<?, ?it/s]"
      ]
     },
     "metadata": {},
     "output_type": "display_data"
    },
    {
     "data": {
      "application/vnd.jupyter.widget-view+json": {
       "model_id": "0bd6973d49ff47c3811a85171f8d9f3a",
       "version_major": 2,
       "version_minor": 0
      },
      "text/plain": [
       "  0%|          | 0/74 [00:00<?, ?it/s]"
      ]
     },
     "metadata": {},
     "output_type": "display_data"
    },
    {
     "name": "stdout",
     "output_type": "stream",
     "text": [
      "Epoch [12], Train Loss : [0.37177] Val Loss : [2.27956] Val F1 Score : [0.73956]\n"
     ]
    },
    {
     "data": {
      "application/vnd.jupyter.widget-view+json": {
       "model_id": "056df1b2d517482e8201e1b9e635d9df",
       "version_major": 2,
       "version_minor": 0
      },
      "text/plain": [
       "  0%|          | 0/296 [00:00<?, ?it/s]"
      ]
     },
     "metadata": {},
     "output_type": "display_data"
    },
    {
     "data": {
      "application/vnd.jupyter.widget-view+json": {
       "model_id": "4cd40e8d8433420484643a55b90ba7a7",
       "version_major": 2,
       "version_minor": 0
      },
      "text/plain": [
       "  0%|          | 0/74 [00:00<?, ?it/s]"
      ]
     },
     "metadata": {},
     "output_type": "display_data"
    },
    {
     "name": "stdout",
     "output_type": "stream",
     "text": [
      "Epoch [13], Train Loss : [0.33208] Val Loss : [0.91502] Val F1 Score : [0.76212]\n"
     ]
    },
    {
     "data": {
      "application/vnd.jupyter.widget-view+json": {
       "model_id": "500781f600b84ee8b3150b705d9e797c",
       "version_major": 2,
       "version_minor": 0
      },
      "text/plain": [
       "  0%|          | 0/296 [00:00<?, ?it/s]"
      ]
     },
     "metadata": {},
     "output_type": "display_data"
    },
    {
     "data": {
      "application/vnd.jupyter.widget-view+json": {
       "model_id": "d803607f1f3245d2982d54c7b194fd7b",
       "version_major": 2,
       "version_minor": 0
      },
      "text/plain": [
       "  0%|          | 0/74 [00:00<?, ?it/s]"
      ]
     },
     "metadata": {},
     "output_type": "display_data"
    },
    {
     "name": "stdout",
     "output_type": "stream",
     "text": [
      "Epoch [14], Train Loss : [0.30703] Val Loss : [1.17400] Val F1 Score : [0.75043]\n"
     ]
    },
    {
     "data": {
      "application/vnd.jupyter.widget-view+json": {
       "model_id": "43a71f75496442dab1db815e0a7bf1da",
       "version_major": 2,
       "version_minor": 0
      },
      "text/plain": [
       "  0%|          | 0/296 [00:00<?, ?it/s]"
      ]
     },
     "metadata": {},
     "output_type": "display_data"
    },
    {
     "data": {
      "application/vnd.jupyter.widget-view+json": {
       "model_id": "4f7d0d3dd0774be99dfe244653a1dc8a",
       "version_major": 2,
       "version_minor": 0
      },
      "text/plain": [
       "  0%|          | 0/74 [00:00<?, ?it/s]"
      ]
     },
     "metadata": {},
     "output_type": "display_data"
    },
    {
     "name": "stdout",
     "output_type": "stream",
     "text": [
      "Epoch [15], Train Loss : [0.29056] Val Loss : [4.57718] Val F1 Score : [0.73297]\n"
     ]
    },
    {
     "data": {
      "application/vnd.jupyter.widget-view+json": {
       "model_id": "46c0b07ee84142cf9295d4e72ffce75d",
       "version_major": 2,
       "version_minor": 0
      },
      "text/plain": [
       "  0%|          | 0/296 [00:00<?, ?it/s]"
      ]
     },
     "metadata": {},
     "output_type": "display_data"
    },
    {
     "data": {
      "application/vnd.jupyter.widget-view+json": {
       "model_id": "f90d1c591c784893b18dc1cee7c0a863",
       "version_major": 2,
       "version_minor": 0
      },
      "text/plain": [
       "  0%|          | 0/74 [00:00<?, ?it/s]"
      ]
     },
     "metadata": {},
     "output_type": "display_data"
    },
    {
     "name": "stdout",
     "output_type": "stream",
     "text": [
      "Epoch [16], Train Loss : [0.26246] Val Loss : [5.86595] Val F1 Score : [0.74171]\n"
     ]
    },
    {
     "data": {
      "application/vnd.jupyter.widget-view+json": {
       "model_id": "46bca2ab475b44e7941020a7c3efa538",
       "version_major": 2,
       "version_minor": 0
      },
      "text/plain": [
       "  0%|          | 0/296 [00:00<?, ?it/s]"
      ]
     },
     "metadata": {},
     "output_type": "display_data"
    },
    {
     "data": {
      "application/vnd.jupyter.widget-view+json": {
       "model_id": "fb1203ac737a41bfbba91eee8d2952d7",
       "version_major": 2,
       "version_minor": 0
      },
      "text/plain": [
       "  0%|          | 0/74 [00:00<?, ?it/s]"
      ]
     },
     "metadata": {},
     "output_type": "display_data"
    },
    {
     "name": "stdout",
     "output_type": "stream",
     "text": [
      "Epoch [17], Train Loss : [0.24770] Val Loss : [0.95076] Val F1 Score : [0.76121]\n"
     ]
    },
    {
     "data": {
      "application/vnd.jupyter.widget-view+json": {
       "model_id": "e02223681fa64fea971c331e92e519b7",
       "version_major": 2,
       "version_minor": 0
      },
      "text/plain": [
       "  0%|          | 0/296 [00:00<?, ?it/s]"
      ]
     },
     "metadata": {},
     "output_type": "display_data"
    },
    {
     "data": {
      "application/vnd.jupyter.widget-view+json": {
       "model_id": "3ff6b1c32dce4258a9b3671e3c840f96",
       "version_major": 2,
       "version_minor": 0
      },
      "text/plain": [
       "  0%|          | 0/74 [00:00<?, ?it/s]"
      ]
     },
     "metadata": {},
     "output_type": "display_data"
    },
    {
     "name": "stdout",
     "output_type": "stream",
     "text": [
      "Epoch [18], Train Loss : [0.23292] Val Loss : [1.05648] Val F1 Score : [0.76255]\n"
     ]
    },
    {
     "data": {
      "application/vnd.jupyter.widget-view+json": {
       "model_id": "a128b39eca284a628845b526b837ae17",
       "version_major": 2,
       "version_minor": 0
      },
      "text/plain": [
       "  0%|          | 0/296 [00:00<?, ?it/s]"
      ]
     },
     "metadata": {},
     "output_type": "display_data"
    },
    {
     "data": {
      "application/vnd.jupyter.widget-view+json": {
       "model_id": "055183f28d514ba4bbbb0273f206489b",
       "version_major": 2,
       "version_minor": 0
      },
      "text/plain": [
       "  0%|          | 0/74 [00:00<?, ?it/s]"
      ]
     },
     "metadata": {},
     "output_type": "display_data"
    },
    {
     "name": "stdout",
     "output_type": "stream",
     "text": [
      "Epoch [19], Train Loss : [0.23622] Val Loss : [3.72793] Val F1 Score : [0.74958]\n"
     ]
    },
    {
     "data": {
      "application/vnd.jupyter.widget-view+json": {
       "model_id": "d26342cfe64b40629da68d7a403a803d",
       "version_major": 2,
       "version_minor": 0
      },
      "text/plain": [
       "  0%|          | 0/296 [00:00<?, ?it/s]"
      ]
     },
     "metadata": {},
     "output_type": "display_data"
    },
    {
     "data": {
      "application/vnd.jupyter.widget-view+json": {
       "model_id": "34b27cbd048b4e70b9da1c4d6b3ac2ae",
       "version_major": 2,
       "version_minor": 0
      },
      "text/plain": [
       "  0%|          | 0/74 [00:00<?, ?it/s]"
      ]
     },
     "metadata": {},
     "output_type": "display_data"
    },
    {
     "name": "stdout",
     "output_type": "stream",
     "text": [
      "Epoch [20], Train Loss : [0.19691] Val Loss : [1.31184] Val F1 Score : [0.75902]\n"
     ]
    },
    {
     "data": {
      "application/vnd.jupyter.widget-view+json": {
       "model_id": "6cba659353b6436abb704f76168aa83c",
       "version_major": 2,
       "version_minor": 0
      },
      "text/plain": [
       "  0%|          | 0/296 [00:00<?, ?it/s]"
      ]
     },
     "metadata": {},
     "output_type": "display_data"
    },
    {
     "data": {
      "application/vnd.jupyter.widget-view+json": {
       "model_id": "972f1c6008ca44f5aefb9d9e826cc2df",
       "version_major": 2,
       "version_minor": 0
      },
      "text/plain": [
       "  0%|          | 0/74 [00:00<?, ?it/s]"
      ]
     },
     "metadata": {},
     "output_type": "display_data"
    },
    {
     "name": "stdout",
     "output_type": "stream",
     "text": [
      "Epoch [21], Train Loss : [0.18796] Val Loss : [0.78035] Val F1 Score : [0.76742]\n"
     ]
    },
    {
     "data": {
      "application/vnd.jupyter.widget-view+json": {
       "model_id": "12931e2bb494487ca22540ba1a8f553a",
       "version_major": 2,
       "version_minor": 0
      },
      "text/plain": [
       "  0%|          | 0/296 [00:00<?, ?it/s]"
      ]
     },
     "metadata": {},
     "output_type": "display_data"
    },
    {
     "data": {
      "application/vnd.jupyter.widget-view+json": {
       "model_id": "be6ad0e6844c46b8bfdd08dfc812bf48",
       "version_major": 2,
       "version_minor": 0
      },
      "text/plain": [
       "  0%|          | 0/74 [00:00<?, ?it/s]"
      ]
     },
     "metadata": {},
     "output_type": "display_data"
    },
    {
     "name": "stdout",
     "output_type": "stream",
     "text": [
      "Epoch [22], Train Loss : [0.17296] Val Loss : [0.95592] Val F1 Score : [0.76110]\n"
     ]
    },
    {
     "data": {
      "application/vnd.jupyter.widget-view+json": {
       "model_id": "716c084691cc40ea91e6a3ca7836b484",
       "version_major": 2,
       "version_minor": 0
      },
      "text/plain": [
       "  0%|          | 0/296 [00:00<?, ?it/s]"
      ]
     },
     "metadata": {},
     "output_type": "display_data"
    },
    {
     "data": {
      "application/vnd.jupyter.widget-view+json": {
       "model_id": "c09951c420c7428aaad2ba8b4bf3de1b",
       "version_major": 2,
       "version_minor": 0
      },
      "text/plain": [
       "  0%|          | 0/74 [00:00<?, ?it/s]"
      ]
     },
     "metadata": {},
     "output_type": "display_data"
    },
    {
     "name": "stdout",
     "output_type": "stream",
     "text": [
      "Epoch [23], Train Loss : [0.17477] Val Loss : [0.75100] Val F1 Score : [0.75959]\n"
     ]
    },
    {
     "data": {
      "application/vnd.jupyter.widget-view+json": {
       "model_id": "29fb9483b4f947ca986083c1dbd63218",
       "version_major": 2,
       "version_minor": 0
      },
      "text/plain": [
       "  0%|          | 0/296 [00:00<?, ?it/s]"
      ]
     },
     "metadata": {},
     "output_type": "display_data"
    },
    {
     "data": {
      "application/vnd.jupyter.widget-view+json": {
       "model_id": "fd97756cdbcb4b04a1cb7399911a672c",
       "version_major": 2,
       "version_minor": 0
      },
      "text/plain": [
       "  0%|          | 0/74 [00:00<?, ?it/s]"
      ]
     },
     "metadata": {},
     "output_type": "display_data"
    },
    {
     "name": "stdout",
     "output_type": "stream",
     "text": [
      "Epoch [24], Train Loss : [0.16227] Val Loss : [1.20974] Val F1 Score : [0.75511]\n"
     ]
    },
    {
     "data": {
      "application/vnd.jupyter.widget-view+json": {
       "model_id": "846d74bfd8dc40349d1bf616fef6d424",
       "version_major": 2,
       "version_minor": 0
      },
      "text/plain": [
       "  0%|          | 0/296 [00:00<?, ?it/s]"
      ]
     },
     "metadata": {},
     "output_type": "display_data"
    },
    {
     "data": {
      "application/vnd.jupyter.widget-view+json": {
       "model_id": "6dd8b7d873894ed5a89211d1c7633384",
       "version_major": 2,
       "version_minor": 0
      },
      "text/plain": [
       "  0%|          | 0/74 [00:00<?, ?it/s]"
      ]
     },
     "metadata": {},
     "output_type": "display_data"
    },
    {
     "name": "stdout",
     "output_type": "stream",
     "text": [
      "Epoch [25], Train Loss : [0.15522] Val Loss : [1.51613] Val F1 Score : [0.75224]\n"
     ]
    },
    {
     "data": {
      "application/vnd.jupyter.widget-view+json": {
       "model_id": "03f7e9fbc3ed4dc18aa732e170d0a7e6",
       "version_major": 2,
       "version_minor": 0
      },
      "text/plain": [
       "  0%|          | 0/296 [00:00<?, ?it/s]"
      ]
     },
     "metadata": {},
     "output_type": "display_data"
    },
    {
     "data": {
      "application/vnd.jupyter.widget-view+json": {
       "model_id": "2b850ea7d0bc445288815854bde32fa2",
       "version_major": 2,
       "version_minor": 0
      },
      "text/plain": [
       "  0%|          | 0/74 [00:00<?, ?it/s]"
      ]
     },
     "metadata": {},
     "output_type": "display_data"
    },
    {
     "name": "stdout",
     "output_type": "stream",
     "text": [
      "Epoch [26], Train Loss : [0.15120] Val Loss : [1.24624] Val F1 Score : [0.75991]\n"
     ]
    },
    {
     "data": {
      "application/vnd.jupyter.widget-view+json": {
       "model_id": "ff1d1450d60441e389bee01227a418f7",
       "version_major": 2,
       "version_minor": 0
      },
      "text/plain": [
       "  0%|          | 0/296 [00:00<?, ?it/s]"
      ]
     },
     "metadata": {},
     "output_type": "display_data"
    },
    {
     "data": {
      "application/vnd.jupyter.widget-view+json": {
       "model_id": "e373a2cb03d343f8bfa961640d6c12f0",
       "version_major": 2,
       "version_minor": 0
      },
      "text/plain": [
       "  0%|          | 0/74 [00:00<?, ?it/s]"
      ]
     },
     "metadata": {},
     "output_type": "display_data"
    },
    {
     "name": "stdout",
     "output_type": "stream",
     "text": [
      "Epoch [27], Train Loss : [0.14973] Val Loss : [1.26375] Val F1 Score : [0.77462]\n"
     ]
    },
    {
     "data": {
      "application/vnd.jupyter.widget-view+json": {
       "model_id": "b77d5d22f0554175a26853f29a2b4b85",
       "version_major": 2,
       "version_minor": 0
      },
      "text/plain": [
       "  0%|          | 0/296 [00:00<?, ?it/s]"
      ]
     },
     "metadata": {},
     "output_type": "display_data"
    },
    {
     "data": {
      "application/vnd.jupyter.widget-view+json": {
       "model_id": "390c293014a947c8a93c7e4214d5f42f",
       "version_major": 2,
       "version_minor": 0
      },
      "text/plain": [
       "  0%|          | 0/74 [00:00<?, ?it/s]"
      ]
     },
     "metadata": {},
     "output_type": "display_data"
    },
    {
     "name": "stdout",
     "output_type": "stream",
     "text": [
      "Epoch [28], Train Loss : [0.13176] Val Loss : [0.95489] Val F1 Score : [0.77805]\n"
     ]
    },
    {
     "data": {
      "application/vnd.jupyter.widget-view+json": {
       "model_id": "3a52554e4bb94d448a2593c6ef448354",
       "version_major": 2,
       "version_minor": 0
      },
      "text/plain": [
       "  0%|          | 0/296 [00:00<?, ?it/s]"
      ]
     },
     "metadata": {},
     "output_type": "display_data"
    },
    {
     "data": {
      "application/vnd.jupyter.widget-view+json": {
       "model_id": "c180e02173cf4a8dae9ca2cfd40b4507",
       "version_major": 2,
       "version_minor": 0
      },
      "text/plain": [
       "  0%|          | 0/74 [00:00<?, ?it/s]"
      ]
     },
     "metadata": {},
     "output_type": "display_data"
    },
    {
     "name": "stdout",
     "output_type": "stream",
     "text": [
      "Epoch [29], Train Loss : [0.12939] Val Loss : [1.39810] Val F1 Score : [0.75337]\n"
     ]
    },
    {
     "data": {
      "application/vnd.jupyter.widget-view+json": {
       "model_id": "4e7d37dfeb1e4491bde2aa830fada13d",
       "version_major": 2,
       "version_minor": 0
      },
      "text/plain": [
       "  0%|          | 0/296 [00:00<?, ?it/s]"
      ]
     },
     "metadata": {},
     "output_type": "display_data"
    },
    {
     "data": {
      "application/vnd.jupyter.widget-view+json": {
       "model_id": "9c23cc7d349d4767851f41ef8a289eff",
       "version_major": 2,
       "version_minor": 0
      },
      "text/plain": [
       "  0%|          | 0/74 [00:00<?, ?it/s]"
      ]
     },
     "metadata": {},
     "output_type": "display_data"
    },
    {
     "name": "stdout",
     "output_type": "stream",
     "text": [
      "Epoch [30], Train Loss : [0.12304] Val Loss : [0.89081] Val F1 Score : [0.77000]\n"
     ]
    }
   ],
   "source": [
    "#0.79137 batch:16, epoch:30, lr[10,20]\n",
    "#0.79599 batch:8, epoch:30, LR: [9,18,27]\n",
    "\n",
    "train_dataset_4 = CustomDataset(train_img_paths, train_labels, resize_transform(384,'train'))\n",
    "train_loader_4 = DataLoader(train_dataset_4, batch_size = 16, shuffle=True, num_workers=0)\n",
    "\n",
    "val_dataset_4 = CustomDataset(val_img_paths, val_labels, resize_transform(384,'test'))\n",
    "val_loader_4 = DataLoader(val_dataset_4, batch_size=16, shuffle=False, num_workers=0)\n",
    "\n",
    "model_4 = EfficientNet_B4()\n",
    "optimizer_4 = torch.optim.Adam(params = model_4.parameters(), lr = CFG[\"LEARNING_RATE\"])\n",
    "scheduler_4 = lr_scheduler.MultiStepLR(optimizer_4, milestones=[10,20], gamma=0.5)\n",
    "infer_model_4 = train(model_4, num_epoch, optimizer_4, train_loader_4, val_loader_4, scheduler_4, device)"
   ]
  },
  {
   "cell_type": "code",
   "execution_count": 85,
   "id": "c3c877ae",
   "metadata": {},
   "outputs": [],
   "source": [
    "torch.save(infer_model_4,'weights/b4_16_30.pt')\n",
    "gc.collect()\n",
    "torch.cuda.empty_cache()"
   ]
  },
  {
   "cell_type": "code",
   "execution_count": 86,
   "id": "b9fa6194-0c28-4490-8fa7-cf7fb89606a0",
   "metadata": {
    "scrolled": true,
    "tags": []
   },
   "outputs": [
    {
     "data": {
      "application/vnd.jupyter.widget-view+json": {
       "model_id": "56e787e382644b74bfab987fdf6c1779",
       "version_major": 2,
       "version_minor": 0
      },
      "text/plain": [
       "  0%|          | 0/591 [00:00<?, ?it/s]"
      ]
     },
     "metadata": {},
     "output_type": "display_data"
    },
    {
     "data": {
      "application/vnd.jupyter.widget-view+json": {
       "model_id": "fea2b73320264d3da017c8a739680611",
       "version_major": 2,
       "version_minor": 0
      },
      "text/plain": [
       "  0%|          | 0/148 [00:00<?, ?it/s]"
      ]
     },
     "metadata": {},
     "output_type": "display_data"
    },
    {
     "name": "stdout",
     "output_type": "stream",
     "text": [
      "Epoch [1], Train Loss : [2.51193] Val Loss : [1.97491] Val F1 Score : [0.30960]\n"
     ]
    },
    {
     "data": {
      "application/vnd.jupyter.widget-view+json": {
       "model_id": "9a94155580604929a94016a63b20478b",
       "version_major": 2,
       "version_minor": 0
      },
      "text/plain": [
       "  0%|          | 0/591 [00:00<?, ?it/s]"
      ]
     },
     "metadata": {},
     "output_type": "display_data"
    },
    {
     "data": {
      "application/vnd.jupyter.widget-view+json": {
       "model_id": "3136b23f249e40ee952c8e5522703b9a",
       "version_major": 2,
       "version_minor": 0
      },
      "text/plain": [
       "  0%|          | 0/148 [00:00<?, ?it/s]"
      ]
     },
     "metadata": {},
     "output_type": "display_data"
    },
    {
     "name": "stdout",
     "output_type": "stream",
     "text": [
      "Epoch [2], Train Loss : [1.64648] Val Loss : [1.43324] Val F1 Score : [0.46855]\n"
     ]
    },
    {
     "data": {
      "application/vnd.jupyter.widget-view+json": {
       "model_id": "1bafe182adc844ce9014c51009afb2a6",
       "version_major": 2,
       "version_minor": 0
      },
      "text/plain": [
       "  0%|          | 0/591 [00:00<?, ?it/s]"
      ]
     },
     "metadata": {},
     "output_type": "display_data"
    },
    {
     "data": {
      "application/vnd.jupyter.widget-view+json": {
       "model_id": "68f28293ea084236959dbdb74fd2050d",
       "version_major": 2,
       "version_minor": 0
      },
      "text/plain": [
       "  0%|          | 0/148 [00:00<?, ?it/s]"
      ]
     },
     "metadata": {},
     "output_type": "display_data"
    },
    {
     "name": "stdout",
     "output_type": "stream",
     "text": [
      "Epoch [3], Train Loss : [1.32825] Val Loss : [1.23640] Val F1 Score : [0.58010]\n"
     ]
    },
    {
     "data": {
      "application/vnd.jupyter.widget-view+json": {
       "model_id": "20cebbe5d1bc4fe59f3798487c986356",
       "version_major": 2,
       "version_minor": 0
      },
      "text/plain": [
       "  0%|          | 0/591 [00:00<?, ?it/s]"
      ]
     },
     "metadata": {},
     "output_type": "display_data"
    },
    {
     "data": {
      "application/vnd.jupyter.widget-view+json": {
       "model_id": "e9c4ea96d606412da8db1ad38c72b89d",
       "version_major": 2,
       "version_minor": 0
      },
      "text/plain": [
       "  0%|          | 0/148 [00:00<?, ?it/s]"
      ]
     },
     "metadata": {},
     "output_type": "display_data"
    },
    {
     "name": "stdout",
     "output_type": "stream",
     "text": [
      "Epoch [4], Train Loss : [1.14749] Val Loss : [1.13339] Val F1 Score : [0.61950]\n"
     ]
    },
    {
     "data": {
      "application/vnd.jupyter.widget-view+json": {
       "model_id": "40bbc691c5634ffdb55c412aa898642d",
       "version_major": 2,
       "version_minor": 0
      },
      "text/plain": [
       "  0%|          | 0/591 [00:00<?, ?it/s]"
      ]
     },
     "metadata": {},
     "output_type": "display_data"
    },
    {
     "data": {
      "application/vnd.jupyter.widget-view+json": {
       "model_id": "f3553ea6df8c4b6f83a031a701de7e5a",
       "version_major": 2,
       "version_minor": 0
      },
      "text/plain": [
       "  0%|          | 0/148 [00:00<?, ?it/s]"
      ]
     },
     "metadata": {},
     "output_type": "display_data"
    },
    {
     "name": "stdout",
     "output_type": "stream",
     "text": [
      "Epoch [5], Train Loss : [1.01356] Val Loss : [1.17801] Val F1 Score : [0.63698]\n"
     ]
    },
    {
     "data": {
      "application/vnd.jupyter.widget-view+json": {
       "model_id": "323c986208784cfb9e29cb832c58fd13",
       "version_major": 2,
       "version_minor": 0
      },
      "text/plain": [
       "  0%|          | 0/591 [00:00<?, ?it/s]"
      ]
     },
     "metadata": {},
     "output_type": "display_data"
    },
    {
     "data": {
      "application/vnd.jupyter.widget-view+json": {
       "model_id": "9638a6e5c040457689b813d176614650",
       "version_major": 2,
       "version_minor": 0
      },
      "text/plain": [
       "  0%|          | 0/148 [00:00<?, ?it/s]"
      ]
     },
     "metadata": {},
     "output_type": "display_data"
    },
    {
     "name": "stdout",
     "output_type": "stream",
     "text": [
      "Epoch [6], Train Loss : [0.92527] Val Loss : [1.04973] Val F1 Score : [0.67086]\n"
     ]
    },
    {
     "data": {
      "application/vnd.jupyter.widget-view+json": {
       "model_id": "adf0bbb4a15544fe9020cc706de5684e",
       "version_major": 2,
       "version_minor": 0
      },
      "text/plain": [
       "  0%|          | 0/591 [00:00<?, ?it/s]"
      ]
     },
     "metadata": {},
     "output_type": "display_data"
    },
    {
     "data": {
      "application/vnd.jupyter.widget-view+json": {
       "model_id": "2951eb72550947928ff1fc99ac92ef20",
       "version_major": 2,
       "version_minor": 0
      },
      "text/plain": [
       "  0%|          | 0/148 [00:00<?, ?it/s]"
      ]
     },
     "metadata": {},
     "output_type": "display_data"
    },
    {
     "name": "stdout",
     "output_type": "stream",
     "text": [
      "Epoch [7], Train Loss : [0.78327] Val Loss : [1.04653] Val F1 Score : [0.68456]\n"
     ]
    },
    {
     "data": {
      "application/vnd.jupyter.widget-view+json": {
       "model_id": "53b54dea01fe4146a3c1ed838a693259",
       "version_major": 2,
       "version_minor": 0
      },
      "text/plain": [
       "  0%|          | 0/591 [00:00<?, ?it/s]"
      ]
     },
     "metadata": {},
     "output_type": "display_data"
    },
    {
     "data": {
      "application/vnd.jupyter.widget-view+json": {
       "model_id": "209cf3ef472740c2aa6023e8a9a4425d",
       "version_major": 2,
       "version_minor": 0
      },
      "text/plain": [
       "  0%|          | 0/148 [00:00<?, ?it/s]"
      ]
     },
     "metadata": {},
     "output_type": "display_data"
    },
    {
     "name": "stdout",
     "output_type": "stream",
     "text": [
      "Epoch [8], Train Loss : [0.76528] Val Loss : [1.00756] Val F1 Score : [0.67516]\n"
     ]
    },
    {
     "data": {
      "application/vnd.jupyter.widget-view+json": {
       "model_id": "bbdc21a3bd3b47feb36000f36225120e",
       "version_major": 2,
       "version_minor": 0
      },
      "text/plain": [
       "  0%|          | 0/591 [00:00<?, ?it/s]"
      ]
     },
     "metadata": {},
     "output_type": "display_data"
    },
    {
     "data": {
      "application/vnd.jupyter.widget-view+json": {
       "model_id": "e9895baeaf35417a86487f2aaee36784",
       "version_major": 2,
       "version_minor": 0
      },
      "text/plain": [
       "  0%|          | 0/148 [00:00<?, ?it/s]"
      ]
     },
     "metadata": {},
     "output_type": "display_data"
    },
    {
     "name": "stdout",
     "output_type": "stream",
     "text": [
      "Epoch [9], Train Loss : [0.70089] Val Loss : [1.04308] Val F1 Score : [0.68798]\n"
     ]
    },
    {
     "data": {
      "application/vnd.jupyter.widget-view+json": {
       "model_id": "2878428eb07d43fa8de219b284559cef",
       "version_major": 2,
       "version_minor": 0
      },
      "text/plain": [
       "  0%|          | 0/591 [00:00<?, ?it/s]"
      ]
     },
     "metadata": {},
     "output_type": "display_data"
    },
    {
     "data": {
      "application/vnd.jupyter.widget-view+json": {
       "model_id": "86a5dba503be4d09bf5e65c4384271cb",
       "version_major": 2,
       "version_minor": 0
      },
      "text/plain": [
       "  0%|          | 0/148 [00:00<?, ?it/s]"
      ]
     },
     "metadata": {},
     "output_type": "display_data"
    },
    {
     "name": "stdout",
     "output_type": "stream",
     "text": [
      "Epoch [10], Train Loss : [0.64987] Val Loss : [1.12222] Val F1 Score : [0.68364]\n"
     ]
    },
    {
     "data": {
      "application/vnd.jupyter.widget-view+json": {
       "model_id": "c9e9b41f2a46489c9a458d7fc84e20db",
       "version_major": 2,
       "version_minor": 0
      },
      "text/plain": [
       "  0%|          | 0/591 [00:00<?, ?it/s]"
      ]
     },
     "metadata": {},
     "output_type": "display_data"
    },
    {
     "data": {
      "application/vnd.jupyter.widget-view+json": {
       "model_id": "ceb83d3b40444f8d87e2d4f087189478",
       "version_major": 2,
       "version_minor": 0
      },
      "text/plain": [
       "  0%|          | 0/148 [00:00<?, ?it/s]"
      ]
     },
     "metadata": {},
     "output_type": "display_data"
    },
    {
     "name": "stdout",
     "output_type": "stream",
     "text": [
      "Epoch [11], Train Loss : [0.44780] Val Loss : [0.84712] Val F1 Score : [0.73782]\n"
     ]
    },
    {
     "data": {
      "application/vnd.jupyter.widget-view+json": {
       "model_id": "c80c6a6bbde248bbbd65a35475a2afcc",
       "version_major": 2,
       "version_minor": 0
      },
      "text/plain": [
       "  0%|          | 0/591 [00:00<?, ?it/s]"
      ]
     },
     "metadata": {},
     "output_type": "display_data"
    },
    {
     "data": {
      "application/vnd.jupyter.widget-view+json": {
       "model_id": "6916796ffe634a00bd99f5e5096b41ef",
       "version_major": 2,
       "version_minor": 0
      },
      "text/plain": [
       "  0%|          | 0/148 [00:00<?, ?it/s]"
      ]
     },
     "metadata": {},
     "output_type": "display_data"
    },
    {
     "name": "stdout",
     "output_type": "stream",
     "text": [
      "Epoch [12], Train Loss : [0.36607] Val Loss : [0.89972] Val F1 Score : [0.74845]\n"
     ]
    },
    {
     "data": {
      "application/vnd.jupyter.widget-view+json": {
       "model_id": "a80f6d1b4139404990c50d25489251af",
       "version_major": 2,
       "version_minor": 0
      },
      "text/plain": [
       "  0%|          | 0/591 [00:00<?, ?it/s]"
      ]
     },
     "metadata": {},
     "output_type": "display_data"
    },
    {
     "data": {
      "application/vnd.jupyter.widget-view+json": {
       "model_id": "9f2f22282b0d462a9e1115a9585c328d",
       "version_major": 2,
       "version_minor": 0
      },
      "text/plain": [
       "  0%|          | 0/148 [00:00<?, ?it/s]"
      ]
     },
     "metadata": {},
     "output_type": "display_data"
    },
    {
     "name": "stdout",
     "output_type": "stream",
     "text": [
      "Epoch [13], Train Loss : [0.34390] Val Loss : [0.82024] Val F1 Score : [0.77353]\n"
     ]
    },
    {
     "data": {
      "application/vnd.jupyter.widget-view+json": {
       "model_id": "7a4238b08fea4e5a9735a340cef6c8b5",
       "version_major": 2,
       "version_minor": 0
      },
      "text/plain": [
       "  0%|          | 0/591 [00:00<?, ?it/s]"
      ]
     },
     "metadata": {},
     "output_type": "display_data"
    },
    {
     "data": {
      "application/vnd.jupyter.widget-view+json": {
       "model_id": "779c3557c26b419080720350e84eabad",
       "version_major": 2,
       "version_minor": 0
      },
      "text/plain": [
       "  0%|          | 0/148 [00:00<?, ?it/s]"
      ]
     },
     "metadata": {},
     "output_type": "display_data"
    },
    {
     "name": "stdout",
     "output_type": "stream",
     "text": [
      "Epoch [14], Train Loss : [0.31029] Val Loss : [0.84894] Val F1 Score : [0.78619]\n"
     ]
    },
    {
     "data": {
      "application/vnd.jupyter.widget-view+json": {
       "model_id": "29164d59ecc3437cb42a807c91ca7e34",
       "version_major": 2,
       "version_minor": 0
      },
      "text/plain": [
       "  0%|          | 0/591 [00:00<?, ?it/s]"
      ]
     },
     "metadata": {},
     "output_type": "display_data"
    },
    {
     "data": {
      "application/vnd.jupyter.widget-view+json": {
       "model_id": "0da5f0c85b92419a8d9018fe3e63528b",
       "version_major": 2,
       "version_minor": 0
      },
      "text/plain": [
       "  0%|          | 0/148 [00:00<?, ?it/s]"
      ]
     },
     "metadata": {},
     "output_type": "display_data"
    },
    {
     "name": "stdout",
     "output_type": "stream",
     "text": [
      "Epoch [15], Train Loss : [0.27588] Val Loss : [0.90589] Val F1 Score : [0.75371]\n"
     ]
    },
    {
     "data": {
      "application/vnd.jupyter.widget-view+json": {
       "model_id": "ce5ca910d3024c989f56fed46366e9be",
       "version_major": 2,
       "version_minor": 0
      },
      "text/plain": [
       "  0%|          | 0/591 [00:00<?, ?it/s]"
      ]
     },
     "metadata": {},
     "output_type": "display_data"
    },
    {
     "data": {
      "application/vnd.jupyter.widget-view+json": {
       "model_id": "20460e468cae44f1a7f2bdb65c404df1",
       "version_major": 2,
       "version_minor": 0
      },
      "text/plain": [
       "  0%|          | 0/148 [00:00<?, ?it/s]"
      ]
     },
     "metadata": {},
     "output_type": "display_data"
    },
    {
     "name": "stdout",
     "output_type": "stream",
     "text": [
      "Epoch [16], Train Loss : [0.27717] Val Loss : [0.85182] Val F1 Score : [0.77368]\n"
     ]
    },
    {
     "data": {
      "application/vnd.jupyter.widget-view+json": {
       "model_id": "3050a1690b1e48cf97765e11bda8d00e",
       "version_major": 2,
       "version_minor": 0
      },
      "text/plain": [
       "  0%|          | 0/591 [00:00<?, ?it/s]"
      ]
     },
     "metadata": {},
     "output_type": "display_data"
    },
    {
     "data": {
      "application/vnd.jupyter.widget-view+json": {
       "model_id": "7009317a2b734c14a169e395414a5b75",
       "version_major": 2,
       "version_minor": 0
      },
      "text/plain": [
       "  0%|          | 0/148 [00:00<?, ?it/s]"
      ]
     },
     "metadata": {},
     "output_type": "display_data"
    },
    {
     "name": "stdout",
     "output_type": "stream",
     "text": [
      "Epoch [17], Train Loss : [0.25863] Val Loss : [0.90642] Val F1 Score : [0.75616]\n"
     ]
    },
    {
     "data": {
      "application/vnd.jupyter.widget-view+json": {
       "model_id": "b1d2176095104e14ba3937a6ef7ae4c0",
       "version_major": 2,
       "version_minor": 0
      },
      "text/plain": [
       "  0%|          | 0/591 [00:00<?, ?it/s]"
      ]
     },
     "metadata": {},
     "output_type": "display_data"
    },
    {
     "data": {
      "application/vnd.jupyter.widget-view+json": {
       "model_id": "f115cc627f9842abbf48520d002d0785",
       "version_major": 2,
       "version_minor": 0
      },
      "text/plain": [
       "  0%|          | 0/148 [00:00<?, ?it/s]"
      ]
     },
     "metadata": {},
     "output_type": "display_data"
    },
    {
     "name": "stdout",
     "output_type": "stream",
     "text": [
      "Epoch [18], Train Loss : [0.24753] Val Loss : [0.89566] Val F1 Score : [0.76424]\n"
     ]
    },
    {
     "data": {
      "application/vnd.jupyter.widget-view+json": {
       "model_id": "89419bca9fda4b4fae807368a9bf4065",
       "version_major": 2,
       "version_minor": 0
      },
      "text/plain": [
       "  0%|          | 0/591 [00:00<?, ?it/s]"
      ]
     },
     "metadata": {},
     "output_type": "display_data"
    },
    {
     "data": {
      "application/vnd.jupyter.widget-view+json": {
       "model_id": "8674ed676c8840f29da4c1bd52cfe7f7",
       "version_major": 2,
       "version_minor": 0
      },
      "text/plain": [
       "  0%|          | 0/148 [00:00<?, ?it/s]"
      ]
     },
     "metadata": {},
     "output_type": "display_data"
    },
    {
     "name": "stdout",
     "output_type": "stream",
     "text": [
      "Epoch [19], Train Loss : [0.25179] Val Loss : [0.89594] Val F1 Score : [0.76241]\n"
     ]
    },
    {
     "data": {
      "application/vnd.jupyter.widget-view+json": {
       "model_id": "c4d236bbd5d849b88de816560c15ac79",
       "version_major": 2,
       "version_minor": 0
      },
      "text/plain": [
       "  0%|          | 0/591 [00:00<?, ?it/s]"
      ]
     },
     "metadata": {},
     "output_type": "display_data"
    },
    {
     "data": {
      "application/vnd.jupyter.widget-view+json": {
       "model_id": "69a27807df6845bf80ff1eb3e8957f23",
       "version_major": 2,
       "version_minor": 0
      },
      "text/plain": [
       "  0%|          | 0/148 [00:00<?, ?it/s]"
      ]
     },
     "metadata": {},
     "output_type": "display_data"
    },
    {
     "name": "stdout",
     "output_type": "stream",
     "text": [
      "Epoch [20], Train Loss : [0.24201] Val Loss : [0.90138] Val F1 Score : [0.74203]\n"
     ]
    },
    {
     "data": {
      "application/vnd.jupyter.widget-view+json": {
       "model_id": "c7b34fe7acd24e7299785db88398acce",
       "version_major": 2,
       "version_minor": 0
      },
      "text/plain": [
       "  0%|          | 0/591 [00:00<?, ?it/s]"
      ]
     },
     "metadata": {},
     "output_type": "display_data"
    },
    {
     "data": {
      "application/vnd.jupyter.widget-view+json": {
       "model_id": "bf8b218e290e4cf7b8dcee200f579f5a",
       "version_major": 2,
       "version_minor": 0
      },
      "text/plain": [
       "  0%|          | 0/148 [00:00<?, ?it/s]"
      ]
     },
     "metadata": {},
     "output_type": "display_data"
    },
    {
     "name": "stdout",
     "output_type": "stream",
     "text": [
      "Epoch [21], Train Loss : [0.18337] Val Loss : [0.82500] Val F1 Score : [0.78208]\n"
     ]
    },
    {
     "data": {
      "application/vnd.jupyter.widget-view+json": {
       "model_id": "bb43d59be0f14976a65fe2f678f5c291",
       "version_major": 2,
       "version_minor": 0
      },
      "text/plain": [
       "  0%|          | 0/591 [00:00<?, ?it/s]"
      ]
     },
     "metadata": {},
     "output_type": "display_data"
    },
    {
     "data": {
      "application/vnd.jupyter.widget-view+json": {
       "model_id": "1883e671c10d4d6d8e3ccb320a6d9553",
       "version_major": 2,
       "version_minor": 0
      },
      "text/plain": [
       "  0%|          | 0/148 [00:00<?, ?it/s]"
      ]
     },
     "metadata": {},
     "output_type": "display_data"
    },
    {
     "name": "stdout",
     "output_type": "stream",
     "text": [
      "Epoch [22], Train Loss : [0.14128] Val Loss : [0.81791] Val F1 Score : [0.79089]\n"
     ]
    },
    {
     "data": {
      "application/vnd.jupyter.widget-view+json": {
       "model_id": "b5b88ec4a27e4b1397df6bf9bdea5010",
       "version_major": 2,
       "version_minor": 0
      },
      "text/plain": [
       "  0%|          | 0/591 [00:00<?, ?it/s]"
      ]
     },
     "metadata": {},
     "output_type": "display_data"
    },
    {
     "data": {
      "application/vnd.jupyter.widget-view+json": {
       "model_id": "bbace7be158d4f72999761075a60f7b8",
       "version_major": 2,
       "version_minor": 0
      },
      "text/plain": [
       "  0%|          | 0/148 [00:00<?, ?it/s]"
      ]
     },
     "metadata": {},
     "output_type": "display_data"
    },
    {
     "name": "stdout",
     "output_type": "stream",
     "text": [
      "Epoch [23], Train Loss : [0.12550] Val Loss : [0.80201] Val F1 Score : [0.79456]\n"
     ]
    },
    {
     "data": {
      "application/vnd.jupyter.widget-view+json": {
       "model_id": "00200166a73d48429d12c8c557b1aba8",
       "version_major": 2,
       "version_minor": 0
      },
      "text/plain": [
       "  0%|          | 0/591 [00:00<?, ?it/s]"
      ]
     },
     "metadata": {},
     "output_type": "display_data"
    },
    {
     "data": {
      "application/vnd.jupyter.widget-view+json": {
       "model_id": "263d700c49d9471a95c469b3401d2196",
       "version_major": 2,
       "version_minor": 0
      },
      "text/plain": [
       "  0%|          | 0/148 [00:00<?, ?it/s]"
      ]
     },
     "metadata": {},
     "output_type": "display_data"
    },
    {
     "name": "stdout",
     "output_type": "stream",
     "text": [
      "Epoch [24], Train Loss : [0.12944] Val Loss : [0.83640] Val F1 Score : [0.79615]\n"
     ]
    },
    {
     "data": {
      "application/vnd.jupyter.widget-view+json": {
       "model_id": "e5ebbb3eae5344ceba2b22aaedab4abd",
       "version_major": 2,
       "version_minor": 0
      },
      "text/plain": [
       "  0%|          | 0/591 [00:00<?, ?it/s]"
      ]
     },
     "metadata": {},
     "output_type": "display_data"
    },
    {
     "data": {
      "application/vnd.jupyter.widget-view+json": {
       "model_id": "50edbc18bfdc457198a272437e7216eb",
       "version_major": 2,
       "version_minor": 0
      },
      "text/plain": [
       "  0%|          | 0/148 [00:00<?, ?it/s]"
      ]
     },
     "metadata": {},
     "output_type": "display_data"
    },
    {
     "name": "stdout",
     "output_type": "stream",
     "text": [
      "Epoch [25], Train Loss : [0.12516] Val Loss : [0.82149] Val F1 Score : [0.79930]\n"
     ]
    },
    {
     "data": {
      "application/vnd.jupyter.widget-view+json": {
       "model_id": "fc8e7c0158704fd297f87f622b56945e",
       "version_major": 2,
       "version_minor": 0
      },
      "text/plain": [
       "  0%|          | 0/591 [00:00<?, ?it/s]"
      ]
     },
     "metadata": {},
     "output_type": "display_data"
    },
    {
     "data": {
      "application/vnd.jupyter.widget-view+json": {
       "model_id": "b7a0e1b01814464ba67c766efbe66536",
       "version_major": 2,
       "version_minor": 0
      },
      "text/plain": [
       "  0%|          | 0/148 [00:00<?, ?it/s]"
      ]
     },
     "metadata": {},
     "output_type": "display_data"
    },
    {
     "name": "stdout",
     "output_type": "stream",
     "text": [
      "Epoch [26], Train Loss : [0.11178] Val Loss : [0.81104] Val F1 Score : [0.79597]\n"
     ]
    },
    {
     "data": {
      "application/vnd.jupyter.widget-view+json": {
       "model_id": "c964c45ef1ed44afb5efc1df412b08c8",
       "version_major": 2,
       "version_minor": 0
      },
      "text/plain": [
       "  0%|          | 0/591 [00:00<?, ?it/s]"
      ]
     },
     "metadata": {},
     "output_type": "display_data"
    },
    {
     "data": {
      "application/vnd.jupyter.widget-view+json": {
       "model_id": "61f2ab9bc9e94a58aac8061a253faf7f",
       "version_major": 2,
       "version_minor": 0
      },
      "text/plain": [
       "  0%|          | 0/148 [00:00<?, ?it/s]"
      ]
     },
     "metadata": {},
     "output_type": "display_data"
    },
    {
     "name": "stdout",
     "output_type": "stream",
     "text": [
      "Epoch [27], Train Loss : [0.11839] Val Loss : [0.82280] Val F1 Score : [0.79565]\n"
     ]
    },
    {
     "data": {
      "application/vnd.jupyter.widget-view+json": {
       "model_id": "a6f71ce7f0bc4b40a2cda5c8aa4cad65",
       "version_major": 2,
       "version_minor": 0
      },
      "text/plain": [
       "  0%|          | 0/591 [00:00<?, ?it/s]"
      ]
     },
     "metadata": {},
     "output_type": "display_data"
    },
    {
     "data": {
      "application/vnd.jupyter.widget-view+json": {
       "model_id": "684424e171ad43168072c1595207dba1",
       "version_major": 2,
       "version_minor": 0
      },
      "text/plain": [
       "  0%|          | 0/148 [00:00<?, ?it/s]"
      ]
     },
     "metadata": {},
     "output_type": "display_data"
    },
    {
     "name": "stdout",
     "output_type": "stream",
     "text": [
      "Epoch [28], Train Loss : [0.10380] Val Loss : [0.82293] Val F1 Score : [0.80303]\n"
     ]
    },
    {
     "data": {
      "application/vnd.jupyter.widget-view+json": {
       "model_id": "177d936c9fbe4a1a8399fa5998aa85a5",
       "version_major": 2,
       "version_minor": 0
      },
      "text/plain": [
       "  0%|          | 0/591 [00:00<?, ?it/s]"
      ]
     },
     "metadata": {},
     "output_type": "display_data"
    },
    {
     "data": {
      "application/vnd.jupyter.widget-view+json": {
       "model_id": "a6c7ac5bd0fb48d7a164e24aaf6a3a86",
       "version_major": 2,
       "version_minor": 0
      },
      "text/plain": [
       "  0%|          | 0/148 [00:00<?, ?it/s]"
      ]
     },
     "metadata": {},
     "output_type": "display_data"
    },
    {
     "name": "stdout",
     "output_type": "stream",
     "text": [
      "Epoch [29], Train Loss : [0.11044] Val Loss : [0.87055] Val F1 Score : [0.79833]\n"
     ]
    },
    {
     "data": {
      "application/vnd.jupyter.widget-view+json": {
       "model_id": "b015822a209f4b0b8ee28c0828cb3e32",
       "version_major": 2,
       "version_minor": 0
      },
      "text/plain": [
       "  0%|          | 0/591 [00:00<?, ?it/s]"
      ]
     },
     "metadata": {},
     "output_type": "display_data"
    },
    {
     "data": {
      "application/vnd.jupyter.widget-view+json": {
       "model_id": "62f5bc26194d49afa43d828b555cf3de",
       "version_major": 2,
       "version_minor": 0
      },
      "text/plain": [
       "  0%|          | 0/148 [00:00<?, ?it/s]"
      ]
     },
     "metadata": {},
     "output_type": "display_data"
    },
    {
     "name": "stdout",
     "output_type": "stream",
     "text": [
      "Epoch [30], Train Loss : [0.09429] Val Loss : [0.84395] Val F1 Score : [0.79083]\n"
     ]
    }
   ],
   "source": [
    "#0.82004 batch:8, epoch : 30, lr:[9,18,27]\n",
    "train_dataset_5 = CustomDataset(train_img_paths, train_labels, resize_transform(456,'train'))\n",
    "train_loader_5 = DataLoader(train_dataset_5, batch_size = 8, shuffle=True, num_workers=0)\n",
    "\n",
    "val_dataset_5 = CustomDataset(val_img_paths, val_labels, resize_transform(456,'test'))\n",
    "val_loader_5 = DataLoader(val_dataset_5, batch_size = 8, shuffle=False, num_workers=0)\n",
    "\n",
    "model_5 = EfficientNet_B5()\n",
    "optimizer_5 = torch.optim.Adam(params = model_5.parameters(), lr = CFG[\"LEARNING_RATE\"])\n",
    "scheduler_5 = lr_scheduler.MultiStepLR(optimizer_5, milestones=[10,20], gamma=0.5)\n",
    "infer_model_5 = train(model_5, num_epoch, optimizer_5, train_loader_5, val_loader_5, scheduler_5, device)"
   ]
  },
  {
   "cell_type": "code",
   "execution_count": 87,
   "id": "414f7c7f",
   "metadata": {},
   "outputs": [],
   "source": [
    "torch.save(infer_model_5,'weights/b5_8_30.pt')\n",
    "gc.collect()\n",
    "torch.cuda.empty_cache()"
   ]
  },
  {
   "cell_type": "code",
   "execution_count": 88,
   "id": "9cadf71b-0314-4e19-9356-82d8d1632a9e",
   "metadata": {
    "jupyter": {
     "outputs_hidden": true
    },
    "scrolled": true,
    "tags": []
   },
   "outputs": [
    {
     "data": {
      "application/vnd.jupyter.widget-view+json": {
       "model_id": "011160148635463cb4e0b441f25dce0b",
       "version_major": 2,
       "version_minor": 0
      },
      "text/plain": [
       "  0%|          | 0/1182 [00:00<?, ?it/s]"
      ]
     },
     "metadata": {},
     "output_type": "display_data"
    },
    {
     "data": {
      "application/vnd.jupyter.widget-view+json": {
       "model_id": "6bcba5fcb81f475c96752cb88051fc35",
       "version_major": 2,
       "version_minor": 0
      },
      "text/plain": [
       "  0%|          | 0/296 [00:00<?, ?it/s]"
      ]
     },
     "metadata": {},
     "output_type": "display_data"
    },
    {
     "name": "stdout",
     "output_type": "stream",
     "text": [
      "Epoch [1], Train Loss : [2.75712] Val Loss : [2.27502] Val F1 Score : [0.26730]\n"
     ]
    },
    {
     "data": {
      "application/vnd.jupyter.widget-view+json": {
       "model_id": "d1c118c6b20f41569bd952985039a6e1",
       "version_major": 2,
       "version_minor": 0
      },
      "text/plain": [
       "  0%|          | 0/1182 [00:00<?, ?it/s]"
      ]
     },
     "metadata": {},
     "output_type": "display_data"
    },
    {
     "data": {
      "application/vnd.jupyter.widget-view+json": {
       "model_id": "3ea20ef7ad504c27b647dbe31d465f1d",
       "version_major": 2,
       "version_minor": 0
      },
      "text/plain": [
       "  0%|          | 0/296 [00:00<?, ?it/s]"
      ]
     },
     "metadata": {},
     "output_type": "display_data"
    },
    {
     "name": "stdout",
     "output_type": "stream",
     "text": [
      "Epoch [2], Train Loss : [2.07096] Val Loss : [1.73975] Val F1 Score : [0.39114]\n"
     ]
    },
    {
     "data": {
      "application/vnd.jupyter.widget-view+json": {
       "model_id": "7d07dfe1e38c4082a8e45356ad32ae69",
       "version_major": 2,
       "version_minor": 0
      },
      "text/plain": [
       "  0%|          | 0/1182 [00:00<?, ?it/s]"
      ]
     },
     "metadata": {},
     "output_type": "display_data"
    },
    {
     "data": {
      "application/vnd.jupyter.widget-view+json": {
       "model_id": "05b1b287aefc4a6ea60351d705e2cff5",
       "version_major": 2,
       "version_minor": 0
      },
      "text/plain": [
       "  0%|          | 0/296 [00:00<?, ?it/s]"
      ]
     },
     "metadata": {},
     "output_type": "display_data"
    },
    {
     "name": "stdout",
     "output_type": "stream",
     "text": [
      "Epoch [3], Train Loss : [1.78116] Val Loss : [1.79645] Val F1 Score : [0.46726]\n"
     ]
    },
    {
     "data": {
      "application/vnd.jupyter.widget-view+json": {
       "model_id": "c54c408b2d854434b362026da7d0cee8",
       "version_major": 2,
       "version_minor": 0
      },
      "text/plain": [
       "  0%|          | 0/1182 [00:00<?, ?it/s]"
      ]
     },
     "metadata": {},
     "output_type": "display_data"
    },
    {
     "data": {
      "application/vnd.jupyter.widget-view+json": {
       "model_id": "a7ffe74602c149d2a2c69de99e86a744",
       "version_major": 2,
       "version_minor": 0
      },
      "text/plain": [
       "  0%|          | 0/296 [00:00<?, ?it/s]"
      ]
     },
     "metadata": {},
     "output_type": "display_data"
    },
    {
     "name": "stdout",
     "output_type": "stream",
     "text": [
      "Epoch [4], Train Loss : [1.59450] Val Loss : [1.37452] Val F1 Score : [0.55316]\n"
     ]
    },
    {
     "data": {
      "application/vnd.jupyter.widget-view+json": {
       "model_id": "70a63cd76c714ef5a55b082c7420fe88",
       "version_major": 2,
       "version_minor": 0
      },
      "text/plain": [
       "  0%|          | 0/1182 [00:00<?, ?it/s]"
      ]
     },
     "metadata": {},
     "output_type": "display_data"
    },
    {
     "data": {
      "application/vnd.jupyter.widget-view+json": {
       "model_id": "511d09f4a59440b2beae3985cd17883a",
       "version_major": 2,
       "version_minor": 0
      },
      "text/plain": [
       "  0%|          | 0/296 [00:00<?, ?it/s]"
      ]
     },
     "metadata": {},
     "output_type": "display_data"
    },
    {
     "name": "stdout",
     "output_type": "stream",
     "text": [
      "Epoch [5], Train Loss : [1.44005] Val Loss : [1.50434] Val F1 Score : [0.56682]\n"
     ]
    },
    {
     "data": {
      "application/vnd.jupyter.widget-view+json": {
       "model_id": "077cdbd5874e42509a295aa99bf698e5",
       "version_major": 2,
       "version_minor": 0
      },
      "text/plain": [
       "  0%|          | 0/1182 [00:00<?, ?it/s]"
      ]
     },
     "metadata": {},
     "output_type": "display_data"
    },
    {
     "data": {
      "application/vnd.jupyter.widget-view+json": {
       "model_id": "82efec12b0ce4a26998054378b57f522",
       "version_major": 2,
       "version_minor": 0
      },
      "text/plain": [
       "  0%|          | 0/296 [00:00<?, ?it/s]"
      ]
     },
     "metadata": {},
     "output_type": "display_data"
    },
    {
     "name": "stdout",
     "output_type": "stream",
     "text": [
      "Epoch [6], Train Loss : [1.32243] Val Loss : [1.26569] Val F1 Score : [0.61335]\n"
     ]
    },
    {
     "data": {
      "application/vnd.jupyter.widget-view+json": {
       "model_id": "ec989e8f36494750beae66a9cc517667",
       "version_major": 2,
       "version_minor": 0
      },
      "text/plain": [
       "  0%|          | 0/1182 [00:00<?, ?it/s]"
      ]
     },
     "metadata": {},
     "output_type": "display_data"
    },
    {
     "data": {
      "application/vnd.jupyter.widget-view+json": {
       "model_id": "a4bb5d2e4a0f49fbbcf801aa0cb3d82b",
       "version_major": 2,
       "version_minor": 0
      },
      "text/plain": [
       "  0%|          | 0/296 [00:00<?, ?it/s]"
      ]
     },
     "metadata": {},
     "output_type": "display_data"
    },
    {
     "name": "stdout",
     "output_type": "stream",
     "text": [
      "Epoch [7], Train Loss : [1.25429] Val Loss : [1.67486] Val F1 Score : [0.59811]\n"
     ]
    },
    {
     "data": {
      "application/vnd.jupyter.widget-view+json": {
       "model_id": "8022365b2abe43d498da32cb094fad5a",
       "version_major": 2,
       "version_minor": 0
      },
      "text/plain": [
       "  0%|          | 0/1182 [00:00<?, ?it/s]"
      ]
     },
     "metadata": {},
     "output_type": "display_data"
    },
    {
     "data": {
      "application/vnd.jupyter.widget-view+json": {
       "model_id": "2c5da955c9cb402e939128483dd3741c",
       "version_major": 2,
       "version_minor": 0
      },
      "text/plain": [
       "  0%|          | 0/296 [00:00<?, ?it/s]"
      ]
     },
     "metadata": {},
     "output_type": "display_data"
    },
    {
     "name": "stdout",
     "output_type": "stream",
     "text": [
      "Epoch [8], Train Loss : [1.13941] Val Loss : [1.33604] Val F1 Score : [0.63580]\n"
     ]
    },
    {
     "data": {
      "application/vnd.jupyter.widget-view+json": {
       "model_id": "d78b351e458f415ea7f69a7f2b8923b4",
       "version_major": 2,
       "version_minor": 0
      },
      "text/plain": [
       "  0%|          | 0/1182 [00:00<?, ?it/s]"
      ]
     },
     "metadata": {},
     "output_type": "display_data"
    },
    {
     "data": {
      "application/vnd.jupyter.widget-view+json": {
       "model_id": "761935b85f7f42ae9e47336f40607187",
       "version_major": 2,
       "version_minor": 0
      },
      "text/plain": [
       "  0%|          | 0/296 [00:00<?, ?it/s]"
      ]
     },
     "metadata": {},
     "output_type": "display_data"
    },
    {
     "name": "stdout",
     "output_type": "stream",
     "text": [
      "Epoch [9], Train Loss : [1.04273] Val Loss : [1.36965] Val F1 Score : [0.63320]\n"
     ]
    },
    {
     "data": {
      "application/vnd.jupyter.widget-view+json": {
       "model_id": "87259bf0f41843138acee09e28f2e8f5",
       "version_major": 2,
       "version_minor": 0
      },
      "text/plain": [
       "  0%|          | 0/1182 [00:00<?, ?it/s]"
      ]
     },
     "metadata": {},
     "output_type": "display_data"
    },
    {
     "data": {
      "application/vnd.jupyter.widget-view+json": {
       "model_id": "b644e39ce086410aa589d78c79c57a1f",
       "version_major": 2,
       "version_minor": 0
      },
      "text/plain": [
       "  0%|          | 0/296 [00:00<?, ?it/s]"
      ]
     },
     "metadata": {},
     "output_type": "display_data"
    },
    {
     "name": "stdout",
     "output_type": "stream",
     "text": [
      "Epoch [10], Train Loss : [1.03504] Val Loss : [1.12011] Val F1 Score : [0.65805]\n"
     ]
    },
    {
     "data": {
      "application/vnd.jupyter.widget-view+json": {
       "model_id": "51b3c215341a4d76b8aaebdf767e7259",
       "version_major": 2,
       "version_minor": 0
      },
      "text/plain": [
       "  0%|          | 0/1182 [00:00<?, ?it/s]"
      ]
     },
     "metadata": {},
     "output_type": "display_data"
    },
    {
     "data": {
      "application/vnd.jupyter.widget-view+json": {
       "model_id": "397c436c5ff842e19828bcd1ca1a65ab",
       "version_major": 2,
       "version_minor": 0
      },
      "text/plain": [
       "  0%|          | 0/296 [00:00<?, ?it/s]"
      ]
     },
     "metadata": {},
     "output_type": "display_data"
    },
    {
     "name": "stdout",
     "output_type": "stream",
     "text": [
      "Epoch [11], Train Loss : [0.75325] Val Loss : [1.08717] Val F1 Score : [0.70159]\n"
     ]
    },
    {
     "data": {
      "application/vnd.jupyter.widget-view+json": {
       "model_id": "793304fe83e447b2b9df936ac88e1e71",
       "version_major": 2,
       "version_minor": 0
      },
      "text/plain": [
       "  0%|          | 0/1182 [00:00<?, ?it/s]"
      ]
     },
     "metadata": {},
     "output_type": "display_data"
    },
    {
     "data": {
      "application/vnd.jupyter.widget-view+json": {
       "model_id": "5ecde0fb42534f04814622468b2d6df9",
       "version_major": 2,
       "version_minor": 0
      },
      "text/plain": [
       "  0%|          | 0/296 [00:00<?, ?it/s]"
      ]
     },
     "metadata": {},
     "output_type": "display_data"
    },
    {
     "name": "stdout",
     "output_type": "stream",
     "text": [
      "Epoch [12], Train Loss : [0.62935] Val Loss : [1.12726] Val F1 Score : [0.72934]\n"
     ]
    },
    {
     "data": {
      "application/vnd.jupyter.widget-view+json": {
       "model_id": "e587b5ffd0b2405589de496e4bf3f626",
       "version_major": 2,
       "version_minor": 0
      },
      "text/plain": [
       "  0%|          | 0/1182 [00:00<?, ?it/s]"
      ]
     },
     "metadata": {},
     "output_type": "display_data"
    },
    {
     "data": {
      "application/vnd.jupyter.widget-view+json": {
       "model_id": "d9300d7b0f974c9c9cfca218e997109f",
       "version_major": 2,
       "version_minor": 0
      },
      "text/plain": [
       "  0%|          | 0/296 [00:00<?, ?it/s]"
      ]
     },
     "metadata": {},
     "output_type": "display_data"
    },
    {
     "name": "stdout",
     "output_type": "stream",
     "text": [
      "Epoch [13], Train Loss : [0.62206] Val Loss : [1.17660] Val F1 Score : [0.71835]\n"
     ]
    },
    {
     "data": {
      "application/vnd.jupyter.widget-view+json": {
       "model_id": "89f047c53279411b81eef1cecacada88",
       "version_major": 2,
       "version_minor": 0
      },
      "text/plain": [
       "  0%|          | 0/1182 [00:00<?, ?it/s]"
      ]
     },
     "metadata": {},
     "output_type": "display_data"
    },
    {
     "data": {
      "application/vnd.jupyter.widget-view+json": {
       "model_id": "e85482c1dcb24d7f9b92f6f7c3914ae5",
       "version_major": 2,
       "version_minor": 0
      },
      "text/plain": [
       "  0%|          | 0/296 [00:00<?, ?it/s]"
      ]
     },
     "metadata": {},
     "output_type": "display_data"
    },
    {
     "name": "stdout",
     "output_type": "stream",
     "text": [
      "Epoch [14], Train Loss : [0.57592] Val Loss : [1.08389] Val F1 Score : [0.71349]\n"
     ]
    },
    {
     "data": {
      "application/vnd.jupyter.widget-view+json": {
       "model_id": "ec4632e275b446f6bcce1f9ff9ea378b",
       "version_major": 2,
       "version_minor": 0
      },
      "text/plain": [
       "  0%|          | 0/1182 [00:00<?, ?it/s]"
      ]
     },
     "metadata": {},
     "output_type": "display_data"
    },
    {
     "data": {
      "application/vnd.jupyter.widget-view+json": {
       "model_id": "d121344cbf7040b8bb43154243b59787",
       "version_major": 2,
       "version_minor": 0
      },
      "text/plain": [
       "  0%|          | 0/296 [00:00<?, ?it/s]"
      ]
     },
     "metadata": {},
     "output_type": "display_data"
    },
    {
     "name": "stdout",
     "output_type": "stream",
     "text": [
      "Epoch [15], Train Loss : [0.52196] Val Loss : [1.11982] Val F1 Score : [0.73091]\n"
     ]
    },
    {
     "data": {
      "application/vnd.jupyter.widget-view+json": {
       "model_id": "dd18d7cd69b242cbad190231303e02c2",
       "version_major": 2,
       "version_minor": 0
      },
      "text/plain": [
       "  0%|          | 0/1182 [00:00<?, ?it/s]"
      ]
     },
     "metadata": {},
     "output_type": "display_data"
    },
    {
     "data": {
      "application/vnd.jupyter.widget-view+json": {
       "model_id": "72414a01ba2a43d4b9b3d509974d7f71",
       "version_major": 2,
       "version_minor": 0
      },
      "text/plain": [
       "  0%|          | 0/296 [00:00<?, ?it/s]"
      ]
     },
     "metadata": {},
     "output_type": "display_data"
    },
    {
     "name": "stdout",
     "output_type": "stream",
     "text": [
      "Epoch [16], Train Loss : [0.51311] Val Loss : [1.07925] Val F1 Score : [0.73683]\n"
     ]
    },
    {
     "data": {
      "application/vnd.jupyter.widget-view+json": {
       "model_id": "c90396f8578d42b8b85c06f25218313d",
       "version_major": 2,
       "version_minor": 0
      },
      "text/plain": [
       "  0%|          | 0/1182 [00:00<?, ?it/s]"
      ]
     },
     "metadata": {},
     "output_type": "display_data"
    },
    {
     "data": {
      "application/vnd.jupyter.widget-view+json": {
       "model_id": "169e9d83831c4438b716728664a02217",
       "version_major": 2,
       "version_minor": 0
      },
      "text/plain": [
       "  0%|          | 0/296 [00:00<?, ?it/s]"
      ]
     },
     "metadata": {},
     "output_type": "display_data"
    },
    {
     "name": "stdout",
     "output_type": "stream",
     "text": [
      "Epoch [17], Train Loss : [0.49379] Val Loss : [1.02476] Val F1 Score : [0.73703]\n"
     ]
    },
    {
     "data": {
      "application/vnd.jupyter.widget-view+json": {
       "model_id": "594989429dc549c595583f7f6afd0536",
       "version_major": 2,
       "version_minor": 0
      },
      "text/plain": [
       "  0%|          | 0/1182 [00:00<?, ?it/s]"
      ]
     },
     "metadata": {},
     "output_type": "display_data"
    },
    {
     "data": {
      "application/vnd.jupyter.widget-view+json": {
       "model_id": "293d1d54e4a240e2a7937a9b7e7992b8",
       "version_major": 2,
       "version_minor": 0
      },
      "text/plain": [
       "  0%|          | 0/296 [00:00<?, ?it/s]"
      ]
     },
     "metadata": {},
     "output_type": "display_data"
    },
    {
     "name": "stdout",
     "output_type": "stream",
     "text": [
      "Epoch [18], Train Loss : [0.44150] Val Loss : [1.05356] Val F1 Score : [0.73342]\n"
     ]
    },
    {
     "data": {
      "application/vnd.jupyter.widget-view+json": {
       "model_id": "e5747c8b2f7f455389e68c6eeed9a0d2",
       "version_major": 2,
       "version_minor": 0
      },
      "text/plain": [
       "  0%|          | 0/1182 [00:00<?, ?it/s]"
      ]
     },
     "metadata": {},
     "output_type": "display_data"
    },
    {
     "data": {
      "application/vnd.jupyter.widget-view+json": {
       "model_id": "8608347a1e7746dd8e9cd2e97b654d9b",
       "version_major": 2,
       "version_minor": 0
      },
      "text/plain": [
       "  0%|          | 0/296 [00:00<?, ?it/s]"
      ]
     },
     "metadata": {},
     "output_type": "display_data"
    },
    {
     "name": "stdout",
     "output_type": "stream",
     "text": [
      "Epoch [19], Train Loss : [0.45648] Val Loss : [1.16292] Val F1 Score : [0.71722]\n"
     ]
    },
    {
     "data": {
      "application/vnd.jupyter.widget-view+json": {
       "model_id": "0e1c1d1fea6f403b828821c277b15db2",
       "version_major": 2,
       "version_minor": 0
      },
      "text/plain": [
       "  0%|          | 0/1182 [00:00<?, ?it/s]"
      ]
     },
     "metadata": {},
     "output_type": "display_data"
    },
    {
     "data": {
      "application/vnd.jupyter.widget-view+json": {
       "model_id": "0e78a316a14f47e6addbedc512efea03",
       "version_major": 2,
       "version_minor": 0
      },
      "text/plain": [
       "  0%|          | 0/296 [00:00<?, ?it/s]"
      ]
     },
     "metadata": {},
     "output_type": "display_data"
    },
    {
     "name": "stdout",
     "output_type": "stream",
     "text": [
      "Epoch [20], Train Loss : [0.40129] Val Loss : [1.23133] Val F1 Score : [0.71932]\n"
     ]
    },
    {
     "data": {
      "application/vnd.jupyter.widget-view+json": {
       "model_id": "3443389e39cc4d18800c652b62926c53",
       "version_major": 2,
       "version_minor": 0
      },
      "text/plain": [
       "  0%|          | 0/1182 [00:00<?, ?it/s]"
      ]
     },
     "metadata": {},
     "output_type": "display_data"
    },
    {
     "data": {
      "application/vnd.jupyter.widget-view+json": {
       "model_id": "47062fe5604c4b819e5e7dbad5be68bb",
       "version_major": 2,
       "version_minor": 0
      },
      "text/plain": [
       "  0%|          | 0/296 [00:00<?, ?it/s]"
      ]
     },
     "metadata": {},
     "output_type": "display_data"
    },
    {
     "name": "stdout",
     "output_type": "stream",
     "text": [
      "Epoch [21], Train Loss : [0.32776] Val Loss : [1.00287] Val F1 Score : [0.75250]\n"
     ]
    },
    {
     "data": {
      "application/vnd.jupyter.widget-view+json": {
       "model_id": "516bab5f670849eb81410bdcfb8358bc",
       "version_major": 2,
       "version_minor": 0
      },
      "text/plain": [
       "  0%|          | 0/1182 [00:00<?, ?it/s]"
      ]
     },
     "metadata": {},
     "output_type": "display_data"
    },
    {
     "data": {
      "application/vnd.jupyter.widget-view+json": {
       "model_id": "26ed5eec3e824eee98e4e19102e86221",
       "version_major": 2,
       "version_minor": 0
      },
      "text/plain": [
       "  0%|          | 0/296 [00:00<?, ?it/s]"
      ]
     },
     "metadata": {},
     "output_type": "display_data"
    },
    {
     "name": "stdout",
     "output_type": "stream",
     "text": [
      "Epoch [22], Train Loss : [0.26870] Val Loss : [1.06099] Val F1 Score : [0.75319]\n"
     ]
    },
    {
     "data": {
      "application/vnd.jupyter.widget-view+json": {
       "model_id": "9381429bd87d44a0ad027983d7709162",
       "version_major": 2,
       "version_minor": 0
      },
      "text/plain": [
       "  0%|          | 0/1182 [00:00<?, ?it/s]"
      ]
     },
     "metadata": {},
     "output_type": "display_data"
    },
    {
     "data": {
      "application/vnd.jupyter.widget-view+json": {
       "model_id": "9a34b75f23b3454fb087559a3096dc5e",
       "version_major": 2,
       "version_minor": 0
      },
      "text/plain": [
       "  0%|          | 0/296 [00:00<?, ?it/s]"
      ]
     },
     "metadata": {},
     "output_type": "display_data"
    },
    {
     "name": "stdout",
     "output_type": "stream",
     "text": [
      "Epoch [23], Train Loss : [0.24317] Val Loss : [1.04907] Val F1 Score : [0.75398]\n"
     ]
    },
    {
     "data": {
      "application/vnd.jupyter.widget-view+json": {
       "model_id": "bdba7662342a4d51846fddd5110f444d",
       "version_major": 2,
       "version_minor": 0
      },
      "text/plain": [
       "  0%|          | 0/1182 [00:00<?, ?it/s]"
      ]
     },
     "metadata": {},
     "output_type": "display_data"
    },
    {
     "data": {
      "application/vnd.jupyter.widget-view+json": {
       "model_id": "07e215099f904f5a97436ef08a3ec3bb",
       "version_major": 2,
       "version_minor": 0
      },
      "text/plain": [
       "  0%|          | 0/296 [00:00<?, ?it/s]"
      ]
     },
     "metadata": {},
     "output_type": "display_data"
    },
    {
     "name": "stdout",
     "output_type": "stream",
     "text": [
      "Epoch [24], Train Loss : [0.23379] Val Loss : [1.04655] Val F1 Score : [0.74993]\n"
     ]
    },
    {
     "data": {
      "application/vnd.jupyter.widget-view+json": {
       "model_id": "df652e4ed0f94c8f8d0f30695d3a9b1f",
       "version_major": 2,
       "version_minor": 0
      },
      "text/plain": [
       "  0%|          | 0/1182 [00:00<?, ?it/s]"
      ]
     },
     "metadata": {},
     "output_type": "display_data"
    },
    {
     "data": {
      "application/vnd.jupyter.widget-view+json": {
       "model_id": "82d9cd08f576423891efd19b3a048aa3",
       "version_major": 2,
       "version_minor": 0
      },
      "text/plain": [
       "  0%|          | 0/296 [00:00<?, ?it/s]"
      ]
     },
     "metadata": {},
     "output_type": "display_data"
    },
    {
     "name": "stdout",
     "output_type": "stream",
     "text": [
      "Epoch [25], Train Loss : [0.21799] Val Loss : [0.99212] Val F1 Score : [0.75734]\n"
     ]
    },
    {
     "data": {
      "application/vnd.jupyter.widget-view+json": {
       "model_id": "6ba0308aeaae4885ba73b491ea60da09",
       "version_major": 2,
       "version_minor": 0
      },
      "text/plain": [
       "  0%|          | 0/1182 [00:00<?, ?it/s]"
      ]
     },
     "metadata": {},
     "output_type": "display_data"
    },
    {
     "data": {
      "application/vnd.jupyter.widget-view+json": {
       "model_id": "48c569820bc8471aaefe1f5bc36b4579",
       "version_major": 2,
       "version_minor": 0
      },
      "text/plain": [
       "  0%|          | 0/296 [00:00<?, ?it/s]"
      ]
     },
     "metadata": {},
     "output_type": "display_data"
    },
    {
     "name": "stdout",
     "output_type": "stream",
     "text": [
      "Epoch [26], Train Loss : [0.21675] Val Loss : [1.04751] Val F1 Score : [0.74955]\n"
     ]
    },
    {
     "data": {
      "application/vnd.jupyter.widget-view+json": {
       "model_id": "ee1f3a8e8b2343df8e8da10669c56f09",
       "version_major": 2,
       "version_minor": 0
      },
      "text/plain": [
       "  0%|          | 0/1182 [00:00<?, ?it/s]"
      ]
     },
     "metadata": {},
     "output_type": "display_data"
    },
    {
     "data": {
      "application/vnd.jupyter.widget-view+json": {
       "model_id": "12ba67db944f4eabbfd56c4cfffeea43",
       "version_major": 2,
       "version_minor": 0
      },
      "text/plain": [
       "  0%|          | 0/296 [00:00<?, ?it/s]"
      ]
     },
     "metadata": {},
     "output_type": "display_data"
    },
    {
     "name": "stdout",
     "output_type": "stream",
     "text": [
      "Epoch [27], Train Loss : [0.21946] Val Loss : [1.08012] Val F1 Score : [0.75314]\n"
     ]
    },
    {
     "data": {
      "application/vnd.jupyter.widget-view+json": {
       "model_id": "92c2f08fe80f4f888cf612c2df2b1e06",
       "version_major": 2,
       "version_minor": 0
      },
      "text/plain": [
       "  0%|          | 0/1182 [00:00<?, ?it/s]"
      ]
     },
     "metadata": {},
     "output_type": "display_data"
    },
    {
     "data": {
      "application/vnd.jupyter.widget-view+json": {
       "model_id": "62b806bd6c97491ea6eb1c0f95b0afd0",
       "version_major": 2,
       "version_minor": 0
      },
      "text/plain": [
       "  0%|          | 0/296 [00:00<?, ?it/s]"
      ]
     },
     "metadata": {},
     "output_type": "display_data"
    },
    {
     "name": "stdout",
     "output_type": "stream",
     "text": [
      "Epoch [28], Train Loss : [0.20736] Val Loss : [1.05106] Val F1 Score : [0.77193]\n"
     ]
    },
    {
     "data": {
      "application/vnd.jupyter.widget-view+json": {
       "model_id": "0673957d83544c2b8665f5f21e888aee",
       "version_major": 2,
       "version_minor": 0
      },
      "text/plain": [
       "  0%|          | 0/1182 [00:00<?, ?it/s]"
      ]
     },
     "metadata": {},
     "output_type": "display_data"
    },
    {
     "data": {
      "application/vnd.jupyter.widget-view+json": {
       "model_id": "24a4395f7e054e7d873822963ef87ae6",
       "version_major": 2,
       "version_minor": 0
      },
      "text/plain": [
       "  0%|          | 0/296 [00:00<?, ?it/s]"
      ]
     },
     "metadata": {},
     "output_type": "display_data"
    },
    {
     "name": "stdout",
     "output_type": "stream",
     "text": [
      "Epoch [29], Train Loss : [0.18628] Val Loss : [1.16049] Val F1 Score : [0.76815]\n"
     ]
    },
    {
     "data": {
      "application/vnd.jupyter.widget-view+json": {
       "model_id": "10b315d3631c438cb11e6db29e534142",
       "version_major": 2,
       "version_minor": 0
      },
      "text/plain": [
       "  0%|          | 0/1182 [00:00<?, ?it/s]"
      ]
     },
     "metadata": {},
     "output_type": "display_data"
    },
    {
     "data": {
      "application/vnd.jupyter.widget-view+json": {
       "model_id": "78e1dcfddcf54ee5a31b46cbedd035d9",
       "version_major": 2,
       "version_minor": 0
      },
      "text/plain": [
       "  0%|          | 0/296 [00:00<?, ?it/s]"
      ]
     },
     "metadata": {},
     "output_type": "display_data"
    },
    {
     "name": "stdout",
     "output_type": "stream",
     "text": [
      "Epoch [30], Train Loss : [0.17886] Val Loss : [1.06788] Val F1 Score : [0.77537]\n"
     ]
    }
   ],
   "source": [
    "#0.80073 batch:4, epoch:30, lr:[8,16,24]\n",
    "train_dataset_6 = CustomDataset(train_img_paths, train_labels, resize_transform(528,'train'))\n",
    "train_loader_6 = DataLoader(train_dataset_6, batch_size = 4, shuffle=True, num_workers=0)\n",
    "\n",
    "val_dataset_6 = CustomDataset(val_img_paths, val_labels, resize_transform(528,'test'))\n",
    "val_loader_6 = DataLoader(val_dataset_6, batch_size=4, shuffle=False, num_workers=0)\n",
    "\n",
    "model_6 = EfficientNet_B6()\n",
    "optimizer_6 = torch.optim.Adam(params = model_6.parameters(), lr = CFG[\"LEARNING_RATE\"])\n",
    "scheduler = lr_scheduler.MultiStepLR(optimizer_6, milestones=[10,20], gamma=0.5)\n",
    "infer_model_6 = train(model_6,num_epoch, optimizer_6, train_loader_6, val_loader_6, scheduler, device)"
   ]
  },
  {
   "cell_type": "code",
   "execution_count": 89,
   "id": "eead73fa",
   "metadata": {},
   "outputs": [],
   "source": [
    "torch.save(infer_model_6,'weights/b6_4_30.pt')\n",
    "gc.collect()\n",
    "torch.cuda.empty_cache()"
   ]
  },
  {
   "cell_type": "markdown",
   "id": "aff6c964-b41e-40a3-903f-6670432b9d48",
   "metadata": {},
   "source": [
    "### 5. Test PyTorch Model"
   ]
  },
  {
   "cell_type": "code",
   "execution_count": 35,
   "id": "4edf8f72",
   "metadata": {
    "scrolled": true
   },
   "outputs": [
    {
     "data": {
      "text/html": [
       "<div>\n",
       "<style scoped>\n",
       "    .dataframe tbody tr th:only-of-type {\n",
       "        vertical-align: middle;\n",
       "    }\n",
       "\n",
       "    .dataframe tbody tr th {\n",
       "        vertical-align: top;\n",
       "    }\n",
       "\n",
       "    .dataframe thead th {\n",
       "        text-align: right;\n",
       "    }\n",
       "</style>\n",
       "<table border=\"1\" class=\"dataframe\">\n",
       "  <thead>\n",
       "    <tr style=\"text-align: right;\">\n",
       "      <th></th>\n",
       "      <th>id</th>\n",
       "      <th>img_path</th>\n",
       "    </tr>\n",
       "  </thead>\n",
       "  <tbody>\n",
       "    <tr>\n",
       "      <th>0</th>\n",
       "      <td>TEST_00000</td>\n",
       "      <td>./test/TEST_00000.jpg</td>\n",
       "    </tr>\n",
       "    <tr>\n",
       "      <th>1</th>\n",
       "      <td>TEST_00001</td>\n",
       "      <td>./test/TEST_00001.jpg</td>\n",
       "    </tr>\n",
       "    <tr>\n",
       "      <th>2</th>\n",
       "      <td>TEST_00002</td>\n",
       "      <td>./test/TEST_00002.jpg</td>\n",
       "    </tr>\n",
       "    <tr>\n",
       "      <th>3</th>\n",
       "      <td>TEST_00003</td>\n",
       "      <td>./test/TEST_00003.jpg</td>\n",
       "    </tr>\n",
       "    <tr>\n",
       "      <th>4</th>\n",
       "      <td>TEST_00004</td>\n",
       "      <td>./test/TEST_00004.jpg</td>\n",
       "    </tr>\n",
       "  </tbody>\n",
       "</table>\n",
       "</div>"
      ],
      "text/plain": [
       "           id               img_path\n",
       "0  TEST_00000  ./test/TEST_00000.jpg\n",
       "1  TEST_00001  ./test/TEST_00001.jpg\n",
       "2  TEST_00002  ./test/TEST_00002.jpg\n",
       "3  TEST_00003  ./test/TEST_00003.jpg\n",
       "4  TEST_00004  ./test/TEST_00004.jpg"
      ]
     },
     "execution_count": 35,
     "metadata": {},
     "output_type": "execute_result"
    }
   ],
   "source": [
    "test_df = pd.read_csv(f'{data_dir}/test.csv')\n",
    "test_df.head()\n"
   ]
  },
  {
   "cell_type": "code",
   "execution_count": 36,
   "id": "a73281ff",
   "metadata": {},
   "outputs": [],
   "source": [
    "test_img_paths = get_data(test_df, infer=True)"
   ]
  },
  {
   "cell_type": "code",
   "execution_count": 37,
   "id": "1a07a346-bc7e-4981-89fd-f7bf91fbc4b7",
   "metadata": {},
   "outputs": [],
   "source": [
    "test_dataset_1 = CustomDataset(test_img_paths, None, resize_transform(256,'test'))\n",
    "test_loader_1 = DataLoader(test_dataset_1, batch_size=CFG['BATCH_SIZE'], shuffle=False, num_workers=0)\n",
    "\n",
    "test_dataset_2 = CustomDataset(test_img_paths, None, resize_transform(288,'test'))\n",
    "test_loader_2 = DataLoader(test_dataset_2, batch_size=CFG['BATCH_SIZE'], shuffle=False, num_workers=0)\n",
    "                               \n",
    "test_dataset_3 = CustomDataset(test_img_paths, None, resize_transform(320,'test'))\n",
    "test_loader_3 = DataLoader(test_dataset_3, batch_size=CFG['BATCH_SIZE'], shuffle=False, num_workers=0)\n",
    "                               \n",
    "test_dataset_4 = CustomDataset(test_img_paths, None, resize_transform(384,'test'))\n",
    "test_loader_4 = DataLoader(test_dataset_4, batch_size=16, shuffle=False, num_workers=0)\n",
    "                               \n",
    "test_dataset_5 = CustomDataset(test_img_paths, None, resize_transform(456,'test'))\n",
    "test_loader_5 = DataLoader(test_dataset_5, batch_size=16, shuffle=False, num_workers=0)\n",
    "\n",
    "test_dataset_6 = CustomDataset(test_img_paths, None, resize_transform(528,'test'))\n",
    "test_loader_6 = DataLoader(test_dataset_6, batch_size=8, shuffle=False, num_workers=0)\n",
    "\n",
    "                               "
   ]
  },
  {
   "cell_type": "markdown",
   "id": "3248519e-82b8-40ad-97d6-62f313b3d5ba",
   "metadata": {},
   "source": [
    "# Inference Test"
   ]
  },
  {
   "cell_type": "code",
   "execution_count": 23,
   "id": "9f165321",
   "metadata": {},
   "outputs": [],
   "source": [
    "def inference(model, test_loader, device):\n",
    "    model.to(device)\n",
    "    model.eval()\n",
    "    \n",
    "    model_preds = []\n",
    "    \n",
    "    with torch.no_grad():\n",
    "        for img in tqdm(iter(test_loader)):\n",
    "            img = img.float().to(device)\n",
    "            \n",
    "            model_pred = model(img)\n",
    "            model_preds += model_pred.detach().cpu().numpy().tolist()\n",
    "            \n",
    "    \n",
    "    print('Done.')\n",
    "    return model_preds"
   ]
  },
  {
   "cell_type": "code",
   "execution_count": 24,
   "id": "1fba2ef6",
   "metadata": {},
   "outputs": [],
   "source": [
    "#preds = inference(infer_model_5, test_loader_5, device)"
   ]
  },
  {
   "cell_type": "markdown",
   "id": "212f8bd0",
   "metadata": {},
   "source": [
    "## TF model"
   ]
  },
  {
   "cell_type": "markdown",
   "id": "7d5c3f3f",
   "metadata": {},
   "source": [
    "### 1.Import Library"
   ]
  },
  {
   "cell_type": "code",
   "execution_count": 38,
   "id": "c10fe797",
   "metadata": {},
   "outputs": [],
   "source": [
    "import tensorflow as tf\n",
    "import numpy as np\n",
    "import pandas as pd\n",
    "import cv2\n",
    "import os\n",
    "import math\n",
    "import scipy as sp\n",
    "import PIL\n",
    "import logging\n",
    "import warnings\n",
    "import matplotlib.style as style\n",
    "import seaborn as sns\n",
    "from tensorflow.keras.applications.resnet50 import ResNet50, preprocess_input\n",
    "# Tensorflow\n",
    "from tensorflow.keras import models, layers, Model, regularizers\n",
    "from tensorflow.keras.models import Sequential, load_model\n",
    "from tensorflow.keras.layers import Conv2D, MaxPooling2D\n",
    "from tensorflow.keras.layers import Dense, Dropout, Flatten, GlobalAveragePooling2D, BatchNormalization\n",
    "from tensorflow.keras.layers import Flatten, Dense, Dropout, ZeroPadding2D \n",
    "from sklearn import preprocessing\n",
    "from tensorflow.keras.preprocessing.image import ImageDataGenerator\n",
    "from tensorflow.keras.callbacks import ModelCheckpoint, TensorBoard, ReduceLROnPlateau,  EarlyStopping\n",
    "from tensorflow.keras import optimizers\n",
    "from tensorflow.keras.optimizers import SGD\n",
    "from tensorflow.keras.models import Model\n",
    "from tensorflow.keras.preprocessing import image\n",
    "from tensorflow.keras.applications import EfficientNetB4, EfficientNetB6, ResNet50V2, EfficientNetB0\n",
    "#from keras_tuner.tuners import RandomSearch\n",
    "from tensorflow.keras.utils import Sequence\n",
    "#import scikitplot as skplt\n",
    "from sklearn.metrics import roc_auc_score\n",
    "import matplotlib.pyplot as plt\n",
    "#from albumentations import Compose, HorizontalFlip, CLAHE, HueSaturationValue,RandomBrightness, RandomContrast, RandomGamma,ToFloat, ShiftScaleRotate\n",
    "import albumentations as A\n"
   ]
  },
  {
   "cell_type": "markdown",
   "id": "d247d747",
   "metadata": {},
   "source": [
    "### 2.Make Dataset"
   ]
  },
  {
   "cell_type": "code",
   "execution_count": 39,
   "id": "7c32d8a0",
   "metadata": {},
   "outputs": [],
   "source": [
    "class CustomTFDataset(Sequence):\n",
    "    def __init__(self, x_set, y_set, batch_size, augmentations, shuffle = True):\n",
    "        self.y = y_set\n",
    "        self.x = x_set\n",
    "        self.batch_size = batch_size\n",
    "        self.augment = augmentations\n",
    "        self.indexes = np.arange(self.x.shape[0])\n",
    "        self.shuffle = shuffle\n",
    "        self.on_epoch_end()\n",
    "    def on_epoch_end(self):\n",
    "        'Updates indexes after each epoch'\n",
    "        if self.shuffle == True:\n",
    "            np.random.shuffle(self.indexes)\n",
    "    def __len__(self):\n",
    "        return int(np.ceil(len(self.x) / float(self.batch_size)))\n",
    "\n",
    "    # 지정 배치 크기만큼 데이터를 로드합니다.\n",
    "    def __getitem__(self, idx):\n",
    "        inds = self.indexes[idx * self.batch_size:(idx + 1) * self.batch_size]\n",
    "        img_path = self.x[inds]\n",
    "        batch_x = [cv2.cvtColor(cv2.imread(f\"{data_dir}/{x.split('/')[-2]}/{x.split('/')[-1]}\"), cv2.COLOR_BGR2RGB)for x in img_path]\n",
    "        #batch_x = self.x[inds]\n",
    "        batch_y = self.y[inds]\n",
    "        \n",
    "        # augmentation을 적용해서 numpy array에 stack합니다.\n",
    "        return np.stack([\n",
    "            self.augment(image=x)[\"image\"] for x in batch_x\n",
    "        ], axis=0), np.array(batch_y)"
   ]
  },
  {
   "cell_type": "code",
   "execution_count": 40,
   "id": "2f838390",
   "metadata": {},
   "outputs": [],
   "source": [
    "input_size = [224, 240, 260, 300 ,380, 456, 528, 600]"
   ]
  },
  {
   "cell_type": "code",
   "execution_count": 41,
   "id": "d29b8466",
   "metadata": {},
   "outputs": [],
   "source": [
    "train_transform = [A.Compose([A.HorizontalFlip(p=0.5), A.VerticalFlip(p=0.5), A.Rotate(limit= 90),\n",
    "                              #A.ToGray(p=0.2), A.RandomBrightnessContrast(0.2, 0.2, p=0.2),\n",
    "                              A.RandomResizedCrop(X, X, (0.08, 1.0)),\n",
    "                              A.Normalize(mean=(0.485, 0.456, 0.406), std=(0.229, 0.224, 0.225))\n",
    "                   ])\n",
    "                   for X in input_size]\n",
    "\n",
    "test_transform = [A.Compose([A.Resize(X,X),A.Normalize(mean=(0.485, 0.456, 0.406),\n",
    "                            std=(0.229, 0.224, 0.225), max_pixel_value=255.0, always_apply=False, p=1.0)])\n",
    "                  for X in input_size]"
   ]
  },
  {
   "cell_type": "code",
   "execution_count": 42,
   "id": "34a00ca4",
   "metadata": {},
   "outputs": [],
   "source": [
    "one_train_labels = tf.keras.utils.to_categorical(train_labels)\n",
    "one_val_labels = tf.keras.utils.to_categorical(val_labels)"
   ]
  },
  {
   "cell_type": "code",
   "execution_count": 43,
   "id": "954693a1",
   "metadata": {},
   "outputs": [],
   "source": [
    "train_gen = [CustomTFDataset(train_img_paths, one_train_labels, 16 if x < 5 else 4 , TT, shuffle =True)\n",
    "            for x ,TT in enumerate (train_transform)]\n",
    "val_gen = [CustomTFDataset(val_img_paths, one_val_labels, 16 if x < 5 else 4, TT, shuffle =False)\n",
    "          for x, TT in enumerate (test_transform)]"
   ]
  },
  {
   "cell_type": "markdown",
   "id": "68e5bb51",
   "metadata": {},
   "source": [
    "### 3.Make TF Model"
   ]
  },
  {
   "cell_type": "code",
   "execution_count": 44,
   "id": "5a4d17d1",
   "metadata": {},
   "outputs": [],
   "source": [
    "ensemble_model = []"
   ]
  },
  {
   "cell_type": "code",
   "execution_count": 45,
   "id": "718a8f1c",
   "metadata": {},
   "outputs": [],
   "source": [
    "def ada(e): \n",
    "    return tf.keras.optimizers.Adam(learning_rate=e)"
   ]
  },
  {
   "cell_type": "code",
   "execution_count": 46,
   "id": "70351f64",
   "metadata": {},
   "outputs": [],
   "source": [
    "#0\n",
    "base_model = tf.keras.applications.EfficientNetB0(include_top=False,\n",
    "                   input_shape=(224,224,3),\n",
    "                   pooling='avg',classes=1000,\n",
    "                   weights='imagenet')\n",
    "X = Flatten()(base_model.output)\n",
    "#X = Dense(1280, activation = 'relu')(X)\n",
    "#X = BatchNormalization()(X)\n",
    "#X = Dropout(0.2)(X)\n",
    "X = Dense(500, activation = 'relu')(X)\n",
    "X = BatchNormalization()(X)\n",
    "X = Dropout(0.2)(X)\n",
    "X = Dense(50, activation='softmax')(base_model.output)\n",
    "image_model = Model(inputs = base_model.input, outputs = X)\n",
    "image_model.compile(optimizer=ada(3e-4), loss='categorical_crossentropy', metrics=['accuracy'])\n",
    "ensemble_model.append(image_model)"
   ]
  },
  {
   "cell_type": "code",
   "execution_count": 47,
   "id": "a40a1bdc",
   "metadata": {},
   "outputs": [],
   "source": [
    "#1\n",
    "base_model = tf.keras.applications.EfficientNetB1(include_top=False,\n",
    "                   input_shape=(240,240,3),\n",
    "                   pooling='avg',classes=1000,\n",
    "                   weights='imagenet')\n",
    "X = Flatten()(base_model.output)\n",
    "#X = Dense(1280, activation = 'relu')(X)\n",
    "#X = BatchNormalization()(X)\n",
    "#X = Dropout(0.2)(X)\n",
    "X = Dense(500, activation = 'relu')(X)\n",
    "X = BatchNormalization()(X)\n",
    "X = Dropout(0.2)(X)\n",
    "X = Dense(50, activation='softmax')(X)\n",
    "image_model = Model(inputs = base_model.input, outputs = X)\n",
    "image_model.compile(optimizer=ada(3e-4), loss='categorical_crossentropy', metrics=['accuracy'])\n",
    "ensemble_model.append(image_model)"
   ]
  },
  {
   "cell_type": "code",
   "execution_count": 48,
   "id": "ddec1d7f",
   "metadata": {},
   "outputs": [],
   "source": [
    "#2\n",
    "base_model = tf.keras.applications.EfficientNetB2(include_top=False,\n",
    "                   input_shape=(260,260,3),\n",
    "                   pooling='avg',classes=1000,\n",
    "                   weights='imagenet')\n",
    "X = Flatten()(base_model.output)\n",
    "#X = Dense(1408, activation = 'relu')(X)\n",
    "#X = BatchNormalization()(X)\n",
    "#X = Dropout(0.2)(X)\n",
    "X = Dense(500, activation = 'relu')(X)\n",
    "X = BatchNormalization()(X)\n",
    "X = Dropout(0.2)(X)\n",
    "X = Dense(50, activation='softmax')(X)\n",
    "image_model = Model(inputs = base_model.input, outputs = X)\n",
    "image_model.compile(optimizer=ada(3e-4), loss='categorical_crossentropy', metrics=['accuracy'])\n",
    "ensemble_model.append(image_model)"
   ]
  },
  {
   "cell_type": "code",
   "execution_count": 49,
   "id": "a9de000d",
   "metadata": {},
   "outputs": [],
   "source": [
    "#3\n",
    "base_model = tf.keras.applications.EfficientNetB3(include_top=False,\n",
    "                   input_shape=(300,300,3),\n",
    "                   pooling='avg',classes=1000,\n",
    "                   weights='imagenet')\n",
    "X = Flatten()(base_model.output)\n",
    "#X = Dense(1536, activation = 'relu')(X)\n",
    "#X = BatchNormalization()(X)\n",
    "#X = Dropout(0.2)(X)\n",
    "X = Dense(500, activation = 'relu')(X)\n",
    "X = BatchNormalization()(X)\n",
    "X = Dropout(0.2)(X)\n",
    "X = Dense(50, activation='softmax')(X)\n",
    "image_model = Model(inputs = base_model.input, outputs = X)\n",
    "image_model.compile(optimizer=ada(3e-4), loss='categorical_crossentropy', metrics=['accuracy'])\n",
    "ensemble_model.append(image_model)"
   ]
  },
  {
   "cell_type": "code",
   "execution_count": 50,
   "id": "7a9a4463",
   "metadata": {},
   "outputs": [],
   "source": [
    "#4\n",
    "base_model = tf.keras.applications.EfficientNetB4(include_top=False,\n",
    "                   input_shape=(380,380,3),\n",
    "                   pooling='avg',classes=1000,\n",
    "                   weights='imagenet')\n",
    "X = Flatten()(base_model.output)\n",
    "#X = Dense(1792, activation = 'relu')(X)\n",
    "#X = BatchNormalization()(X)\n",
    "#X = Dropout(0.2)(X)\n",
    "X = Dense(500, activation = 'relu')(X)\n",
    "X = BatchNormalization()(X)\n",
    "X = Dropout(0.2)(X)\n",
    "X = Dense(50, activation='softmax')(X)\n",
    "image_model = Model(inputs = base_model.input, outputs = X)\n",
    "image_model.compile(optimizer=ada(3e-4), loss='categorical_crossentropy', metrics=['accuracy'])\n",
    "ensemble_model.append(image_model)"
   ]
  },
  {
   "cell_type": "code",
   "execution_count": 51,
   "id": "e635e0c7",
   "metadata": {},
   "outputs": [],
   "source": [
    "#5\n",
    "base_model = tf.keras.applications.EfficientNetB5(include_top=False,\n",
    "                   input_shape=(456,456,3),\n",
    "                   pooling='avg',classes=1000,\n",
    "                   weights='imagenet')\n",
    "X = Flatten()(base_model.output)\n",
    "#X = Dense(2048, activation = 'relu')(X)\n",
    "#X = BatchNormalization()(X)\n",
    "#X = Dropout(0.2)(X)\n",
    "X = Dense(500, activation = 'relu')(X)\n",
    "X = BatchNormalization()(X)\n",
    "X = Dropout(0.2)(X)\n",
    "X = Dense(50, activation='softmax')(X)\n",
    "image_model = Model(inputs = base_model.input, outputs = X)\n",
    "image_model.compile(optimizer=ada(3e-4), loss='categorical_crossentropy', metrics=['accuracy'])\n",
    "ensemble_model.append(image_model)"
   ]
  },
  {
   "cell_type": "code",
   "execution_count": 52,
   "id": "f3501d9c",
   "metadata": {},
   "outputs": [],
   "source": [
    "#6\n",
    "base_model = tf.keras.applications.EfficientNetB6(include_top=False,\n",
    "                   input_shape=(528,528,3),\n",
    "                   pooling='avg',classes=1000,\n",
    "                   weights='imagenet')\n",
    "X = Flatten()(base_model.output)\n",
    "#X = Dense(2304, activation = 'relu')(X)\n",
    "#X = BatchNormalization()(X)\n",
    "#X = Dropout(0.2)(X)\n",
    "X = Dense(500, activation = 'relu')(X)\n",
    "X = BatchNormalization()(X)\n",
    "X = Dropout(0.2)(X)\n",
    "X = Dense(50, activation='softmax')(X)\n",
    "image_model = Model(inputs = base_model.input, outputs = X)\n",
    "image_model.compile(optimizer=ada(3e-4), loss='categorical_crossentropy', metrics=['accuracy'])\n",
    "ensemble_model.append(image_model)"
   ]
  },
  {
   "cell_type": "markdown",
   "id": "87f225b7",
   "metadata": {},
   "source": [
    "### 4.Train TF model"
   ]
  },
  {
   "cell_type": "code",
   "execution_count": 53,
   "id": "760cddb1",
   "metadata": {},
   "outputs": [
    {
     "name": "stdout",
     "output_type": "stream",
     "text": [
      "[name: \"/device:CPU:0\"\n",
      "device_type: \"CPU\"\n",
      "memory_limit: 268435456\n",
      "locality {\n",
      "}\n",
      "incarnation: 15786879934872305681\n",
      "xla_global_id: -1\n",
      ", name: \"/device:GPU:0\"\n",
      "device_type: \"GPU\"\n",
      "memory_limit: 22720544768\n",
      "locality {\n",
      "  bus_id: 1\n",
      "  links {\n",
      "  }\n",
      "}\n",
      "incarnation: 14073362446480609761\n",
      "physical_device_desc: \"device: 0, name: NVIDIA GeForce RTX 3090, pci bus id: 0000:01:00.0, compute capability: 8.6\"\n",
      "xla_global_id: 416903419\n",
      "]\n"
     ]
    }
   ],
   "source": [
    "import os\n",
    "os.environ[\"CUDA_VISIBLE_DEVICES\"] = \"0\"\n",
    "from tensorflow.python.client import device_lib\n",
    "\n",
    "print(device_lib.list_local_devices())"
   ]
  },
  {
   "cell_type": "code",
   "execution_count": 54,
   "id": "88beef14",
   "metadata": {},
   "outputs": [],
   "source": [
    "def ada(e): \n",
    "    return tf.keras.optimizers.Adam(learning_rate=e)"
   ]
  },
  {
   "cell_type": "code",
   "execution_count": 65,
   "id": "a4a0cebf",
   "metadata": {},
   "outputs": [
    {
     "name": "stdout",
     "output_type": "stream",
     "text": [
      "WARNING:tensorflow:`epsilon` argument is deprecated and will be removed, use `min_delta` instead.\n"
     ]
    }
   ],
   "source": [
    "earlyStopping = EarlyStopping(monitor='val_loss', patience=10, verbose=0, mode='min')\n",
    "def mcp_save(name):\n",
    "     return ModelCheckpoint('weights/'+name +'model.h5', save_best_only=True, monitor='val_accuracy', mode='max',save_weights_only=True)\n",
    "reduce_lr_loss = ReduceLROnPlateau(monitor='val_loss', factor=0.1, patience=4, verbose=1, epsilon=1e-4, mode='min')"
   ]
  },
  {
   "cell_type": "code",
   "execution_count": 66,
   "id": "f25ae45f",
   "metadata": {
    "scrolled": true
   },
   "outputs": [
    {
     "name": "stdout",
     "output_type": "stream",
     "text": [
      "Epoch 1/30\n",
      "296/296 [==============================] - 61s 205ms/step - loss: 0.8231 - accuracy: 0.7570 - val_loss: 5.2849 - val_accuracy: 0.1378 - lr: 3.0000e-04\n",
      "Epoch 2/30\n",
      " 24/296 [=>............................] - ETA: 46s - loss: 0.8307 - accuracy: 0.7526"
     ]
    },
    {
     "ename": "KeyboardInterrupt",
     "evalue": "",
     "output_type": "error",
     "traceback": [
      "\u001b[1;31m---------------------------------------------------------------------------\u001b[0m",
      "\u001b[1;31mKeyboardInterrupt\u001b[0m                         Traceback (most recent call last)",
      "\u001b[1;32m~\\AppData\\Local\\Temp\\ipykernel_30064\\304949652.py\u001b[0m in \u001b[0;36m<cell line: 1>\u001b[1;34m()\u001b[0m\n\u001b[1;32m----> 1\u001b[1;33m history= [train_model.fit(train_gen[name], epochs=30, validation_data=val_gen[name],\n\u001b[0m\u001b[0;32m      2\u001b[0m                           callbacks=[earlyStopping, mcp_save(str(name)), reduce_lr_loss])for name, train_model in enumerate (ensemble_model)]\n",
      "\u001b[1;32m~\\AppData\\Local\\Temp\\ipykernel_30064\\304949652.py\u001b[0m in \u001b[0;36m<listcomp>\u001b[1;34m(.0)\u001b[0m\n\u001b[1;32m----> 1\u001b[1;33m history= [train_model.fit(train_gen[name], epochs=30, validation_data=val_gen[name],\n\u001b[0m\u001b[0;32m      2\u001b[0m                           callbacks=[earlyStopping, mcp_save(str(name)), reduce_lr_loss])for name, train_model in enumerate (ensemble_model)]\n",
      "\u001b[1;32m~\\anaconda3\\envs\\mytorch\\lib\\site-packages\\keras\\utils\\traceback_utils.py\u001b[0m in \u001b[0;36merror_handler\u001b[1;34m(*args, **kwargs)\u001b[0m\n\u001b[0;32m     63\u001b[0m         \u001b[0mfiltered_tb\u001b[0m \u001b[1;33m=\u001b[0m \u001b[1;32mNone\u001b[0m\u001b[1;33m\u001b[0m\u001b[1;33m\u001b[0m\u001b[0m\n\u001b[0;32m     64\u001b[0m         \u001b[1;32mtry\u001b[0m\u001b[1;33m:\u001b[0m\u001b[1;33m\u001b[0m\u001b[1;33m\u001b[0m\u001b[0m\n\u001b[1;32m---> 65\u001b[1;33m             \u001b[1;32mreturn\u001b[0m \u001b[0mfn\u001b[0m\u001b[1;33m(\u001b[0m\u001b[1;33m*\u001b[0m\u001b[0margs\u001b[0m\u001b[1;33m,\u001b[0m \u001b[1;33m**\u001b[0m\u001b[0mkwargs\u001b[0m\u001b[1;33m)\u001b[0m\u001b[1;33m\u001b[0m\u001b[1;33m\u001b[0m\u001b[0m\n\u001b[0m\u001b[0;32m     66\u001b[0m         \u001b[1;32mexcept\u001b[0m \u001b[0mException\u001b[0m \u001b[1;32mas\u001b[0m \u001b[0me\u001b[0m\u001b[1;33m:\u001b[0m\u001b[1;33m\u001b[0m\u001b[1;33m\u001b[0m\u001b[0m\n\u001b[0;32m     67\u001b[0m             \u001b[0mfiltered_tb\u001b[0m \u001b[1;33m=\u001b[0m \u001b[0m_process_traceback_frames\u001b[0m\u001b[1;33m(\u001b[0m\u001b[0me\u001b[0m\u001b[1;33m.\u001b[0m\u001b[0m__traceback__\u001b[0m\u001b[1;33m)\u001b[0m\u001b[1;33m\u001b[0m\u001b[1;33m\u001b[0m\u001b[0m\n",
      "\u001b[1;32m~\\anaconda3\\envs\\mytorch\\lib\\site-packages\\keras\\engine\\training.py\u001b[0m in \u001b[0;36mfit\u001b[1;34m(self, x, y, batch_size, epochs, verbose, callbacks, validation_split, validation_data, shuffle, class_weight, sample_weight, initial_epoch, steps_per_epoch, validation_steps, validation_batch_size, validation_freq, max_queue_size, workers, use_multiprocessing)\u001b[0m\n\u001b[0;32m   1562\u001b[0m                         ):\n\u001b[0;32m   1563\u001b[0m                             \u001b[0mcallbacks\u001b[0m\u001b[1;33m.\u001b[0m\u001b[0mon_train_batch_begin\u001b[0m\u001b[1;33m(\u001b[0m\u001b[0mstep\u001b[0m\u001b[1;33m)\u001b[0m\u001b[1;33m\u001b[0m\u001b[1;33m\u001b[0m\u001b[0m\n\u001b[1;32m-> 1564\u001b[1;33m                             \u001b[0mtmp_logs\u001b[0m \u001b[1;33m=\u001b[0m \u001b[0mself\u001b[0m\u001b[1;33m.\u001b[0m\u001b[0mtrain_function\u001b[0m\u001b[1;33m(\u001b[0m\u001b[0miterator\u001b[0m\u001b[1;33m)\u001b[0m\u001b[1;33m\u001b[0m\u001b[1;33m\u001b[0m\u001b[0m\n\u001b[0m\u001b[0;32m   1565\u001b[0m                             \u001b[1;32mif\u001b[0m \u001b[0mdata_handler\u001b[0m\u001b[1;33m.\u001b[0m\u001b[0mshould_sync\u001b[0m\u001b[1;33m:\u001b[0m\u001b[1;33m\u001b[0m\u001b[1;33m\u001b[0m\u001b[0m\n\u001b[0;32m   1566\u001b[0m                                 \u001b[0mcontext\u001b[0m\u001b[1;33m.\u001b[0m\u001b[0masync_wait\u001b[0m\u001b[1;33m(\u001b[0m\u001b[1;33m)\u001b[0m\u001b[1;33m\u001b[0m\u001b[1;33m\u001b[0m\u001b[0m\n",
      "\u001b[1;32m~\\anaconda3\\envs\\mytorch\\lib\\site-packages\\tensorflow\\python\\util\\traceback_utils.py\u001b[0m in \u001b[0;36merror_handler\u001b[1;34m(*args, **kwargs)\u001b[0m\n\u001b[0;32m    148\u001b[0m     \u001b[0mfiltered_tb\u001b[0m \u001b[1;33m=\u001b[0m \u001b[1;32mNone\u001b[0m\u001b[1;33m\u001b[0m\u001b[1;33m\u001b[0m\u001b[0m\n\u001b[0;32m    149\u001b[0m     \u001b[1;32mtry\u001b[0m\u001b[1;33m:\u001b[0m\u001b[1;33m\u001b[0m\u001b[1;33m\u001b[0m\u001b[0m\n\u001b[1;32m--> 150\u001b[1;33m       \u001b[1;32mreturn\u001b[0m \u001b[0mfn\u001b[0m\u001b[1;33m(\u001b[0m\u001b[1;33m*\u001b[0m\u001b[0margs\u001b[0m\u001b[1;33m,\u001b[0m \u001b[1;33m**\u001b[0m\u001b[0mkwargs\u001b[0m\u001b[1;33m)\u001b[0m\u001b[1;33m\u001b[0m\u001b[1;33m\u001b[0m\u001b[0m\n\u001b[0m\u001b[0;32m    151\u001b[0m     \u001b[1;32mexcept\u001b[0m \u001b[0mException\u001b[0m \u001b[1;32mas\u001b[0m \u001b[0me\u001b[0m\u001b[1;33m:\u001b[0m\u001b[1;33m\u001b[0m\u001b[1;33m\u001b[0m\u001b[0m\n\u001b[0;32m    152\u001b[0m       \u001b[0mfiltered_tb\u001b[0m \u001b[1;33m=\u001b[0m \u001b[0m_process_traceback_frames\u001b[0m\u001b[1;33m(\u001b[0m\u001b[0me\u001b[0m\u001b[1;33m.\u001b[0m\u001b[0m__traceback__\u001b[0m\u001b[1;33m)\u001b[0m\u001b[1;33m\u001b[0m\u001b[1;33m\u001b[0m\u001b[0m\n",
      "\u001b[1;32m~\\anaconda3\\envs\\mytorch\\lib\\site-packages\\tensorflow\\python\\eager\\def_function.py\u001b[0m in \u001b[0;36m__call__\u001b[1;34m(self, *args, **kwds)\u001b[0m\n\u001b[0;32m    913\u001b[0m \u001b[1;33m\u001b[0m\u001b[0m\n\u001b[0;32m    914\u001b[0m       \u001b[1;32mwith\u001b[0m \u001b[0mOptionalXlaContext\u001b[0m\u001b[1;33m(\u001b[0m\u001b[0mself\u001b[0m\u001b[1;33m.\u001b[0m\u001b[0m_jit_compile\u001b[0m\u001b[1;33m)\u001b[0m\u001b[1;33m:\u001b[0m\u001b[1;33m\u001b[0m\u001b[1;33m\u001b[0m\u001b[0m\n\u001b[1;32m--> 915\u001b[1;33m         \u001b[0mresult\u001b[0m \u001b[1;33m=\u001b[0m \u001b[0mself\u001b[0m\u001b[1;33m.\u001b[0m\u001b[0m_call\u001b[0m\u001b[1;33m(\u001b[0m\u001b[1;33m*\u001b[0m\u001b[0margs\u001b[0m\u001b[1;33m,\u001b[0m \u001b[1;33m**\u001b[0m\u001b[0mkwds\u001b[0m\u001b[1;33m)\u001b[0m\u001b[1;33m\u001b[0m\u001b[1;33m\u001b[0m\u001b[0m\n\u001b[0m\u001b[0;32m    916\u001b[0m \u001b[1;33m\u001b[0m\u001b[0m\n\u001b[0;32m    917\u001b[0m       \u001b[0mnew_tracing_count\u001b[0m \u001b[1;33m=\u001b[0m \u001b[0mself\u001b[0m\u001b[1;33m.\u001b[0m\u001b[0mexperimental_get_tracing_count\u001b[0m\u001b[1;33m(\u001b[0m\u001b[1;33m)\u001b[0m\u001b[1;33m\u001b[0m\u001b[1;33m\u001b[0m\u001b[0m\n",
      "\u001b[1;32m~\\anaconda3\\envs\\mytorch\\lib\\site-packages\\tensorflow\\python\\eager\\def_function.py\u001b[0m in \u001b[0;36m_call\u001b[1;34m(self, *args, **kwds)\u001b[0m\n\u001b[0;32m    945\u001b[0m       \u001b[1;31m# In this case we have created variables on the first call, so we run the\u001b[0m\u001b[1;33m\u001b[0m\u001b[1;33m\u001b[0m\u001b[0m\n\u001b[0;32m    946\u001b[0m       \u001b[1;31m# defunned version which is guaranteed to never create variables.\u001b[0m\u001b[1;33m\u001b[0m\u001b[1;33m\u001b[0m\u001b[0m\n\u001b[1;32m--> 947\u001b[1;33m       \u001b[1;32mreturn\u001b[0m \u001b[0mself\u001b[0m\u001b[1;33m.\u001b[0m\u001b[0m_stateless_fn\u001b[0m\u001b[1;33m(\u001b[0m\u001b[1;33m*\u001b[0m\u001b[0margs\u001b[0m\u001b[1;33m,\u001b[0m \u001b[1;33m**\u001b[0m\u001b[0mkwds\u001b[0m\u001b[1;33m)\u001b[0m  \u001b[1;31m# pylint: disable=not-callable\u001b[0m\u001b[1;33m\u001b[0m\u001b[1;33m\u001b[0m\u001b[0m\n\u001b[0m\u001b[0;32m    948\u001b[0m     \u001b[1;32melif\u001b[0m \u001b[0mself\u001b[0m\u001b[1;33m.\u001b[0m\u001b[0m_stateful_fn\u001b[0m \u001b[1;32mis\u001b[0m \u001b[1;32mnot\u001b[0m \u001b[1;32mNone\u001b[0m\u001b[1;33m:\u001b[0m\u001b[1;33m\u001b[0m\u001b[1;33m\u001b[0m\u001b[0m\n\u001b[0;32m    949\u001b[0m       \u001b[1;31m# Release the lock early so that multiple threads can perform the call\u001b[0m\u001b[1;33m\u001b[0m\u001b[1;33m\u001b[0m\u001b[0m\n",
      "\u001b[1;32m~\\anaconda3\\envs\\mytorch\\lib\\site-packages\\tensorflow\\python\\eager\\function.py\u001b[0m in \u001b[0;36m__call__\u001b[1;34m(self, *args, **kwargs)\u001b[0m\n\u001b[0;32m   2494\u001b[0m       (graph_function,\n\u001b[0;32m   2495\u001b[0m        filtered_flat_args) = self._maybe_define_function(args, kwargs)\n\u001b[1;32m-> 2496\u001b[1;33m     return graph_function._call_flat(\n\u001b[0m\u001b[0;32m   2497\u001b[0m         filtered_flat_args, captured_inputs=graph_function.captured_inputs)  # pylint: disable=protected-access\n\u001b[0;32m   2498\u001b[0m \u001b[1;33m\u001b[0m\u001b[0m\n",
      "\u001b[1;32m~\\anaconda3\\envs\\mytorch\\lib\\site-packages\\tensorflow\\python\\eager\\function.py\u001b[0m in \u001b[0;36m_call_flat\u001b[1;34m(self, args, captured_inputs, cancellation_manager)\u001b[0m\n\u001b[0;32m   1860\u001b[0m         and executing_eagerly):\n\u001b[0;32m   1861\u001b[0m       \u001b[1;31m# No tape is watching; skip to running the function.\u001b[0m\u001b[1;33m\u001b[0m\u001b[1;33m\u001b[0m\u001b[0m\n\u001b[1;32m-> 1862\u001b[1;33m       return self._build_call_outputs(self._inference_function.call(\n\u001b[0m\u001b[0;32m   1863\u001b[0m           ctx, args, cancellation_manager=cancellation_manager))\n\u001b[0;32m   1864\u001b[0m     forward_backward = self._select_forward_and_backward_functions(\n",
      "\u001b[1;32m~\\anaconda3\\envs\\mytorch\\lib\\site-packages\\tensorflow\\python\\eager\\function.py\u001b[0m in \u001b[0;36mcall\u001b[1;34m(self, ctx, args, cancellation_manager)\u001b[0m\n\u001b[0;32m    497\u001b[0m       \u001b[1;32mwith\u001b[0m \u001b[0m_InterpolateFunctionError\u001b[0m\u001b[1;33m(\u001b[0m\u001b[0mself\u001b[0m\u001b[1;33m)\u001b[0m\u001b[1;33m:\u001b[0m\u001b[1;33m\u001b[0m\u001b[1;33m\u001b[0m\u001b[0m\n\u001b[0;32m    498\u001b[0m         \u001b[1;32mif\u001b[0m \u001b[0mcancellation_manager\u001b[0m \u001b[1;32mis\u001b[0m \u001b[1;32mNone\u001b[0m\u001b[1;33m:\u001b[0m\u001b[1;33m\u001b[0m\u001b[1;33m\u001b[0m\u001b[0m\n\u001b[1;32m--> 499\u001b[1;33m           outputs = execute.execute(\n\u001b[0m\u001b[0;32m    500\u001b[0m               \u001b[0mstr\u001b[0m\u001b[1;33m(\u001b[0m\u001b[0mself\u001b[0m\u001b[1;33m.\u001b[0m\u001b[0msignature\u001b[0m\u001b[1;33m.\u001b[0m\u001b[0mname\u001b[0m\u001b[1;33m)\u001b[0m\u001b[1;33m,\u001b[0m\u001b[1;33m\u001b[0m\u001b[1;33m\u001b[0m\u001b[0m\n\u001b[0;32m    501\u001b[0m               \u001b[0mnum_outputs\u001b[0m\u001b[1;33m=\u001b[0m\u001b[0mself\u001b[0m\u001b[1;33m.\u001b[0m\u001b[0m_num_outputs\u001b[0m\u001b[1;33m,\u001b[0m\u001b[1;33m\u001b[0m\u001b[1;33m\u001b[0m\u001b[0m\n",
      "\u001b[1;32m~\\anaconda3\\envs\\mytorch\\lib\\site-packages\\tensorflow\\python\\eager\\execute.py\u001b[0m in \u001b[0;36mquick_execute\u001b[1;34m(op_name, num_outputs, inputs, attrs, ctx, name)\u001b[0m\n\u001b[0;32m     52\u001b[0m   \u001b[1;32mtry\u001b[0m\u001b[1;33m:\u001b[0m\u001b[1;33m\u001b[0m\u001b[1;33m\u001b[0m\u001b[0m\n\u001b[0;32m     53\u001b[0m     \u001b[0mctx\u001b[0m\u001b[1;33m.\u001b[0m\u001b[0mensure_initialized\u001b[0m\u001b[1;33m(\u001b[0m\u001b[1;33m)\u001b[0m\u001b[1;33m\u001b[0m\u001b[1;33m\u001b[0m\u001b[0m\n\u001b[1;32m---> 54\u001b[1;33m     tensors = pywrap_tfe.TFE_Py_Execute(ctx._handle, device_name, op_name,\n\u001b[0m\u001b[0;32m     55\u001b[0m                                         inputs, attrs, num_outputs)\n\u001b[0;32m     56\u001b[0m   \u001b[1;32mexcept\u001b[0m \u001b[0mcore\u001b[0m\u001b[1;33m.\u001b[0m\u001b[0m_NotOkStatusException\u001b[0m \u001b[1;32mas\u001b[0m \u001b[0me\u001b[0m\u001b[1;33m:\u001b[0m\u001b[1;33m\u001b[0m\u001b[1;33m\u001b[0m\u001b[0m\n",
      "\u001b[1;31mKeyboardInterrupt\u001b[0m: "
     ]
    }
   ],
   "source": [
    "history= [train_model.fit(train_gen[name], epochs=30, validation_data=val_gen[name],\n",
    "                          callbacks=[earlyStopping, mcp_save(str(name)), reduce_lr_loss])for name, train_model in enumerate (ensemble_model)]"
   ]
  },
  {
   "cell_type": "code",
   "execution_count": null,
   "id": "cba4fea9",
   "metadata": {},
   "outputs": [],
   "source": [
    "scores = [ensemble_model[x].evaluate_generator(val_gen[x], verbose=0) for x in range(7)]"
   ]
  },
  {
   "cell_type": "code",
   "execution_count": null,
   "id": "ab9fdb29",
   "metadata": {},
   "outputs": [],
   "source": [
    "for x in range(7):\n",
    "    print(\"%s: %.2f%%\" %(ensemble_model[x].metrics_names[1], scores[x][1]*100))"
   ]
  },
  {
   "cell_type": "code",
   "execution_count": null,
   "id": "598b20b9",
   "metadata": {},
   "outputs": [],
   "source": [
    "fig1 = plt.gcf()\n",
    "for i in range(7):\n",
    "    plt.plot(history[i].history['loss'])\n",
    "    plt.plot(history[i].history['val_loss'])\n",
    "    plt.axis(ymin=0.1,ymax=10)\n",
    "    plt.axis(xmax = 30)\n",
    "    plt.grid()\n",
    "    plt.title('Model Accuracy')\n",
    "    plt.ylabel('Accuracy')\n",
    "    plt.xlabel('Epochs')\n",
    "    plt.legend(['train', 'validation'])\n",
    "plt.show()"
   ]
  },
  {
   "cell_type": "markdown",
   "id": "412acd61",
   "metadata": {},
   "source": [
    "### 5.Test TF model"
   ]
  },
  {
   "cell_type": "code",
   "execution_count": 39,
   "id": "296f8add",
   "metadata": {},
   "outputs": [
    {
     "name": "stdout",
     "output_type": "stream",
     "text": [
      "<keras.engine.functional.Functional object at 0x000001812D30B2E0>\n",
      "<keras.engine.functional.Functional object at 0x00000181472587C0>\n",
      "<keras.engine.functional.Functional object at 0x000001812D336320>\n",
      "<keras.engine.functional.Functional object at 0x0000018164CAB880>\n",
      "<keras.engine.functional.Functional object at 0x0000018164A9DEA0>\n",
      "<keras.engine.functional.Functional object at 0x0000018164CABE50>\n",
      "<keras.engine.functional.Functional object at 0x0000018164AD8B20>\n"
     ]
    }
   ],
   "source": [
    "for x in range(7):\n",
    "    print(ensemble_model[x])\n",
    "    ensemble_model[x].load_weights(filepath='weights/'+str(x)+'model.h5')"
   ]
  },
  {
   "cell_type": "code",
   "execution_count": 40,
   "id": "284d739d",
   "metadata": {},
   "outputs": [],
   "source": [
    "test_transform = [A.Compose([A.Resize(X,X),A.Normalize(mean=(0.485, 0.456, 0.406),\n",
    "                            std=(0.229, 0.224, 0.225), max_pixel_value=255.0, always_apply=False, p=1.0)])\n",
    "                  for X in input_size]"
   ]
  },
  {
   "cell_type": "code",
   "execution_count": 41,
   "id": "056c35e7",
   "metadata": {},
   "outputs": [],
   "source": [
    "test_img_paths = get_data(test_df, infer=True)\n",
    "test_gen = [CustomTFDataset(test_img_paths, test_img_paths, 16, x, shuffle =False)for x in test_transform]"
   ]
  },
  {
   "cell_type": "code",
   "execution_count": 42,
   "id": "bedd6150",
   "metadata": {},
   "outputs": [],
   "source": [
    "test_gen[6].batch_size = 8"
   ]
  },
  {
   "cell_type": "code",
   "execution_count": 49,
   "id": "cac5999f",
   "metadata": {},
   "outputs": [],
   "source": [
    "gc.collect()\n",
    "torch.cuda.empty_cache()"
   ]
  },
  {
   "cell_type": "code",
   "execution_count": 44,
   "id": "244b5cc8",
   "metadata": {},
   "outputs": [
    {
     "name": "stdout",
     "output_type": "stream",
     "text": [
      "792/792 [==============================] - 43s 52ms/step\n",
      "792/792 [==============================] - 43s 53ms/step\n",
      "792/792 [==============================] - 48s 59ms/step\n",
      "792/792 [==============================] - 56s 69ms/step\n",
      "792/792 [==============================] - 93s 115ms/step\n",
      "1584/1584 [==============================] - 170s 105ms/step\n"
     ]
    }
   ],
   "source": [
    "Test_Predic = [ensemble_model[x].predict(test_gen[x])for x in range(1,7)]"
   ]
  },
  {
   "cell_type": "markdown",
   "id": "ebd8af9d-d082-4e7b-ad1b-ebdb4f910af5",
   "metadata": {},
   "source": [
    "## Ensemble PyTorch and TensorFlow"
   ]
  },
  {
   "cell_type": "code",
   "execution_count": 30,
   "id": "11bb07ba",
   "metadata": {},
   "outputs": [],
   "source": [
    "torch_model_1 = torch.load('weights/b1_32_30.pt')\n",
    "torch_model_2 = torch.load('weights/b2_32_30.pt')\n",
    "torch_model_3 = torch.load('weights/b3_32_30.pt')\n",
    "torch_model_4 = torch.load('weights/b4_16_30.pt')\n",
    "torch_model_5 = torch.load('weights/b5_8_30.pt')\n",
    "torch_model_6 = torch.load('weights/b6_4_30.pt')"
   ]
  },
  {
   "cell_type": "code",
   "execution_count": 31,
   "id": "d14419e7",
   "metadata": {},
   "outputs": [
    {
     "data": {
      "application/vnd.jupyter.widget-view+json": {
       "model_id": "ebfd763b3db84e31b08c63d899447f70",
       "version_major": 2,
       "version_minor": 0
      },
      "text/plain": [
       "  0%|          | 0/396 [00:00<?, ?it/s]"
      ]
     },
     "metadata": {},
     "output_type": "display_data"
    },
    {
     "name": "stdout",
     "output_type": "stream",
     "text": [
      "Done.\n"
     ]
    },
    {
     "data": {
      "application/vnd.jupyter.widget-view+json": {
       "model_id": "3e55b3a4b3124317b1d643c34c98d099",
       "version_major": 2,
       "version_minor": 0
      },
      "text/plain": [
       "  0%|          | 0/396 [00:00<?, ?it/s]"
      ]
     },
     "metadata": {},
     "output_type": "display_data"
    },
    {
     "name": "stdout",
     "output_type": "stream",
     "text": [
      "Done.\n"
     ]
    },
    {
     "data": {
      "application/vnd.jupyter.widget-view+json": {
       "model_id": "b12733aef5724db9bc8b20d69f9253ce",
       "version_major": 2,
       "version_minor": 0
      },
      "text/plain": [
       "  0%|          | 0/396 [00:00<?, ?it/s]"
      ]
     },
     "metadata": {},
     "output_type": "display_data"
    },
    {
     "name": "stdout",
     "output_type": "stream",
     "text": [
      "Done.\n"
     ]
    },
    {
     "data": {
      "application/vnd.jupyter.widget-view+json": {
       "model_id": "d7300cd77b6447938a1fe53051d86ae9",
       "version_major": 2,
       "version_minor": 0
      },
      "text/plain": [
       "  0%|          | 0/792 [00:00<?, ?it/s]"
      ]
     },
     "metadata": {},
     "output_type": "display_data"
    },
    {
     "name": "stdout",
     "output_type": "stream",
     "text": [
      "Done.\n"
     ]
    },
    {
     "data": {
      "application/vnd.jupyter.widget-view+json": {
       "model_id": "d172580d9819427882c7bb19b10a016a",
       "version_major": 2,
       "version_minor": 0
      },
      "text/plain": [
       "  0%|          | 0/792 [00:00<?, ?it/s]"
      ]
     },
     "metadata": {},
     "output_type": "display_data"
    },
    {
     "name": "stdout",
     "output_type": "stream",
     "text": [
      "Done.\n"
     ]
    },
    {
     "data": {
      "application/vnd.jupyter.widget-view+json": {
       "model_id": "291980edbd924932b878815cb7ab0a93",
       "version_major": 2,
       "version_minor": 0
      },
      "text/plain": [
       "  0%|          | 0/1584 [00:00<?, ?it/s]"
      ]
     },
     "metadata": {},
     "output_type": "display_data"
    },
    {
     "name": "stdout",
     "output_type": "stream",
     "text": [
      "Done.\n"
     ]
    }
   ],
   "source": [
    "model_list = [torch_model_1,torch_model_2, torch_model_3,torch_model_4,torch_model_5,torch_model_6]\n",
    "test_dataset_list = [ test_loader_1,test_loader_2, test_loader_3, test_loader_4, test_loader_5, test_loader_6]\n",
    "\n",
    "pred = []\n",
    "for i in range(len(model_list)):\n",
    "    pred += [inference(model_list[i],test_dataset_list[i],device)]\n"
   ]
  },
  {
   "cell_type": "code",
   "execution_count": 45,
   "id": "b7ddd700",
   "metadata": {},
   "outputs": [
    {
     "name": "stdout",
     "output_type": "stream",
     "text": [
      "[10, 2, 29, 0, 10, 33, 33, 48, 11, 40, 32, 43, 48, 10, 45, 33, 16, 33, 18, 38, 38, 22, 38, 15, 33, 38, 48, 48, 44, 33, 16, 32, 9, 21, 48, 10, 35, 4, 21, 46, 18, 45, 10, 10, 44, 3, 9, 42, 36, 10, 5, 47, 13, 10, 3, 2, 41, 13, 33, 29, 34, 35, 2, 15, 42, 10, 43, 42, 10, 46, 10, 0, 45, 32, 38, 15, 10, 30, 0, 48, 36, 24, 10, 7, 48, 33, 46, 40, 23, 43, 27, 1, 5, 27, 40, 5, 33, 20, 38, 1, 35, 22, 21, 18, 45, 46, 1, 48, 1, 0, 38, 38, 11, 21, 26, 48, 8, 33, 46, 17, 4, 2, 3, 42, 43, 37, 29, 48, 9, 42, 1, 43, 39, 40, 9, 29, 33, 1, 32, 46, 38, 9, 10, 29, 1, 10, 47, 37, 48, 20, 1, 37, 10, 10, 43, 46, 29, 16, 38, 41, 3, 15, 48, 38, 33, 34, 0, 38, 21, 48, 48, 11, 30, 23, 44, 35, 20, 0, 0, 42, 38, 38, 39, 42, 15, 10, 10, 0, 33, 10, 8, 35, 21, 15, 18, 30, 40, 40, 1, 10, 30, 0, 30, 15, 1, 10, 1, 21, 4, 38, 0, 48, 10, 0, 35, 19, 6, 24, 10, 10, 10, 2, 15, 48, 11, 10, 38, 1, 30, 33, 47, 32, 16, 24, 38, 35, 19, 4, 2, 21, 6, 35, 10, 7, 15, 2, 10, 39, 8, 4, 15, 0, 0, 45, 33, 24, 48, 45, 48, 46, 44, 30, 19, 19, 48, 36, 48, 1, 41, 10, 33, 30, 8, 9, 28, 1, 42, 0, 2, 12, 0, 27, 36, 4, 33, 46, 21, 29, 19, 6, 48, 48, 36, 35, 4, 48, 2, 1, 11, 32, 42, 40, 16, 43, 12, 26, 5, 2, 38, 37, 10, 32, 4, 4, 15, 1, 40, 1, 9, 13, 49, 48, 1, 10, 35, 48, 42, 13, 37, 10, 10, 41, 4, 19, 37, 9, 10, 5, 1, 0, 48, 40, 21, 48, 33, 35, 15, 48, 18, 43, 26, 15, 43, 18, 2, 44, 0, 48, 48, 41, 41, 2, 39, 26, 38, 21, 5, 16, 32, 45, 1, 48, 4, 48, 4, 15, 42, 35, 46, 4, 16, 38, 40, 8, 36, 43, 44, 46, 44, 33, 38, 35, 10, 10, 2, 40, 35, 32, 1, 1, 10, 28, 1, 30, 1, 45, 48, 33, 10, 19, 18, 48, 33, 48, 10, 33, 9, 9, 1, 5, 21, 25, 48, 48, 0, 46, 45, 9, 46, 44, 2, 43, 0, 42, 37, 30, 38, 18, 32, 4, 10, 48, 27, 19, 33, 32, 8, 10, 0, 11, 15, 47, 37, 32, 2, 28, 15, 30, 45, 10, 28, 19, 40, 48, 35, 15, 30, 11, 33, 21, 0, 44, 19, 2, 30, 37, 33, 16, 48, 0, 37, 5, 33, 26, 38, 39, 49, 5, 28, 48, 24, 42, 43, 38, 38, 22, 43, 10, 1, 38, 33, 33, 27, 24, 38, 9, 48, 48, 36, 36, 48, 32, 10, 15, 33, 4, 33, 48, 10, 1, 1, 42, 18, 21, 19, 28, 36, 32, 48, 26, 16, 38, 0, 48, 28, 12, 46, 1, 42, 48, 30, 18, 43, 31, 33, 0, 43, 31, 48, 6, 33, 18, 46, 48, 43, 48, 9, 38, 22, 48, 33, 10, 19, 9, 35, 35, 21, 13, 48, 45, 1, 42, 45, 27, 10, 32, 48, 29, 30, 0, 0, 30, 48, 46, 48, 48, 36, 48, 0, 4, 2, 44, 1, 15, 41, 4, 2, 45, 45, 5, 30, 15, 9, 22, 9, 2, 9, 15, 28, 47, 9, 33, 10, 38, 44, 17, 48, 18, 16, 21, 15, 48, 19, 10, 48, 10, 46, 30, 38, 38, 38, 34, 36, 4, 32, 48, 3, 48, 16, 37, 38, 46, 49, 10, 1, 48, 10, 3, 44, 48, 16, 45, 12, 9, 48, 7, 30, 18, 1, 1, 0, 10, 46, 42, 28, 21, 32, 17, 21, 38, 35, 18, 2, 10, 1, 33, 33, 19, 10, 33, 36, 38, 24, 35, 42, 0, 7, 48, 48, 48, 30, 0, 1, 6, 8, 43, 16, 35, 48, 26, 21, 30, 1, 30, 48, 19, 15, 1, 38, 10, 48, 48, 0, 48, 15, 37, 44, 48, 31, 9, 35, 38, 4, 10, 35, 42, 46, 38, 42, 2, 27, 2, 30, 18, 48, 10, 32, 33, 41, 20, 38, 18, 9, 48, 10, 21, 43, 11, 10, 48, 38, 8, 37, 38, 1, 48, 27, 10, 38, 10, 39, 30, 45, 10, 11, 20, 42, 24, 43, 2, 49, 30, 33, 10, 48, 37, 15, 15, 10, 19, 48, 48, 30, 2, 1, 3, 38, 10, 0, 48, 13, 3, 37, 48, 4, 10, 29, 13, 8, 2, 33, 37, 6, 48, 32, 2, 48, 8, 45, 4, 29, 40, 28, 48, 29, 46, 33, 0, 43, 48, 35, 1, 48, 40, 24, 0, 10, 10, 15, 46, 1, 1, 33, 6, 44, 10, 48, 33, 46, 38, 48, 10, 10, 26, 46, 33, 18, 0, 0, 48, 38, 10, 21, 42, 24, 16, 35, 0, 1, 3, 25, 7, 0, 10, 41, 6, 33, 10, 42, 39, 48, 40, 10, 47, 32, 15, 37, 24, 48, 1, 0, 10, 27, 18, 19, 22, 38, 21, 27, 35, 46, 21, 10, 48, 43, 10, 40, 35, 38, 10, 48, 27, 10, 48, 0, 45, 44, 28, 46, 10, 20, 40, 10, 33, 35, 22, 41, 33, 27, 48, 48, 15, 38, 19, 42, 48, 46, 43, 0, 47, 48, 29, 14, 15, 12, 33, 48, 18, 48, 18, 48, 15, 12, 44, 15, 35, 46, 5, 5, 21, 10, 28, 43, 10, 3, 0, 16, 19, 46, 10, 35, 37, 9, 10, 36, 23, 6, 33, 10, 19, 10, 46, 33, 34, 10, 22, 48, 42, 48, 48, 0, 44, 32, 35, 10, 33, 2, 19, 48, 32, 32, 48, 10, 33, 44, 38, 1, 35, 12, 41, 10, 43, 32, 46, 0, 48, 27, 21, 4, 35, 5, 0, 19, 46, 28, 27, 18, 41, 40, 32, 32, 38, 15, 48, 32, 1, 29, 21, 36, 10, 10, 10, 44, 10, 10, 42, 35, 10, 48, 42, 21, 11, 28, 13, 38, 42, 21, 15, 48, 48, 33, 13, 10, 10, 23, 0, 30, 3, 3, 13, 29, 1, 19, 48, 10, 30, 21, 22, 24, 1, 41, 16, 33, 46, 9, 21, 9, 21, 46, 43, 23, 43, 48, 48, 40, 48, 1, 48, 46, 45, 1, 45, 30, 33, 26, 44, 15, 49, 33, 4, 21, 10, 36, 48, 48, 18, 7, 30, 48, 10, 38, 10, 21, 2, 19, 38, 49, 48, 38, 35, 41, 43, 38, 38, 21, 43, 0, 29, 19, 8, 28, 10, 2, 28, 9, 44, 46, 3, 10, 4, 46, 35, 13, 48, 15, 10, 2, 30, 4, 8, 2, 28, 2, 33, 29, 2, 45, 9, 35, 4, 27, 36, 30, 34, 34, 35, 9, 38, 28, 10, 33, 48, 42, 37, 33, 46, 48, 9, 39, 22, 48, 46, 42, 38, 15, 46, 38, 46, 14, 32, 5, 16, 36, 49, 48, 10, 30, 4, 38, 48, 0, 43, 37, 2, 10, 10, 1, 14, 48, 10, 27, 13, 17, 42, 33, 42, 45, 37, 24, 45, 22, 10, 20, 40, 48, 37, 10, 16, 46, 21, 30, 44, 19, 27, 48, 9, 45, 40, 46, 43, 10, 38, 30, 15, 33, 48, 38, 10, 35, 10, 45, 2, 33, 15, 3, 34, 5, 48, 1, 3, 34, 48, 33, 30, 40, 7, 24, 48, 46, 42, 14, 4, 1, 46, 30, 35, 2, 35, 30, 42, 30, 15, 41, 37, 21, 16, 38, 43, 32, 38, 36, 37, 10, 46, 48, 19, 33, 37, 42, 4, 45, 35, 28, 1, 15, 40, 31, 38, 38, 5, 48, 29, 42, 2, 28, 15, 37, 33, 45, 38, 45, 21, 18, 45, 46, 13, 40, 10, 0, 27, 38, 46, 10, 48, 48, 17, 15, 27, 22, 19, 35, 18, 38, 33, 15, 0, 0, 43, 45, 41, 37, 48, 45, 19, 0, 15, 47, 9, 10, 49, 48, 35, 36, 48, 36, 43, 42, 19, 16, 7, 43, 16, 36, 15, 3, 21, 1, 33, 30, 1, 39, 44, 21, 28, 4, 48, 43, 48, 29, 21, 5, 10, 48, 48, 33, 48, 33, 40, 48, 25, 48, 30, 35, 30, 30, 28, 35, 42, 1, 48, 48, 19, 48, 46, 42, 28, 26, 18, 31, 10, 48, 48, 37, 44, 28, 48, 42, 46, 33, 45, 0, 0, 32, 10, 44, 24, 24, 43, 35, 11, 2, 46, 21, 38, 2, 1, 48, 21, 38, 46, 1, 34, 21, 41, 37, 20, 32, 43, 40, 49, 42, 48, 1, 48, 48, 9, 10, 33, 27, 37, 0, 8, 1, 35, 42, 13, 6, 38, 48, 26, 1, 34, 48, 48, 39, 0, 4, 18, 31, 27, 33, 4, 33, 21, 8, 15, 32, 48, 48, 13, 33, 35, 33, 10, 42, 5, 33, 33, 48, 1, 30, 3, 35, 9, 0, 48, 10, 10, 42, 48, 46, 15, 10, 33, 46, 45, 10, 0, 9, 41, 33, 10, 49, 4, 49, 48, 26, 17, 33, 1, 46, 4, 9, 1, 0, 38, 42, 46, 48, 10, 0, 0, 48, 8, 10, 0, 48, 29, 45, 27, 38, 33, 35, 38, 48, 0, 44, 48, 0, 10, 48, 38, 46, 42, 33, 48, 39, 36, 19, 45, 33, 45, 10, 33, 35, 40, 23, 33, 44, 7, 1, 10, 47, 44, 15, 15, 3, 48, 32, 39, 0, 32, 0, 35, 41, 48, 21, 47, 48, 46, 37, 46, 23, 16, 40, 48, 4, 46, 2, 36, 42, 24, 48, 15, 26, 10, 0, 46, 46, 42, 4, 30, 40, 46, 0, 10, 44, 38, 0, 46, 30, 33, 22, 48, 0, 46, 32, 12, 48, 37, 15, 33, 12, 7, 38, 45, 21, 38, 0, 48, 41, 10, 27, 48, 10, 33, 4, 12, 5, 43, 32, 49, 1, 21, 43, 30, 48, 15, 33, 19, 19, 48, 33, 1, 2, 3, 10, 32, 10, 38, 18, 28, 5, 48, 40, 48, 38, 5, 39, 6, 48, 9, 37, 17, 18, 48, 48, 38, 37, 17, 43, 11, 35, 24, 0, 8, 12, 32, 4, 32, 10, 0, 10, 33, 27, 34, 7, 0, 10, 30, 35, 0, 43, 40, 16, 16, 48, 19, 10, 44, 10, 5, 18, 14, 35, 4, 46, 10, 42, 22, 28, 16, 4, 8, 30, 33, 10, 45, 36, 45, 48, 47, 13, 18, 48, 35, 31, 16, 10, 10, 45, 5, 33, 10, 0, 43, 49, 9, 15, 11, 15, 19, 31, 2, 46, 2, 10, 43, 33, 33, 28, 35, 38, 21, 3, 42, 10, 40, 35, 43, 27, 15, 47, 36, 34, 0, 26, 21, 48, 1, 42, 15, 38, 46, 24, 42, 29, 36, 48, 33, 1, 48, 30, 35, 0, 48, 35, 0, 10, 30, 46, 4, 32, 41, 43, 12, 16, 16, 36, 10, 0, 29, 48, 40, 35, 33, 9, 27, 1, 38, 36, 30, 0, 38, 19, 3, 48, 48, 43, 0, 16, 29, 7, 21, 36, 27, 48, 48, 35, 30, 10, 41, 10, 19, 49, 0, 33, 35, 16, 48, 38, 10, 10, 48, 41, 48, 3, 41, 13, 32, 2, 2, 31, 48, 31, 38, 10, 5, 14, 27, 46, 26, 48, 28, 35, 16, 30, 36, 10, 37, 45, 35, 40, 4, 46, 49, 4, 4, 30, 29, 36, 47, 10, 48, 28, 22, 13, 33, 10, 0, 1, 28, 27, 29, 42, 45, 10, 32, 45, 10, 46, 45, 22, 45, 33, 21, 41, 10, 1, 48, 37, 19, 43, 48, 7, 32, 38, 30, 45, 42, 29, 2, 30, 27, 38, 40, 10, 43, 29, 11, 1, 22, 46, 2, 33, 0, 9, 43, 34, 10, 4, 21, 38, 46, 36, 13, 23, 22, 48, 42, 12, 31, 2, 30, 37, 15, 8, 31, 33, 33, 11, 39, 48, 48, 1, 49, 0, 29, 0, 13, 15, 28, 33, 15, 10, 48, 1, 48, 0, 48, 2, 46, 33, 48, 37, 32, 4, 21, 21, 15, 15, 19, 43, 38, 10, 10, 5, 30, 43, 38, 29, 10, 48, 48, 48, 42, 39, 15, 6, 14, 21, 10, 10, 10, 42, 28, 48, 48, 0, 35, 40, 45, 28, 10, 48, 10, 10, 38, 10, 10, 15, 7, 1, 40, 26, 10, 48, 15, 29, 4, 43, 21, 18, 31, 44, 16, 33, 20, 42, 38, 3, 4, 24, 48, 10, 46, 10, 36, 18, 28, 1, 38, 15, 10, 48, 44, 44, 0, 3, 36, 43, 40, 48, 37, 0, 38, 19, 2, 21, 1, 28, 41, 10, 30, 10, 19, 48, 45, 31, 48, 2, 33, 12, 13, 47, 18, 2, 41, 15, 33, 48, 18, 2, 36, 33, 48, 44, 15, 1, 42, 25, 10, 48, 47, 48, 11, 48, 10, 43, 40, 42, 42, 3, 48, 16, 13, 42, 48, 15, 33, 30, 43, 11, 48, 1, 48, 9, 46, 21, 21, 48, 12, 48, 26, 33, 46, 48, 10, 33, 44, 33, 38, 24, 37, 46, 8, 18, 29, 48, 44, 4, 39, 32, 45, 18, 43, 38, 48, 38, 1, 49, 15, 31, 48, 41, 37, 48, 30, 42, 32, 18, 48, 48, 38, 21, 0, 31, 11, 2, 26, 28, 35, 15, 0, 28, 1, 9, 33, 18, 44, 42, 0, 1, 42, 10, 29, 10, 10, 2, 31, 2, 7, 10, 9, 35, 32, 48, 38, 0, 27, 5, 15, 18, 48, 48, 9, 15, 38, 48, 46, 11, 48, 19, 44, 32, 47, 10, 43, 33, 43, 46, 42, 33, 0, 15, 47, 42, 21, 10, 42, 0, 48, 33, 0, 43, 48, 49, 43, 48, 40, 35, 1, 36, 23, 48, 46, 10, 10, 27, 1, 10, 15, 28, 46, 11, 36, 0, 10, 40, 47, 15, 1, 48, 38, 6, 32, 10, 0, 38, 35, 35, 0, 10, 4, 15, 39, 37, 32, 26, 1, 2, 43, 48, 30, 41, 4, 0, 2, 18, 48, 8, 40, 1, 36, 48, 45, 41, 35, 43, 33, 15, 46, 0, 38, 33, 38, 29, 29, 37, 48, 35, 44, 33, 10, 29, 19, 40, 0, 28, 21, 48, 40, 10, 33, 39, 45, 38, 33, 15, 48, 30, 48, 36, 18, 10, 10, 35, 28, 2, 43, 28, 10, 35, 21, 36, 48, 2, 48, 46, 0, 38, 32, 21, 2, 15, 46, 48, 1, 48, 29, 44, 7, 28, 26, 40, 48, 10, 33, 12, 37, 3, 37, 29, 48, 19, 37, 49, 10, 16, 41, 41, 33, 46, 21, 35, 22, 16, 5, 38, 36, 10, 48, 10, 24, 46, 48, 48, 42, 41, 19, 7, 44, 1, 38, 45, 38, 10, 29, 10, 38, 43, 42, 46, 0, 38, 27, 43, 48, 35, 35, 24, 35, 48, 10, 19, 48, 24, 10, 33, 37, 2, 24, 10, 31, 10, 47, 15, 21, 18, 30, 22, 1, 48, 48, 23, 1, 45, 47, 15, 35, 48, 24, 1, 30, 10, 48, 10, 10, 29, 35, 47, 46, 38, 10, 48, 48, 43, 0, 48, 39, 36, 4, 29, 21, 36, 48, 37, 2, 25, 42, 35, 10, 18, 30, 0, 48, 34, 3, 10, 10, 48, 46, 4, 23, 15, 8, 38, 15, 45, 4, 29, 10, 38, 45, 18, 43, 17, 7, 10, 45, 1, 41, 42, 38, 10, 36, 40, 21, 35, 48, 15, 48, 0, 46, 45, 42, 33, 33, 35, 41, 10, 32, 36, 48, 31, 36, 13, 45, 16, 46, 10, 46, 22, 40, 7, 2, 1, 0, 38, 19, 8, 32, 27, 35, 5, 10, 10, 10, 2, 2, 4, 47, 34, 42, 19, 0, 23, 9, 0, 42, 43, 33, 48, 48, 38, 2, 43, 18, 48, 0, 40, 10, 0, 36, 10, 35, 10, 48, 21, 4, 16, 13, 39, 30, 10, 10, 48, 48, 21, 44, 48, 26, 19, 32, 33, 4, 30, 10, 42, 45, 47, 48, 1, 10, 1, 29, 48, 15, 32, 19, 10, 29, 9, 19, 40, 32, 45, 18, 10, 27, 32, 40, 46, 33, 16, 10, 29, 38, 41, 30, 33, 2, 21, 48, 36, 41, 44, 42, 13, 5, 38, 46, 1, 3, 37, 46, 46, 22, 1, 35, 3, 3, 48, 10, 27, 36, 18, 47, 45, 10, 42, 33, 48, 15, 39, 0, 21, 0, 6, 0, 18, 40, 46, 48, 2, 19, 46, 48, 33, 1, 42, 12, 1, 0, 24, 48, 15, 24, 29, 10, 10, 26, 21, 16, 0, 17, 35, 23, 34, 45, 37, 18, 48, 9, 46, 43, 8, 0, 30, 33, 48, 21, 21, 48, 15, 37, 38, 38, 24, 48, 1, 11, 0, 18, 42, 36, 30, 15, 37, 43, 0, 0, 11, 48, 43, 43, 15, 45, 35, 41, 21, 40, 10, 10, 48, 42, 1, 48, 10, 48, 9, 4, 21, 7, 10, 15, 15, 38, 40, 15, 43, 40, 40, 2, 28, 35, 6, 1, 33, 46, 44, 21, 43, 46, 48, 9, 42, 10, 10, 42, 24, 33, 16, 9, 0, 36, 15, 1, 44, 0, 47, 33, 12, 48, 46, 32, 48, 1, 21, 38, 48, 15, 3, 21, 23, 38, 28, 18, 10, 10, 30, 43, 10, 15, 23, 32, 5, 10, 35, 34, 41, 41, 38, 48, 24, 48, 42, 45, 42, 10, 21, 8, 32, 42, 12, 48, 28, 13, 1, 19, 33, 40, 37, 8, 19, 18, 30, 29, 10, 43, 8, 38, 42, 39, 48, 49, 0, 38, 37, 28, 33, 44, 48, 38, 27, 46, 48, 38, 9, 8, 4, 48, 12, 16, 37, 45, 40, 2, 10, 29, 46, 1, 0, 28, 15, 35, 38, 1, 40, 8, 1, 19, 2, 33, 33, 48, 4, 6, 9, 29, 32, 1, 10, 1, 10, 2, 36, 48, 45, 38, 40, 45, 46, 0, 15, 0, 42, 27, 44, 47, 2, 10, 29, 33, 11, 11, 41, 35, 44, 45, 48, 1, 16, 31, 4, 36, 41, 0, 11, 8, 46, 40, 40, 43, 11, 33, 47, 15, 3, 6, 24, 10, 35, 23, 37, 16, 30, 16, 37, 35, 48, 33, 38, 15, 33, 38, 3, 46, 37, 35, 4, 30, 1, 33, 48, 29, 10, 4, 3, 2, 48, 29, 17, 30, 10, 12, 38, 41, 0, 3, 41, 2, 0, 35, 33, 45, 24, 48, 10, 26, 1, 1, 45, 21, 38, 38, 23, 37, 30, 49, 38, 9, 10, 35, 46, 35, 44, 15, 33, 48, 10, 10, 19, 37, 10, 48, 40, 35, 30, 9, 36, 1, 1, 41, 47, 38, 36, 17, 15, 46, 36, 15, 10, 10, 33, 39, 46, 21, 15, 38, 19, 1, 48, 2, 10, 19, 1, 0, 36, 12, 38, 26, 35, 28, 10, 15, 2, 10, 32, 29, 18, 2, 0, 43, 10, 28, 13, 2, 36, 48, 24, 32, 15, 46, 32, 24, 33, 15, 7, 32, 48, 13, 45, 43, 13, 43, 43, 48, 48, 15, 33, 1, 37, 46, 42, 10, 30, 41, 17, 5, 10, 10, 48, 35, 21, 19, 42, 5, 10, 33, 35, 40, 0, 21, 36, 17, 41, 33, 0, 35, 49, 44, 1, 32, 33, 40, 24, 0, 48, 33, 1, 0, 21, 48, 0, 24, 36, 42, 37, 21, 28, 46, 1, 38, 46, 27, 15, 9, 1, 1, 48, 2, 44, 35, 2, 30, 32, 7, 3, 38, 34, 11, 10, 10, 36, 45, 46, 48, 39, 10, 49, 44, 47, 24, 38, 40, 45, 48, 15, 10, 0, 10, 48, 2, 44, 0, 10, 42, 17, 30, 10, 29, 21, 15, 48, 32, 42, 15, 1, 2, 26, 45, 48, 15, 10, 48, 18, 36, 43, 34, 42, 10, 45, 43, 1, 15, 40, 37, 36, 32, 19, 29, 37, 41, 1, 0, 48, 37, 37, 0, 1, 31, 9, 35, 3, 33, 21, 48, 35, 21, 48, 29, 10, 0, 21, 40, 48, 0, 23, 31, 0, 48, 42, 38, 30, 3, 33, 15, 42, 0, 48, 48, 31, 2, 20, 38, 49, 10, 35, 15, 26, 40, 1, 28, 33, 38, 21, 46, 35, 41, 48, 48, 38, 46, 0, 38, 10, 0, 16, 40, 47, 40, 10, 48, 35, 15, 11, 38, 9, 30, 42, 15, 13, 2, 0, 48, 42, 33, 29, 4, 28, 0, 38, 10, 42, 22, 35, 0, 33, 21, 3, 44, 33, 3, 33, 0, 30, 49, 18, 48, 1, 5, 15, 10, 46, 4, 43, 19, 43, 27, 36, 35, 34, 13, 35, 10, 43, 34, 48, 15, 0, 37, 45, 0, 9, 0, 15, 48, 15, 10, 0, 33, 0, 1, 37, 48, 48, 30, 13, 42, 24, 42, 45, 49, 33, 1, 1, 10, 3, 10, 4, 38, 35, 10, 15, 47, 47, 48, 28, 42, 35, 42, 48, 30, 40, 2, 36, 40, 17, 48, 40, 10, 15, 10, 43, 48, 1, 0, 46, 14, 9, 5, 19, 28, 37, 42, 36, 10, 10, 47, 34, 0, 0, 19, 23, 38, 8, 35, 10, 38, 7, 2, 6, 10, 39, 48, 4, 10, 42, 11, 0, 2, 33, 0, 21, 4, 0, 10, 2, 45, 42, 0, 11, 15, 39, 0, 1, 10, 46, 18, 1, 30, 30, 33, 38, 45, 48, 10, 0, 15, 0, 20, 40, 40, 33, 7, 35, 22, 3, 29, 35, 33, 37, 48, 0, 10, 12, 48, 42, 44, 48, 4, 46, 13, 46, 18, 38, 46, 41, 41, 41, 38, 26, 48, 29, 15, 48, 28, 48, 48, 24, 22, 19, 10, 8, 2, 18, 5, 45, 15, 38, 29, 31, 36, 35, 0, 46, 47, 8, 48, 0, 33, 15, 35, 10, 0, 12, 10, 24, 47, 0, 32, 46, 33, 36, 45, 7, 46, 39, 48, 15, 21, 10, 10, 28, 43, 8, 48, 37, 16, 10, 10, 40, 48, 15, 19, 36, 10, 19, 33, 48, 33, 1, 49, 48, 2, 24, 42, 47, 46, 37, 10, 10, 22, 48, 42, 33, 30, 49, 36, 38, 33, 16, 24, 16, 33, 10, 10, 43, 40, 3, 45, 21, 21, 10, 15, 30, 48, 1, 9, 48, 42, 43, 30, 33, 40, 46, 15, 48, 21, 20, 46, 0, 48, 10, 26, 37, 38, 42, 38, 43, 32, 35, 35, 46, 45, 10, 33, 10, 42, 42, 49, 9, 38, 48, 41, 30, 10, 2, 42, 4, 0, 48, 4, 48, 33, 48, 0, 38, 30, 34, 33, 46, 33, 9, 48, 29, 48, 10, 5, 40, 48, 48, 10, 13, 48, 48, 5, 30, 10, 9, 2, 21, 31, 22, 2, 47, 42, 42, 38, 24, 38, 3, 30, 21, 33, 10, 48, 28, 30, 15, 48, 1, 15, 10, 13, 48, 21, 41, 36, 16, 26, 41, 15, 42, 24, 13, 20, 47, 1, 10, 48, 15, 1, 48, 28, 1, 48, 16, 43, 10, 44, 16, 38, 6, 9, 25, 43, 35, 41, 46, 18, 37, 0, 46, 16, 42, 7, 1, 1, 21, 19, 38, 35, 19, 4, 48, 4, 48, 33, 12, 0, 10, 10, 10, 15, 15, 45, 37, 16, 33, 38, 0, 32, 33, 48, 48, 10, 48, 35, 16, 15, 4, 15, 0, 3, 35, 4, 0, 36, 31, 37, 0, 15, 29, 2, 13, 45, 20, 48, 35, 33, 30, 1, 48, 16, 33, 42, 45, 10, 33, 0, 10, 46, 46, 36, 42, 10, 39, 2, 15, 10, 28, 0, 9, 0, 33, 48, 44, 48, 35, 16, 48, 1, 24, 43, 28, 5, 37, 28, 1, 14, 45, 1, 29, 44, 48, 21, 48, 16, 25, 7, 18, 38, 16, 37, 2, 10, 0, 36, 38, 0, 8, 1, 2, 10, 15, 48, 21, 36, 37, 7, 33, 43, 42, 21, 1, 1, 4, 46, 24, 43, 19, 46, 2, 48, 21, 47, 43, 48, 3, 10, 10, 3, 45, 42, 13, 42, 10, 45, 5, 36, 33, 26, 43, 26, 10, 30, 1, 15, 5, 48, 10, 48, 12, 0, 33, 38, 45, 28, 37, 48, 3, 10, 46, 33, 15, 33, 29, 8, 21, 19, 44, 24, 9, 2, 0, 3, 32, 17, 43, 2, 0, 49, 46, 40, 33, 35, 43, 8, 33, 48, 19, 27, 29, 48, 46, 1, 1, 10, 33, 29, 38, 30, 30, 48, 33, 16, 7, 5, 15, 1, 15, 48, 4, 16, 49, 47, 2, 18, 24, 30, 10, 48, 36, 48, 1, 10, 33, 0, 0, 38, 8, 0, 6, 38, 36, 23, 38, 10, 35, 48, 48, 22, 46, 10, 45, 10, 7, 47, 10, 40, 4, 1, 7, 13, 30, 48, 48, 10, 39, 1, 42, 33, 42, 10, 29, 32, 10, 9, 10, 18, 41, 21, 28, 3, 17, 3, 2, 3, 10, 10, 42, 42, 48, 33, 48, 15, 2, 36, 40, 38, 12, 29, 46, 10, 4, 46, 9, 9, 28, 19, 3, 42, 32, 25, 28, 28, 42, 33, 39, 48, 32, 0, 48, 10, 48, 29, 1, 2, 2, 15, 15, 2, 0, 10, 36, 48, 38, 16, 38, 10, 33, 0, 4, 37, 0, 29, 48, 1, 40, 33, 38, 37, 48, 31, 11, 42, 46, 48, 34, 48, 0, 0, 45, 0, 48, 15, 0, 21, 45, 3, 6, 21, 38, 3, 30, 21, 46, 21, 48, 49, 16, 10, 47, 48, 10, 29, 46, 10, 8, 48, 48, 10, 1, 39, 35, 35, 48, 4, 18, 18, 30, 29, 48, 8, 17, 40, 47, 33, 40, 45, 38, 31, 2, 5, 48, 16, 18, 46, 10, 42, 39, 38, 21, 15, 16, 10, 4, 17, 10, 40, 8, 45, 29, 10, 1, 15, 45, 27, 37, 32, 4, 37, 40, 48, 22, 48, 36, 30, 18, 15, 12, 42, 19, 5, 15, 8, 48, 35, 30, 27, 46, 18, 3, 2, 30, 39, 36, 28, 42, 48, 2, 39, 15, 3, 0, 2, 10, 41, 33, 0, 10, 2, 33, 48, 36, 23, 48, 19, 38, 1, 11, 35, 42, 37, 15, 1, 33, 42, 38, 33, 10, 4, 36, 15, 1, 30, 48, 33, 10, 48, 36, 10, 45, 15, 47, 33, 46, 48, 38, 41, 13, 35, 7, 19, 48, 10, 42, 15, 29, 2, 24, 43, 9, 1, 22, 48, 27, 2, 48, 3, 0, 46, 35, 49, 45, 43, 35, 33, 26, 35, 1, 0, 15, 1, 49, 33, 30, 38, 48, 48, 48, 48, 40, 48, 38, 33, 46, 46, 30, 2, 48, 41, 18, 29, 48, 42, 36, 2, 28, 1, 10, 17, 44, 38, 48, 42, 16, 9, 13, 48, 10, 34, 36, 2, 32, 27, 16, 38, 1, 47, 2, 43, 38, 1, 22, 38, 44, 42, 36, 44, 35, 45, 18, 10, 0, 48, 18, 49, 44, 27, 11, 46, 48, 33, 12, 15, 4, 45, 30, 48, 44, 37, 0, 36, 48, 43, 42, 42, 10, 9, 8, 48, 48, 15, 33, 46, 1, 38, 8, 38, 27, 18, 1, 4, 48, 17, 42, 30, 46, 7, 48, 4, 25, 3, 2, 0, 29, 32, 1, 39, 4, 4, 42, 15, 4, 47, 4, 0, 33, 40, 35, 45, 26, 0, 46, 48, 38, 33, 2, 1, 35, 46, 45, 48, 0, 9, 18, 33, 32, 43, 12, 34, 11, 48, 42, 19, 21, 15, 46, 37, 10, 39, 10, 35, 48, 45, 48, 48, 48, 27, 43, 0, 15, 36, 10, 48, 48, 20, 43, 8, 36, 16, 14, 0, 2, 43, 21, 0, 36, 35, 43, 17, 4, 10, 29, 10, 48, 48, 46, 36, 41, 18, 4, 3, 15, 10, 0, 38, 10, 48, 6, 29, 33, 10, 15, 35, 47, 48, 30, 36, 0, 15, 10, 10, 46, 48, 38, 48, 7, 33, 43, 21, 18, 10, 40, 0, 48, 33, 11, 48, 8, 11, 11, 44, 16, 3, 46, 33, 35, 5, 10, 28, 10, 35, 45, 48, 38, 45, 45, 5, 30, 22, 26, 1, 45, 48, 48, 2, 10, 0, 31, 45, 48, 21, 10, 5, 45, 10, 44, 33, 48, 37, 33, 48, 11, 6, 13, 33, 9, 35, 9, 44, 42, 48, 27, 46, 2, 3, 10, 33, 28, 3, 0, 9, 0, 35, 42, 2, 37, 20, 48, 1, 7, 44, 33, 44, 42, 44, 43, 15, 44, 0, 32, 10, 33, 10, 38, 7, 41, 19, 40, 37, 0, 42, 23, 28, 48, 4, 11, 27, 29, 35, 36, 9, 48, 46, 37, 10, 33, 20, 43, 29, 15, 10, 48, 48, 0, 32, 9, 43, 1, 30, 48, 33, 42, 47, 24, 6, 32, 43, 9, 48, 10, 13, 46, 2, 16, 3, 48, 41, 30, 37, 9, 10, 48, 10, 38, 19, 33, 1, 32, 10, 38, 38, 43, 48, 47, 42, 1, 9, 3, 9, 5, 38, 5, 16, 33, 48, 43, 32, 0, 10, 48, 48, 35, 48, 48, 38, 46, 32, 42, 30, 0, 24, 49, 2, 39, 48, 48, 1, 43, 10, 45, 48, 15, 35, 36, 15, 46, 1, 29, 18, 0, 48, 29, 0, 35, 4, 24, 21, 10, 48, 28, 48, 10, 42, 0, 0, 32, 48, 10, 33, 12, 10, 30, 32, 19, 36, 38, 1, 0, 33, 13, 37, 48, 47, 38, 10, 8, 38, 10, 33, 46, 44, 18, 41, 48, 27, 8, 10, 10, 48, 33, 10, 41, 46, 28, 6, 28, 46, 7, 44, 10, 8, 1, 28, 21, 48, 40, 0, 38, 43, 19, 32, 16, 35, 46, 38, 0, 1, 0, 23, 32, 48, 42, 7, 0, 35, 40, 48, 33, 10, 18, 0, 48, 48, 33, 14, 46, 10, 22, 29, 37, 10, 21, 46, 38, 21, 46, 8, 10, 19, 49, 10, 10, 46, 12, 46, 42, 48, 35, 33, 1, 0, 46, 46, 0, 17, 42, 6, 15, 0, 4, 10, 37, 16, 48, 2, 38, 48, 15, 12, 0, 48, 1, 10, 33, 5, 3, 42, 16, 32, 46, 9, 33, 4, 40, 48, 10, 48, 27, 4, 8, 45, 26, 10, 42, 40, 27, 28, 10, 12, 35, 23, 48, 27, 33, 15, 38, 35, 18, 10, 21, 33, 32, 38, 15, 33, 46, 38, 30, 37, 48, 48, 0, 16, 42, 38, 36, 41, 10, 5, 39, 10, 2, 42, 32, 6, 33, 21, 40, 39, 38, 32, 48, 43, 33, 4, 38, 15, 0, 19, 6, 15, 2, 34, 21, 10, 1, 4, 11, 27, 33, 48, 22, 15, 48, 4, 40, 1, 36, 32, 43, 38, 10, 40, 1, 33, 48, 27, 19, 27, 22, 13, 43, 1, 42, 32, 30, 18, 4, 48, 4, 10, 12, 1, 12, 48, 37, 48, 1, 15, 19, 38, 33, 10, 40, 46, 0, 18, 10, 4, 42, 1, 18, 37, 36, 11, 0, 48, 2, 46, 43, 48, 25, 20, 15, 10, 32, 46, 6, 5, 40, 39, 18, 27, 44, 42, 46, 9, 38, 6, 33, 44, 10, 42, 1, 35, 26, 42, 3, 48, 48, 2, 22, 37, 41, 36, 48, 33, 43, 4, 10, 9, 10, 33, 4, 15, 45, 21, 15, 38, 10, 10, 30, 41, 38, 40, 44, 38, 29, 24, 42, 19, 1, 9, 43, 15, 33, 41, 8, 40, 46, 16, 35, 1, 22, 0, 42, 30, 3, 26, 11, 36, 1, 44, 37, 16, 38, 48, 10, 38, 2, 4, 46, 3, 33, 35, 37, 41, 40, 48, 10, 24, 10, 15, 4, 48, 32, 0, 37, 47, 33, 32, 2, 48, 48, 18, 2, 4, 0, 27, 37, 0, 48, 21, 48, 32, 22, 38, 19, 16, 48, 36, 27, 32, 29, 21, 42, 0, 46, 33, 47, 40, 10, 36, 1, 37, 35, 4, 4, 35, 1, 35, 44, 1, 11, 41, 0, 2, 30, 35, 23, 44, 36, 48, 35, 1, 42, 22, 40, 35, 3, 19, 44, 48, 33, 37, 0, 0, 15, 15, 48, 18, 49, 1, 41, 21, 30, 33, 18, 42, 40, 44, 46, 43, 18, 40, 37, 35, 10, 2, 10, 33, 46, 47, 35, 38, 1, 13, 48, 27, 5, 34, 10, 33, 48, 35, 15, 48, 33, 43, 19, 43, 16, 42, 48, 18, 10, 1, 38, 10, 10, 10, 32, 38, 10, 33, 41, 30, 13, 2, 48, 20, 10, 37, 0, 36, 10, 30, 1, 11, 42, 36, 45, 35, 12, 0, 44, 48, 48, 0, 0, 37, 4, 9, 15, 47, 45, 32, 19, 15, 44, 38, 46, 40, 18, 38, 43, 49, 46, 10, 40, 36, 15, 38, 33, 19, 10, 19, 2, 36, 48, 16, 10, 38, 41, 38, 1, 48, 43, 4, 15, 38, 10, 48, 38, 46, 41, 6, 36, 27, 10, 30, 33, 2, 48, 35, 13, 24, 36, 20, 7, 26, 42, 10, 34, 1, 48, 35, 38, 10, 15, 35, 35, 48, 21, 39, 29, 33, 16, 40, 4, 6, 8, 38, 15, 46, 38, 38, 44, 48, 1, 46, 42, 22, 10, 18, 38, 21, 2, 8, 0, 30, 43, 47, 48, 49, 15, 15, 48, 48, 32, 17, 3, 44, 33, 48, 10, 1, 47, 16, 42, 48, 35, 15, 10, 32, 36, 45, 40, 9, 48, 30, 10, 10, 48, 24, 30, 10, 39, 10, 30, 15, 21, 42, 2, 0, 38, 1, 48, 21, 27, 39, 37, 35, 3, 16, 43, 33, 44, 5, 3, 48, 1, 48, 10, 39, 36, 48, 48, 37, 15, 43, 21, 45, 44, 42, 0, 10, 10, 30, 28, 16, 44, 18, 45, 43, 42, 1, 38, 48, 9, 33, 15, 33, 13, 12, 5, 15, 49, 12, 10, 18, 48, 48, 2, 36, 45, 15, 24, 0, 26, 46, 45, 44, 18, 38, 48, 8, 36, 40, 36, 40, 0, 29, 36, 33, 21, 21, 48, 12, 15, 1, 16, 32, 38, 42, 38, 48, 48, 48, 48, 9, 39, 2, 25, 48, 27, 48, 37, 49, 27, 35, 29, 16, 16, 48, 46, 48, 32, 19, 38, 46, 43, 48, 37, 10, 48, 1, 23, 38, 10, 32, 12, 48, 5, 42, 15, 35, 1, 46, 42, 2, 0, 29, 48, 9, 48, 43, 1, 9, 35, 8, 10, 35, 21, 48, 43, 18, 45, 4, 48, 21, 15, 48, 9, 29, 46, 32, 13, 1, 0, 10, 48, 34, 10, 7, 21, 33, 10, 26, 33, 9, 42, 33, 38, 38, 48, 3, 19, 37, 1, 49, 41, 33, 0, 30, 48, 15, 46, 33, 46, 48, 10, 40, 35, 2, 10, 10, 12, 46, 2, 45, 46, 37, 35, 48, 24, 10, 33, 45, 31, 39, 40, 42, 48, 15, 13, 10, 38, 48, 44, 10, 42, 36, 16, 20, 33, 48, 0, 22, 3, 0, 37, 10, 35, 33, 2, 19, 42, 10, 10, 16, 48, 33, 0, 35, 41, 28, 33, 4, 10, 48, 7, 42, 1, 41, 10, 38, 0, 49, 24, 1, 9, 9, 49, 15, 0, 35, 44, 48, 37, 12, 39, 19, 33, 13, 10, 16, 31, 2, 48, 0, 5, 16, 1, 7, 10, 16, 33, 2, 21, 15, 9, 43, 45, 0, 33, 4, 43, 27, 3, 19, 44, 43, 15, 40, 0, 45, 18, 38, 0, 44, 49, 28, 30, 35, 23, 10, 45, 37, 38, 1, 10, 10, 1, 33, 46, 0, 33, 0, 35, 15, 27, 38, 35, 46, 48, 0, 43, 1, 20, 48, 43, 43, 9, 15, 10, 48, 42, 10, 10, 41, 23, 10, 10, 46, 42, 48, 9, 36, 10, 40, 45, 10, 30, 37, 46, 30, 24, 30, 41, 44, 33, 10, 0, 29, 2, 49, 40, 43, 33, 45, 0, 4, 10, 15, 45, 9, 41, 38, 35, 46, 48, 46, 48, 10, 38, 38, 38, 32, 48, 32, 2, 1, 48, 24, 1, 48, 10, 10, 48, 37, 48, 48, 35, 1, 1, 46, 43, 9, 38, 10, 28, 46, 23, 13, 48, 39, 29, 49, 27, 46, 38, 35, 28, 10, 46, 30, 46, 9, 18, 15, 12, 0, 38, 48, 48, 48, 42, 12, 48, 38, 45, 15, 0, 19, 18, 33, 31, 12, 48, 15, 4, 43, 48, 15, 49, 17, 46, 33, 27, 42, 10, 30, 36, 32, 36, 9, 46, 10, 8, 15, 24, 10, 45, 15, 38, 4, 48, 48, 4, 22, 9, 30, 1, 11, 16, 10, 2, 1, 38, 29, 21, 42, 29, 2, 41, 10, 48, 10, 30, 38, 30, 38, 38, 29, 38, 18, 3, 10, 39, 33, 15, 48, 49, 1, 16, 44, 35, 18, 30, 4, 18, 23, 17, 37, 49, 19, 0, 13, 21, 15, 15, 0, 34, 36, 42, 19, 0, 36, 5, 48, 48, 21, 22, 48, 43, 17, 36, 40, 48, 35, 48, 10, 35, 30, 48, 48, 10, 45, 29, 18, 30, 1, 48, 35, 21, 33, 48, 10, 10, 33, 21, 35, 35, 33, 11, 15, 19, 1, 48, 11, 42, 15, 38, 44, 32, 0, 30, 43, 47, 49, 38, 39, 0, 10, 9, 4, 15, 15, 16, 1, 15, 43, 42, 1, 1, 7, 29, 36, 47, 24, 46, 22, 11, 33, 7, 1, 10, 19, 1, 35, 10, 1, 48, 46, 29, 41, 33, 10, 3, 28, 47, 7, 1, 42, 43, 40, 22, 42, 38, 30, 30, 17, 1, 26, 30, 35, 6, 48, 38, 48, 37, 40, 47, 30, 38, 13, 38, 33, 24, 43, 48, 43, 31, 32, 42, 18, 9, 46, 33, 23, 38, 48, 36, 40, 8, 1, 2, 19, 3, 40, 35, 43, 38, 47, 48, 43, 32, 46, 48, 38, 48, 21, 29, 18, 43, 2, 1, 22, 44, 1, 27, 17, 41, 49, 33, 37, 2, 26, 32, 32, 15, 10, 32, 11, 48, 38, 35, 15, 42, 16, 29, 10, 19, 48, 46, 43, 35, 48, 36, 11, 2, 0, 2, 4, 38, 46, 19, 0, 15, 13, 15, 15, 44, 40, 18, 45, 48, 10, 26, 46, 24, 46, 10, 43, 10, 46, 38, 35, 48, 34, 2, 38, 2, 33, 38, 38, 15, 43, 2, 43, 1, 10, 30, 48, 8, 0, 48, 16, 36, 44, 45, 9, 41, 4, 42, 0, 7, 31, 48, 42, 15, 38, 35, 48, 33, 42, 48, 28, 42, 48, 4, 48, 19, 48, 4, 40, 28, 26, 4, 4, 15, 16, 10, 24, 24, 38, 48, 43, 10, 48, 4, 21, 2, 9, 21, 21, 48, 43, 37, 30, 2, 4, 45, 45, 48, 18, 46, 38, 19, 21, 12, 1, 1, 27, 32, 10, 48, 48, 9, 10, 37, 26, 29, 22, 2, 42, 10, 11, 15, 43, 10, 48, 10, 33, 45, 46, 0, 29, 40, 32, 27, 48, 0, 48, 47, 15, 2, 21, 48, 3, 10, 10, 29, 15, 1, 38, 30, 46, 15, 10, 9, 48, 46, 21, 46, 48, 10, 1, 0, 18, 43, 40, 29, 33, 48, 48, 33, 37, 2, 10, 9, 23, 35, 45, 40, 32, 41, 15, 48, 10, 10, 10, 0, 10, 48, 30, 10, 18, 1, 46, 10, 35, 33, 35, 46, 15, 10, 16, 5, 7, 10, 45, 1, 29, 43, 48, 0, 38, 33, 48, 7, 18, 48, 28, 46, 43, 40, 1, 45, 40, 33, 18, 27, 27, 45, 10, 4, 4, 35, 10, 44, 36, 43, 35, 15, 32, 3, 13, 38, 10, 35, 22, 37, 48, 35, 42, 29, 35, 9, 10, 11, 10, 7, 35, 4, 29, 9, 31, 38, 18, 43, 45, 12, 32, 1, 46, 38, 44, 1, 4, 30, 15, 27, 0, 26, 16, 1, 30, 42, 37, 48, 33, 10, 1, 2, 48, 29, 48, 28, 0, 42, 46, 40, 46, 29, 45, 37, 6, 10, 48, 36, 43, 10, 32, 35, 42, 17, 32, 48, 47, 46, 39, 49, 48, 46, 44, 5, 48, 2, 10, 25, 45, 21, 32, 24, 41, 46, 10, 32, 10, 41, 28, 16, 15, 15, 7, 6, 1, 6, 31, 41, 48, 21, 1, 36, 13, 38, 15, 29, 10, 32, 47, 10, 15, 48, 35, 0, 48, 48, 1, 42, 3, 30, 17, 37, 1, 0, 13, 28, 33, 7, 1, 33, 0, 48, 48, 28, 30, 42, 42, 49, 47, 48, 36, 37, 46, 10, 0, 48, 6, 33, 40, 43, 10, 44, 24, 36, 38, 29, 30, 45, 49, 46, 12, 10, 33, 35, 10, 0, 48, 11, 43, 35, 44, 26, 0, 47, 48, 38, 37, 33, 43, 1, 38, 13, 10, 17, 10, 33, 5, 10, 44, 48, 11, 0, 2, 1, 48, 48, 38, 6, 19, 9, 10, 1, 10, 15, 30, 49, 33, 13, 33, 43, 38, 20, 44, 48, 1, 42, 30, 28, 2, 46, 35, 19, 48, 30, 0, 30, 11, 48, 35, 5, 18, 44, 42, 38, 1, 48, 10, 48, 25, 43, 33, 3, 18, 12, 0, 33, 44, 33, 46, 33, 10, 24, 7, 48, 49, 45, 48, 33, 10, 32, 48, 48, 41, 49, 7, 6, 4, 38, 10, 2, 2, 23, 48, 1, 48, 33, 38, 6, 10, 48, 10, 36, 19, 0, 35, 2, 48, 48, 48, 16, 32, 4, 1, 37, 36, 48, 0, 41, 0, 5, 42, 10, 38, 35, 48, 49, 13, 47, 15, 48, 48, 2, 48, 30, 0, 12, 36, 22, 48, 47, 18, 9, 35, 38, 1, 1, 9, 48, 17, 48, 1, 45, 24, 16, 10, 38, 48, 48, 33, 4, 35, 47, 35, 35, 10, 18, 33, 33, 48, 33, 15, 11, 10, 15, 1, 38, 42, 2, 4, 48, 42, 10, 38, 21, 4, 13, 16, 0, 16, 42, 1, 38, 9, 15, 49, 33, 2, 41, 46, 1, 33, 1, 35, 33, 33, 46, 38, 21, 35, 43, 48, 35, 3, 2, 18, 15, 24, 1, 7, 10, 46, 0, 16, 35, 3, 48, 31, 1, 35, 18, 15, 4, 34, 19, 9, 10, 38, 21, 13, 15, 49, 26, 37, 27, 48, 29, 47, 10, 36, 35, 36, 10, 10, 32, 7, 11, 11, 35, 8, 38, 33, 40, 47, 48, 15, 26, 0, 48, 20, 47, 10, 3, 0, 21, 33, 30, 33, 10, 15, 21, 48, 1, 35, 0, 42, 15, 43, 36, 43, 4, 7, 18, 18, 33, 40, 35, 19, 19, 48, 45, 13, 30, 39, 19, 1, 45, 45, 10, 33, 41, 28, 38, 38, 24, 15, 40, 15, 47, 17, 22, 48, 23, 33, 37, 42, 0, 8, 42, 35, 48, 10, 15, 42, 49, 38, 46, 48, 0, 45, 16, 48, 5, 9, 33, 45, 15, 18, 15, 10, 46, 39, 15, 1, 48, 17, 37, 10, 48, 18, 15, 43, 38, 33, 0, 12, 1, 30, 32, 43, 10, 10, 44, 16, 45, 34, 30, 38, 10, 36, 13, 0, 43, 43, 42, 0, 32, 2, 41, 1, 18, 21, 0, 47, 40, 17, 35, 24, 48, 48, 48, 46, 48, 48, 32, 0, 0, 2, 31, 36, 35, 10, 9, 1, 1, 48, 2, 18, 10, 46, 30, 42, 21, 49, 1, 35, 13, 40, 6, 46, 19, 27, 38, 0, 45, 37, 48, 46, 16, 46, 12, 36, 47, 49, 21, 32, 21, 32, 42, 33, 42, 18, 47, 44, 48, 43, 29, 11, 49, 1, 39, 48, 9, 38, 38, 18, 17, 43, 37, 11, 17, 31, 35, 1, 13, 34, 15, 1, 48, 4, 2, 1, 32, 16, 4, 19, 22, 7, 10, 43, 0, 48, 1, 15, 19, 33, 19, 35, 38, 11, 16, 40, 12, 41, 36, 37, 29, 46, 48, 6, 28, 42, 38, 48, 35, 10, 33, 18, 38, 30, 16, 13, 38, 42, 35, 34, 48, 47, 10, 42, 46, 30, 28, 48, 31, 48, 0, 10, 21, 0, 10, 48, 48, 44, 1, 17, 30, 48, 15, 26, 10, 1, 44, 15, 48, 18, 42, 40, 15, 0, 48, 42, 1, 13, 10, 40, 38, 10, 38, 36, 2, 48, 10, 48, 45, 43, 18, 10, 3, 24, 42, 6, 1, 47, 10, 19, 49, 46, 32, 48, 9, 27, 29, 43, 46, 28, 37, 43, 5, 43, 29, 2, 0, 49, 48, 37, 33, 30, 3, 2, 41, 48, 36, 48, 48, 37, 37, 48, 38, 0, 32, 17, 16, 21, 27, 32, 2, 1, 48, 10, 6, 42, 11, 32, 33, 35, 48, 1, 30, 48, 32, 48, 9, 42, 35, 10, 38, 45, 10, 1, 49, 0, 46, 46, 3, 49, 4, 38, 32, 26, 15, 8, 36, 1, 19, 9, 40, 38, 44, 10, 3, 31, 10, 38, 33, 30, 43, 10, 48, 12, 19, 1, 12, 35, 8, 6, 16, 10, 18, 13, 46, 29, 42, 19, 39, 48, 27, 16, 9, 48, 48, 33, 6, 0, 16, 48, 48, 9, 2, 48, 10, 10, 18, 27, 48, 48, 10, 42, 21, 45, 2, 10, 36, 10, 8, 44, 35, 42, 33, 48, 4, 46, 42, 48, 21, 1, 6, 33, 10, 10, 11, 46, 21, 11, 10, 27, 36, 10, 39, 19, 42, 33, 33, 48, 1, 48, 13, 10, 48, 18, 41, 0, 46, 10, 10, 22, 2, 4, 9, 28, 42, 15, 10, 3, 48, 8, 21, 2, 7, 48, 0, 2, 36, 31, 38, 13, 15, 4, 48, 37, 1, 48, 49, 8, 10, 42, 15, 48, 32, 6, 46, 15, 8, 49, 18, 26, 15, 1, 48, 48, 37, 0, 10, 27, 15, 2, 35, 31, 40, 0, 15, 32, 1, 42, 35, 2, 48, 28, 1, 22, 48, 36, 29, 24, 43, 33, 42, 15, 33, 9, 21, 10, 10, 43, 36, 42, 43, 7, 1, 2, 36, 49, 33, 38, 13, 0, 42, 10, 43, 15, 10, 10, 15, 46, 10, 1, 38, 10, 48, 38, 4, 48, 10, 8, 40, 10, 48, 33, 10, 1, 4, 29, 21, 1, 30, 42, 17, 18, 43, 48, 37, 48, 7, 35, 37, 35, 46, 46, 38, 48, 45, 41, 37, 48, 0, 18, 23, 19, 21, 19, 48, 48, 19, 37, 7, 18, 40, 10, 21, 46, 39, 19, 22, 46, 22, 38, 21, 28, 41, 38, 1, 15, 48, 33, 48, 30, 1, 43, 33, 30, 48, 36, 16, 3, 10, 16, 15, 10, 42, 37, 40, 44, 10, 2, 10, 10, 11, 10, 10, 37, 26, 30, 29, 36, 19, 24, 42, 4, 43, 21, 43, 18, 3, 24, 38, 12, 30, 24, 38, 10, 48, 10, 48, 0, 48, 30, 33, 49, 10, 35, 10, 31, 30, 9, 48, 9, 45, 35, 21, 41, 8, 29, 48, 28, 48, 29, 39, 48, 15, 0, 21, 48, 27, 19, 41, 30, 0, 12, 38, 36, 29, 10, 15, 10, 45, 10, 33, 2, 30, 42, 16, 21, 0, 48, 10, 2, 4, 30, 18, 48, 1, 1, 22, 21, 47, 15, 24, 21, 22, 32, 48, 10, 0, 2, 21, 32, 3, 22, 7, 48, 40, 42, 42, 33, 47, 10, 45, 29, 9, 15, 10, 0, 43, 10, 5, 10, 33, 49, 34, 16, 34, 40, 47, 8, 18, 31, 19, 44, 41, 42, 37, 33, 29, 8, 37, 10, 19, 33, 46, 32, 33, 37, 39, 9, 5, 6, 46, 48, 9, 15, 19, 38, 32, 42, 10, 48, 36, 10, 33, 42, 13, 13, 15, 48, 46, 37, 0, 16, 48, 11, 15, 35, 24, 1, 44, 38, 33, 21, 46, 42, 42, 2, 24, 6, 19, 6, 48, 26, 15, 48, 48, 48, 37, 15, 21, 5, 42, 1, 22, 33, 0, 35, 0, 45, 36, 4, 10, 18, 32, 40, 16, 46, 17, 2, 1, 15, 46, 21, 37, 41, 46, 0, 10, 49, 32, 15, 4, 41, 27, 38, 10, 15, 38, 2, 21, 38, 10, 8, 0, 33, 29, 38, 4, 30, 48, 0, 1, 10, 35, 48, 48, 9, 6, 4, 10, 48, 45, 10, 2, 10, 8, 48, 38, 10, 49, 46, 44, 37, 13, 48, 4, 35, 46, 30, 33, 44, 15, 23, 0, 42, 48, 37, 21, 10, 36, 10, 0, 38, 29, 48, 3, 29, 15, 3, 31, 24, 44, 26, 13, 36, 35, 10, 8, 10, 0, 15, 18, 15, 15, 38, 30, 18, 19, 40, 38, 10, 38, 36, 20, 13, 1, 41, 0, 32, 36, 5, 45, 15, 16, 10, 23, 48, 7, 38, 21, 46, 4, 38, 26, 0, 30, 0, 4, 47, 1, 10, 15, 21, 38, 46, 17, 0, 34, 47, 1, 1, 9, 10, 10, 7, 10, 1, 35, 42, 28, 23, 30, 10, 38, 35, 46, 21, 48, 48, 1, 33, 44, 42, 48, 37, 37, 29, 19, 49, 17, 46, 10, 35, 38, 35, 19, 46, 10, 41, 10, 0, 16, 38, 9, 41, 43, 24, 1, 46, 48, 42, 7, 48, 38, 4, 37, 19, 6, 48, 1, 10, 0, 48, 0, 46, 9, 27, 41, 10, 12, 37, 49, 42, 21, 35, 17, 30, 30, 10, 42, 35, 1, 29, 38, 18, 33, 35, 22, 36, 48, 48, 49, 30, 43, 48, 4, 3, 33, 21, 48, 8, 48, 33, 42, 42, 48, 0, 15, 27, 8, 3, 48, 43, 15, 10, 15, 4, 30, 3, 21, 32, 47, 0, 1, 2, 0, 19, 33, 45, 28, 48, 10, 35, 46, 16, 17, 33, 48, 40, 1, 12, 0, 29, 10, 48, 38, 10, 42, 32, 3, 2, 46, 36, 14, 13, 35, 10, 38, 10, 40, 32, 18, 48, 48, 36, 29, 44, 33, 0, 36, 14, 48, 38, 0, 48, 48, 40, 44, 2, 15, 1, 6, 43, 46, 1, 35, 27, 18, 42, 46, 48, 6, 48, 33, 1, 44, 0, 10, 48, 46, 30, 36, 38, 49, 0, 10, 13, 1, 48, 21, 10, 1, 40, 44, 20, 38, 38, 45, 19, 19, 2, 41, 17, 46, 40, 21, 24, 37, 31, 18, 5, 11, 22, 4, 0, 46, 17, 23, 27, 48, 17, 1, 11, 10, 0, 48, 28, 32, 35, 15, 28, 10, 48, 21, 8, 10, 29, 6, 33, 2, 10, 4, 33, 48, 33, 48, 49, 7, 46, 38, 33, 18, 10, 38, 9, 38, 33, 9, 35, 15, 46, 38, 15, 24, 10, 37, 44, 21, 0, 24, 10, 38, 37, 33, 40, 48, 48, 21, 31, 37, 43, 33, 46, 13, 42, 32, 46, 48, 48, 19, 48, 45, 0, 31, 1, 49, 3, 0, 49, 46, 1, 10, 38, 21, 48, 26, 15, 41, 9, 10, 1, 37, 16, 46, 1, 48, 48, 29, 39, 2, 46, 28, 33, 1, 29, 1, 21, 36, 2, 48, 2, 1, 40, 32, 10, 20, 26, 43, 42, 11, 17, 44, 43, 10, 33, 41, 33, 7, 48, 13, 35, 10, 16, 46, 18, 2, 46, 8, 0, 10, 1, 43, 30, 10, 38, 6, 33, 36, 15, 15, 6, 19, 33, 42, 45, 48, 10, 9, 35, 10, 26, 48, 48, 43, 48, 45, 33, 11, 30, 48, 33, 48, 36, 1, 11, 49, 39, 46, 42, 48, 43, 0, 33, 22, 48, 18, 1, 10, 6, 42, 33, 3, 10, 19, 35, 48, 9, 21, 40, 48, 33, 18, 0, 48, 10, 15, 11, 32, 16, 10, 7, 46, 48, 0, 43, 32, 10, 10, 48, 10, 33, 16, 26, 21, 7, 32, 48, 37, 0, 10, 48, 11, 30, 0, 43, 2, 48, 42, 30, 10, 33, 33, 32, 42, 48, 36, 19, 17, 15, 48, 27, 2, 15, 10, 19, 41, 35, 10, 40, 38, 10, 39, 39, 48, 38, 48, 32, 2, 39, 21, 2, 10, 15, 32, 48, 10, 1, 46, 1, 42, 32, 48, 10, 29, 27, 40, 2, 38, 16, 48, 20, 33, 8, 37, 44, 40, 16, 0, 33, 22, 48, 38, 0, 11, 5, 32, 24, 42, 48, 10, 9, 10, 5, 10, 48, 18, 30, 2, 16, 43, 0, 1, 16, 10, 45, 18, 48, 48, 2, 0, 33, 30, 48, 1, 0, 32, 33, 48, 10, 19, 33, 12, 6, 35, 16, 49, 10, 41, 0, 27, 30, 21, 15, 38, 2, 0, 48, 38, 11, 36, 0, 45, 24, 45, 49, 1, 18, 10, 36, 37, 30, 1, 48, 10, 23, 10, 1, 49, 40, 33, 48, 15, 43, 0, 33, 48, 29, 10, 0, 31, 10, 27, 48, 44, 18, 10, 48, 2, 10, 15, 48, 22, 10, 46, 43, 32, 19, 10, 4, 10, 0, 48, 13, 30, 2, 19, 30, 10, 33, 18, 10, 15, 48, 42, 36, 47, 45, 33, 41, 11, 48, 35, 15, 49, 19, 11, 48, 46, 10, 15, 48, 30, 21, 38, 27, 16, 4, 33, 5, 13, 40, 38, 0, 10, 45, 1, 1, 27, 18, 10, 38, 10, 1, 8, 10, 32, 8, 0, 15, 7, 0, 27, 10, 46, 4, 38, 12, 48, 38, 10, 48, 48, 36, 36, 4, 39, 48, 10, 33, 10, 48, 23, 1, 2, 2, 10, 40, 18, 0, 10, 0, 9, 3, 46, 4, 18, 10, 33, 2, 34, 35, 21, 48, 10, 33, 48, 0, 10, 0, 7, 0, 38, 30, 1, 10, 40, 46, 44, 43, 48, 3, 38, 23, 15, 29, 40, 48, 44, 47, 41, 46, 0, 39, 0, 21, 39, 46, 12, 7, 38, 48, 22, 33, 0, 30, 29, 41, 48, 41, 15, 45, 37, 18, 5, 18, 21, 10, 17, 17, 48, 48, 1, 46, 4, 38, 29, 48, 42, 30, 27, 36, 40, 1, 15, 10, 49, 19, 42, 20, 35, 33, 33, 2, 29, 16, 13, 48, 10, 48, 46, 18, 37, 0, 31, 43, 9, 15, 18, 27, 15, 20, 10, 44, 26, 48, 42, 48, 31, 28, 2, 40, 21, 10, 35, 46, 48, 38, 1, 43, 42, 35, 36, 37, 8, 10, 42, 48, 8, 12, 44, 42, 21, 43, 2, 48, 19, 46, 0, 37, 21, 27, 33, 48, 47, 21, 36, 41, 48, 33, 48, 32, 48, 33, 48, 35, 7, 10, 18, 49, 11, 44, 33, 47, 33, 10, 48, 42, 19, 30, 49, 24, 25, 42, 13, 5, 30, 7, 15, 48, 23, 29, 48, 9, 26, 28, 10, 40, 2, 35, 43, 0, 35, 24, 29, 27, 18, 24, 21, 43, 18, 41, 10, 10, 45, 43, 48, 33, 33, 48, 21, 16, 18, 12, 24, 45, 33, 48, 10, 42, 42, 48, 2, 35, 48, 2, 17, 10, 28, 32, 33, 30, 24, 45, 35, 2, 48, 37, 46, 18, 2, 22, 18, 37, 29, 46, 15, 1, 15, 44, 27, 36, 10, 30, 38, 4, 10, 10, 48, 0, 29, 40, 48, 25, 48, 29, 2, 4, 48, 38, 11, 38, 44, 15, 30, 39, 37, 44, 48, 0, 29, 21, 9, 23, 46, 48, 48, 18, 14, 48, 46, 32, 46, 16, 46, 48, 33, 30, 0, 33, 5, 48, 46, 48, 19, 14, 15, 33, 36, 42, 3, 38, 35, 10, 30, 43, 1, 48, 16, 9, 9, 15, 33, 5, 48, 19, 28, 24, 35, 33, 10, 18, 29, 38, 27, 16, 0, 10, 47, 33, 19, 40, 41, 48, 19, 39, 10, 45, 18, 24, 39, 15, 47, 16, 9, 36, 33, 30, 35, 48, 0, 37, 41, 40, 19, 33, 0, 46, 10, 43, 42, 48, 4, 32, 33, 32, 36, 2, 46, 12, 0, 48, 33, 41, 15, 48, 28, 30, 17, 11, 1, 10, 9, 10, 11, 2, 43, 33, 43, 22, 4, 7, 10, 34, 10, 35, 43, 48, 49, 21, 49, 43, 4, 33, 48, 48, 42, 1, 48, 49, 36, 1, 7, 10, 15, 13, 16, 7, 18, 4, 5, 9, 24, 15, 0, 10, 1, 15, 44, 18, 10, 10, 21, 48, 38, 4, 35, 10, 21, 32, 40, 35, 10, 31, 0, 13, 33, 29, 48, 23, 15, 17, 40, 21, 48, 21, 33, 35, 38, 20, 37, 22, 38, 35, 18, 2, 15, 10, 32, 18, 32, 16, 9, 45, 48, 46, 48, 41, 38, 0, 35, 22, 46, 48, 32, 10, 33, 16, 24, 45, 48, 48, 18, 33, 0, 27, 40, 0, 35, 2, 0, 28, 30, 19, 36, 10, 1, 38, 10, 46, 15, 0, 1, 36, 46, 22, 1, 48, 45, 43, 7, 18, 4, 3, 2, 1, 30, 33, 32, 49, 10, 42, 0, 41, 30, 38, 35, 16, 30, 9, 7, 47, 2, 35, 10, 20, 33, 0, 48, 44, 38, 0, 30, 11, 31, 18, 48, 37, 28, 18, 10, 38, 33, 48, 33, 15, 43, 48, 47, 42, 42, 37, 9, 44, 10, 15, 3, 48, 48, 2, 39, 15, 7, 46, 26, 17, 9, 0, 0, 46, 48, 33, 23, 15, 46, 19, 38, 10, 48, 1, 45, 16, 0, 33, 10, 22, 10, 18, 3, 10, 33, 9, 4, 24, 39, 44, 46, 45, 10, 34, 43, 10, 33, 6, 1, 33, 38, 28, 48, 46, 10, 42, 33, 18, 1, 2, 36, 21, 46, 45, 15, 48, 33, 0, 33, 40, 43, 49, 7, 10, 27, 47, 0, 32, 4, 30, 38, 18, 32, 21, 46, 40, 28, 48, 17, 2, 32, 5, 3, 19, 0, 1, 35, 11, 48, 15, 43, 2, 6, 29, 18, 47, 33, 3, 0, 18, 33, 30, 10, 4, 38, 35, 30, 43, 7, 33, 46, 11, 45, 42, 31, 46, 33, 12, 33, 48, 10, 33, 16, 26, 41, 46, 33, 32, 12, 33, 38, 4, 38, 33, 15, 48, 28, 42, 43, 21, 10, 15, 4, 32, 18, 35, 35, 0, 48, 43, 48, 1, 21, 48, 35, 30, 35, 37, 43, 10, 34, 32, 21, 2, 36, 38, 16, 0, 18, 10, 48, 21, 22, 42, 35, 32, 38, 3, 42, 45, 19, 48, 48, 26, 5, 10, 33, 49, 38, 17, 48, 33, 10, 42, 35, 7, 29, 38, 33, 2, 48, 46, 2, 2, 38, 10, 0, 36, 30, 48, 12, 0, 38, 10, 47, 48, 2, 10, 15, 48, 0, 9, 38, 19, 10, 35, 19, 28, 33, 10, 2, 42, 10, 3, 16, 10, 21, 30, 15, 36, 0, 15, 2, 0, 22, 48, 48, 22, 46, 38, 44, 45, 21, 41, 34, 48, 7, 37, 23, 10, 37, 10, 48, 18, 18, 18, 13, 2, 48, 48, 35, 5, 49, 36, 10, 1, 10, 31, 0, 38, 38, 12, 48, 33, 48, 1, 5, 38, 7, 5, 10, 6, 7, 42, 1, 37, 39, 10, 43, 21, 16, 4, 8, 35, 46, 10, 21, 11, 48, 12, 15, 10, 9, 45, 1, 37, 48, 2, 45, 0, 2, 27, 38, 33, 0, 3, 48, 5, 8, 35, 45, 35, 30, 45, 1, 21, 37, 31, 48, 36, 16, 0, 30, 5, 18, 42, 19, 37, 48, 48, 15, 10, 14, 35, 3, 40, 48, 27, 37, 2, 1, 45, 48, 43, 28, 33, 2, 18, 27, 22, 33, 48, 48, 15, 38, 26, 48, 48, 48, 48, 40, 38, 2, 10, 38, 10, 7, 48, 45, 48, 19, 8, 15, 38, 10, 33, 6, 10, 10, 26, 48, 2, 41, 1, 43, 33, 10, 10, 12, 0, 16, 15, 10, 1, 10, 48, 27, 33, 48, 11, 30, 35, 46, 18, 10, 36, 38, 16, 21, 43, 8, 49, 48, 10, 1, 1, 35, 48, 7, 4, 48, 44, 40, 30, 5, 15, 30, 33, 10, 3, 48, 35, 48, 0, 48, 48, 13, 46, 46, 46, 15, 48, 49, 46, 17, 30, 27, 37, 44, 1, 39, 10, 48, 23, 41, 45, 48, 18, 2, 10, 35, 35, 10, 0, 39, 49, 38, 2, 32, 30, 46, 48, 33, 37, 32, 22, 38, 32, 5, 10, 28, 16, 0, 10, 10, 18, 32, 2, 30, 42, 0, 12, 8, 33, 15, 38, 13, 10, 47, 48, 48, 9, 33, 38, 45, 24, 10, 48, 46, 12, 31, 0, 0, 10, 43, 11, 24, 30, 36, 2, 8, 18, 48, 27, 26, 21, 7, 48, 8, 11, 48, 1, 33, 35, 35, 48, 10, 33, 33, 18, 4, 36, 48, 34, 10, 10, 38, 13, 4, 4, 2, 4, 1, 10, 27, 48, 38, 48, 1, 38, 44, 27, 43, 33, 35, 1, 48, 48, 38, 0, 0, 44, 4, 41, 43, 30, 20, 15, 3, 45, 7, 0, 30, 15, 10, 35, 48, 37, 2, 16, 45, 18, 48, 4, 1, 42, 10, 48, 36, 48, 4, 1, 33, 8, 1, 44, 34, 33, 38, 30, 48, 29, 37, 21, 33, 46, 33, 48, 43, 1, 38, 12, 48, 48, 44, 38, 48, 36, 35, 37, 10, 0, 45, 1, 10, 48, 44, 38, 48, 15, 24, 45, 10, 35, 35, 10, 36, 30, 3, 28, 10, 9, 48, 39, 19, 3, 36, 15, 7, 46, 18, 43, 48, 6, 38, 15, 7, 45, 4, 23, 30, 22, 48, 5, 8, 20, 21, 18, 48, 22, 48, 33, 48, 33, 21, 1, 41, 33, 0, 19, 24, 38, 21, 38, 47, 1, 44, 32, 48, 35, 10, 8, 0, 48, 47, 4, 44, 10, 43, 10, 42, 10, 8, 0, 42, 10, 18, 48, 15, 6, 38, 19, 0, 33, 38, 41, 49, 43, 40, 1, 38, 35, 42, 33, 15, 45, 30, 48, 46, 15, 0, 30, 33, 35, 37, 48, 37, 10, 48, 43, 30, 10, 48, 46, 10, 2, 40, 41, 0, 33, 44, 0, 33, 44, 30, 42, 23, 43, 34, 10, 30, 43, 2, 23, 16, 48, 9, 48, 24, 48, 33, 42, 43, 10, 10, 46, 3, 19, 15, 2, 7, 45, 16, 18, 40, 35, 29, 36, 42, 38, 0, 19, 37, 48, 1, 10, 23, 0, 16, 2, 1, 0, 23, 37, 48, 48, 42, 46, 27, 29, 38, 48, 0, 33, 13, 9, 35, 16, 19, 40, 35, 45, 40, 15, 10, 0, 22, 44, 33, 37, 48, 39, 46, 48, 48, 16, 41, 7, 4, 18, 2, 30, 5, 30, 17, 48, 3, 38, 13, 48, 0, 2, 23, 48, 48, 7, 46, 41, 33, 46, 20, 21, 1, 40, 18, 48, 6, 42, 48, 46, 10, 9, 48, 30, 19, 46, 48, 35, 41, 38, 48, 23, 1, 21, 33, 48, 48, 36, 48, 24, 10, 16, 0, 47, 9, 13, 30, 16, 10, 45, 1, 35, 39, 10, 33, 33, 10, 13, 10, 19, 29, 35, 42, 0, 35, 46, 30, 48, 0, 41, 4, 35, 30, 30, 10, 10, 33, 11, 44, 48, 18, 43, 43, 0, 33, 35, 44, 43, 43, 29, 48, 24, 48, 21, 32, 43, 30, 39, 42, 11, 48, 33, 1, 48, 46, 10, 48, 43, 21, 36, 0, 46, 15, 32, 49, 21, 27, 36, 40, 10, 17, 30, 38, 32, 48, 21, 18, 29, 19, 15, 10, 10, 16, 5, 4, 19, 28, 38, 32, 10, 48, 41, 33, 28, 0, 42, 8, 46, 12, 35, 48, 31, 48, 11, 49, 48, 38, 48, 48, 1, 48, 28, 42, 10, 9, 49, 21, 6, 0, 48, 18, 24, 35, 32, 0, 16, 48, 16, 15, 36, 15, 21, 4, 38, 0, 18, 10, 30, 48, 3, 10, 13, 1, 46, 22, 4, 11, 40, 30, 43, 48, 42, 10, 1, 2, 2, 38, 38, 30, 10, 8, 10, 10, 10, 10, 10, 1, 10, 43, 38, 15, 38, 37, 30, 35, 10, 42, 46, 32, 1, 1, 37, 35, 10, 29, 10, 43, 35, 45, 1, 48, 45, 28, 43, 48, 0, 19, 48, 48, 35, 10, 48, 42, 18, 40, 9, 8, 21, 39, 48, 46, 15, 35, 10, 10, 1, 36, 29, 11, 18, 45, 1, 33, 9, 49, 35, 1, 48, 40, 35, 40, 30, 10, 5, 18, 33, 2, 41, 17, 38, 18, 38, 32, 47, 2, 38, 42, 42, 15, 15, 48, 38, 29, 15, 48, 19, 0, 6, 46, 9, 42, 48, 10, 33, 44, 4, 16, 48, 43, 48, 0, 48, 42, 1, 15, 35, 45, 19, 43, 32, 30, 1, 48, 13, 2, 43, 48, 32, 21, 1, 48, 40, 40, 38, 24, 48, 0, 45, 19, 33, 16, 4, 7, 8, 10, 35, 30, 38, 27, 33, 0, 10, 2, 3, 37, 41, 24, 17, 10, 28, 38, 29, 32, 33, 2, 15, 5, 45, 13, 47, 4, 49, 38, 48, 15, 6, 44, 48, 10, 34, 33, 42, 13, 38, 4, 48, 19, 10, 13, 8, 9, 48, 48, 33, 43, 48, 18, 19, 49, 10, 22, 10, 15, 27, 10, 19, 21, 0, 41, 28, 10, 37, 46, 48, 10, 0, 1, 46, 38, 39, 24, 48, 36, 15, 48, 44, 43, 48, 21, 46, 42, 35, 14, 35, 8, 10, 21, 33, 46, 0, 15, 44, 38, 35, 27, 33, 30, 48, 30, 8, 0, 21, 30, 48, 4, 15, 10, 44, 22, 18, 29, 42, 46, 33, 43, 48, 40, 10, 0, 29, 28, 45, 33, 2, 35, 42, 32, 10, 10, 48, 12, 34, 30, 4, 16, 43, 18, 47, 35, 2, 14, 2, 46, 42, 45, 32, 2, 18, 37, 35, 42, 0, 10, 30, 47, 1, 35, 10, 10, 10, 33, 1, 35, 38, 44, 35, 38, 33, 23, 44, 36, 46, 6, 49, 0, 30, 48, 18, 35, 33, 31, 12, 2, 19, 14, 48, 48, 10, 35, 44, 38, 34, 15, 46, 7, 27, 15, 48, 35, 4, 48, 21, 43, 21, 45, 48, 46, 10, 48, 38, 33, 0, 10, 5, 38, 33, 38, 48, 4, 10, 15, 2, 8, 48, 3, 45, 48, 10, 8, 21, 19, 46, 42, 46, 0, 35, 21, 35, 48, 18, 0, 10, 46, 48, 15, 10, 12, 0, 33, 10, 15, 27, 16, 42, 48, 48, 48, 43, 9, 2, 24, 48, 1, 31, 42, 48, 15, 10, 44, 10, 15, 37, 28, 43, 19, 31, 3, 48, 10, 15, 31, 15, 30, 10, 44, 35, 46, 48, 35, 42, 6, 48, 15, 30, 42, 48, 46, 48, 8, 43, 2, 0, 17, 33, 1, 16, 5, 35, 45, 15, 38, 28, 28, 48, 19, 35, 38, 16, 45, 31, 4, 46, 34, 42, 47, 48, 15, 38, 28, 1, 33, 19, 42, 37, 43, 43, 29, 40, 0, 38, 18, 1, 3, 38, 10, 32, 10, 10, 45, 15, 10, 30, 38, 37, 48, 10, 8, 0, 21, 35, 6, 19, 43, 36, 30, 10, 48, 16, 16, 33, 40, 43, 2, 35, 30, 35, 13, 4, 32, 10, 21, 1, 44, 37, 46, 15, 0, 18, 0, 30, 37, 10, 15, 48, 10, 45, 18, 32, 36, 46, 6, 15, 9, 15, 0, 18, 2, 2, 10, 38, 41, 29, 42, 38, 2, 3, 46, 1, 21, 33, 33, 9, 12, 33, 21, 13, 32, 36, 16, 36, 24, 12, 24, 11, 5, 10, 48, 15, 1, 1, 48, 46, 27, 43, 48, 49, 3, 5, 10, 33, 8, 48, 18, 24, 8, 48, 10, 3, 40, 1, 10, 45, 4, 48, 36, 19, 18, 46, 35, 48, 46, 48, 48, 48, 15, 33, 1, 33, 42, 33, 43, 2, 48, 10, 30, 15, 33, 41, 40, 48, 33, 37, 40, 40, 20, 35, 16, 31, 41, 29, 22, 40, 28, 30, 16, 44, 29, 40, 0, 48, 46, 48, 48, 48, 31, 38, 42, 46, 33, 2, 28, 33, 21, 0, 49, 48, 48, 48, 43, 15, 33, 28, 36, 32, 11, 2, 15, 35, 8, 1, 30, 30, 1, 39, 20, 10, 48, 18, 9, 21, 32, 33, 21, 29, 48, 35, 17, 7, 24, 43, 45, 49, 10, 31, 44, 47, 2, 42, 16, 42, 48, 18, 48, 33, 35, 33, 34, 7, 28, 13, 33, 44, 17, 21, 48, 7, 48, 38, 13, 1, 43, 1, 20, 39, 19, 0, 4, 38, 29, 48, 10, 29, 42, 35, 13, 1, 21, 1, 14, 22, 26, 36, 47, 33, 35, 38, 40, 45, 45, 3, 1, 41, 21, 33, 36, 0, 21, 35, 21, 16, 46, 21, 0, 1, 10, 48, 29, 5, 38, 12, 21, 42, 38, 14, 48, 42, 32, 33, 48, 47, 9, 0, 46, 35, 43, 48, 4, 10, 44, 33, 48, 47, 40, 42, 36, 0, 38, 33, 36, 42, 7, 4, 35, 49, 32, 21, 10, 35, 33, 0, 45, 37, 44, 25, 45, 28, 37, 18, 48, 48, 10, 48, 18, 44, 10, 48, 48, 42, 45, 3, 2, 48, 7, 48, 32, 10, 19, 10, 48, 35, 48, 33, 13, 48, 17, 48, 10, 38, 48, 10, 0, 10, 32, 18, 33, 36, 38, 42, 48, 10, 48, 42, 2, 2, 26, 10, 7, 24, 48, 18, 10, 10, 23, 9, 10, 38, 43, 11, 15, 21, 48, 0, 33, 37, 0, 13, 10, 2, 1, 42, 45, 12, 5, 7, 33, 3, 46, 23, 1, 0, 0, 38, 29, 10, 1, 35, 1, 19, 1, 26, 1, 38, 42, 38, 10, 48, 18, 44, 40, 47, 34, 10, 48, 19, 0, 27, 6, 10, 28, 15, 4, 46, 38, 46, 33, 1, 11, 2, 22, 36, 34, 32, 32, 45, 42, 33, 45, 21, 10, 38, 4, 35, 34, 28, 48, 1, 35, 35, 35, 17, 6, 42, 46, 2, 4, 26, 38, 32, 5, 10, 10, 33, 1, 46, 24, 46, 38, 0, 15, 10, 48, 48, 13, 44, 46, 2, 40, 43, 45, 32, 10, 38, 15, 45, 45, 33, 21, 18, 45, 27, 10, 10, 37, 27, 0, 8, 48, 10, 41, 2, 0, 38, 44, 2, 7, 12, 46, 2, 4, 33, 18, 48, 34, 10, 9, 33, 10, 7, 10, 46, 0, 40, 46, 22, 28, 21, 29, 1, 10, 34, 32, 28, 42, 1, 48, 35, 18, 13, 46, 48, 10, 19, 22, 2, 33, 4, 6, 0, 1, 48, 13, 38, 40, 48, 46, 13, 19, 2, 49, 28, 38, 48, 33, 2, 4, 11, 36, 21, 1, 46, 15, 9, 49, 41, 45, 16, 10, 10, 48, 48, 38, 13, 32, 26, 28, 10, 10, 33, 23, 42, 48, 42, 37, 35, 31, 1, 43, 48, 47, 48, 33, 11, 48, 23, 10, 0, 9, 16, 21, 9, 48, 10, 45, 8, 46, 37, 48, 3, 22, 33, 24, 15, 1, 32, 48, 1, 48, 33, 10, 10, 12, 28, 33, 4, 10, 10, 15, 5, 15, 0, 48, 4, 46, 2, 19, 46, 11, 41, 46, 0, 12, 40, 15, 48, 2, 19, 0, 0, 1, 45, 48, 48, 21, 27, 42, 35, 21, 40, 47, 48, 13, 33, 15, 26, 21, 37, 42, 40, 46, 23, 2, 33, 48, 2, 6, 33, 48, 37, 46, 35, 46, 29, 44, 48, 30, 16, 33, 35, 28, 42, 1, 12, 3, 26, 16, 32, 21, 15, 48, 15, 15, 38, 29, 0, 10, 48, 4, 40, 48, 1, 48, 28, 0, 2, 38, 13, 48, 36, 0, 2, 45, 10, 1, 0, 33, 38, 46, 32, 42, 10, 18, 32, 33, 21, 42, 45, 46, 37, 44, 48, 35, 47, 21, 10, 42, 48, 38, 46, 32, 1, 35, 37, 9, 29, 9, 2, 46, 42, 10, 10, 1, 43, 46, 10, 17, 11, 30, 21, 16, 28, 1, 35, 38, 40, 21, 32, 2, 46, 10, 0, 27, 15, 2, 48, 38, 36, 21, 27, 19, 30, 24, 1, 11, 1, 43, 0, 38, 1, 15, 20, 45, 1, 10, 37, 48, 13, 1, 33, 15, 45, 38, 32, 3, 10, 1, 46, 15, 48, 28, 8, 35, 10, 12, 15, 48, 10, 15, 47, 41, 2, 38, 21, 48, 48, 0, 20, 43, 28, 48, 33, 36, 1, 46, 48, 30, 22, 29, 35, 42, 2, 44, 1, 10, 1, 1, 48, 38, 30, 12, 33, 10, 38, 10, 5, 0, 45, 42, 28, 45, 49, 10, 21, 9, 22, 29, 42, 6, 43, 15, 32, 1, 48, 48, 48, 43, 39, 48, 46, 46, 48, 48, 35, 0, 45, 8, 48, 1, 30, 15, 7, 33, 40, 22, 48, 0, 41, 7, 18, 30, 6, 42, 16, 28, 21, 10, 12, 48, 48, 48, 19, 2, 48, 31, 15, 15, 48, 40, 42, 29, 10, 38, 16, 44, 43, 38, 12, 7, 43, 5, 48, 0, 48, 30, 30, 0, 26, 15, 2, 38, 21, 48, 15, 37, 43, 2, 8, 30, 38, 3, 8, 10, 36, 1, 1, 21, 10, 13, 48, 0, 47, 30, 39, 2, 10, 28, 39, 21, 48, 33, 2, 35, 32, 9, 44, 4, 24, 4, 18, 10, 19, 1, 48, 15, 29, 2, 15, 37, 28, 48, 49, 0, 19, 46, 37, 15, 44, 33, 46, 1, 32, 1, 9, 38, 10, 16, 32, 11, 1, 33, 8, 35, 1, 48, 37, 48, 8, 36, 24, 48, 38, 42, 28, 35, 41, 1, 48, 48, 32, 33, 17, 31, 48, 35, 4, 44, 48, 10, 37, 16, 48, 32, 18, 41, 46, 33, 33, 48, 47, 38, 48, 13, 48, 38, 48, 47, 0, 15, 9, 32, 37, 15, 33, 48, 1, 26, 38, 46, 29, 40, 48, 48, 32, 38, 10, 48, 48, 42, 26, 15, 38, 46, 15, 40, 15, 10, 10, 10, 38, 11, 48, 46, 1, 33, 6, 10, 7, 10, 37, 7, 42, 15, 30, 48, 18, 28, 15, 29, 18, 48, 0, 45, 1, 16, 46, 38, 48, 41, 15, 33, 35, 42, 21, 36, 10, 15, 29, 16, 1, 32, 43, 36, 48, 48, 1, 10, 34, 10, 45, 10, 8, 7, 48, 44, 28, 46, 44, 43, 36, 45, 24, 16, 46, 38, 0, 0, 15, 10, 10, 27, 18, 10, 1, 28, 35, 48, 45, 21, 41, 4, 38, 18, 34, 15, 23, 48, 38, 43, 35, 39, 13, 15, 36, 35, 10, 48, 30, 1, 48, 15, 21, 36, 0, 45, 7, 6, 48, 19, 1, 2, 44, 10, 48, 10, 3, 37, 33, 1, 15, 1, 48, 10, 12, 0, 45, 29, 40, 45, 43, 33, 48, 38, 16, 45, 46, 10, 45, 38, 40, 18, 48, 9, 45, 16, 48, 28, 10, 40, 10, 31, 38, 48, 10, 0, 42, 40, 42, 12, 1, 23, 33, 36, 43, 43, 23, 15, 2, 1, 33, 48, 48, 37, 19, 15, 48, 27, 35, 24, 15, 10, 42, 10, 33, 42, 42, 41, 32, 17, 33, 48, 4, 27, 36, 19, 21, 45, 0, 32, 10, 44, 48, 46, 35, 1, 17, 48, 23, 7, 0, 22, 48, 35, 10, 48, 10, 1, 43, 10, 21, 0, 47, 48, 45, 38, 29, 15, 48, 21, 43, 48, 33, 48, 38, 37, 0, 37, 46, 33, 12, 46, 30, 10, 15, 35, 9, 42, 15, 9, 10, 33, 0, 35, 44, 15, 2, 4, 21, 3, 46, 48, 4, 33, 18, 38, 9, 45, 16, 42, 38, 33, 1, 40, 34, 10, 2, 10, 10, 10, 10, 16, 23, 1, 45, 1, 0, 15, 43, 10, 44, 10, 4, 2, 43, 18, 10, 19, 0, 48, 38, 33, 43, 10, 47, 1, 37, 46, 23, 43, 4, 10, 48, 2, 42, 9, 15, 28, 28, 33, 5, 33, 33, 46, 30, 19, 26, 19, 5, 46, 0, 37, 37, 41, 35, 2, 45, 34, 33, 0, 10, 3, 2, 19, 0, 35, 33, 22, 28, 38, 0, 29, 23, 35, 32, 15, 48, 25, 15, 3, 48, 11, 37, 45, 30, 10, 10, 48, 38, 0, 35, 7, 10, 42, 15, 1, 17, 2, 21, 2, 10, 26, 6, 37, 48, 4, 35, 33, 48, 48, 2, 30, 30, 38, 0, 33, 23, 21, 38, 46, 43, 35, 4, 48, 0, 10, 18, 48, 32, 33, 36, 1, 44, 2, 15, 16, 28, 15, 21, 22, 48, 33, 36, 15, 38, 22, 21, 15, 10, 48, 40, 37, 48, 32, 43, 43, 3, 43, 2, 42, 29, 40, 15, 32, 19, 0, 18, 6, 10, 21, 42, 30, 12, 24, 45, 28, 48, 30, 48, 40, 31, 0, 10, 49, 42, 33, 28, 35, 27, 42, 10, 48, 0, 24, 7, 8, 29, 30, 3, 10, 21, 15, 33, 33, 28, 13, 3, 0, 37, 7, 46, 4, 0, 35, 15, 48, 3, 6, 21, 0, 44, 48, 0, 10, 4, 10, 38, 7, 42, 18, 3, 10, 35, 2, 33, 15, 19, 10, 8, 45, 9, 5, 17, 16, 17, 49, 6, 43, 9, 8, 33, 48, 46, 0, 19, 46, 48, 19, 10, 15, 0, 3, 0, 20, 46, 0, 42, 32, 43, 38, 4, 48, 21, 0, 42, 39, 10, 10, 10, 30, 31, 42, 10, 26, 38, 40, 10, 33, 35, 39, 19, 48, 42, 3, 46, 48, 16, 2, 4, 10, 10, 9, 2, 46, 48]\n"
     ]
    }
   ],
   "source": [
    "pred_tf = Test_Predic\n",
    "\n",
    "result = []\n",
    "for i_0,i_1,i_2,i_3,i_4,i_5,i_tf0,i_tf1,i_tf2,i_tf3,i_tf4,i_tf5 in zip(pred[0],pred[1],pred[2],pred[3],pred[4],pred[5],\n",
    "                                        pred_tf[0],pred_tf[1],pred_tf[2],pred_tf[3],pred_tf[4],pred_tf[5]):#,pred_tf[6]):\n",
    "    i_0 = F.softmax(torch.Tensor(i_0))\n",
    "    i_1 = F.softmax(torch.Tensor(i_1))\n",
    "    i_2 = F.softmax(torch.Tensor(i_2))\n",
    "    i_3 = F.softmax(torch.Tensor(i_3))\n",
    "    i_4 = F.softmax(torch.Tensor(i_4))\n",
    "    i_5 = F.softmax(torch.Tensor(i_5))\n",
    "\n",
    "    i_tf0 = torch.Tensor(i_tf0)\n",
    "    i_tf1 = torch.Tensor(i_tf1)\n",
    "    i_tf2 = torch.Tensor(i_tf2)\n",
    "    i_tf3 = torch.Tensor(i_tf3)\n",
    "    i_tf4 = torch.Tensor(i_tf4)\n",
    "    i_tf5 = torch.Tensor(i_tf5)\n",
    "    #i_tf6 = torch.Tensor(i_tf6)\n",
    "\n",
    "    i = i_0 + i_1 + i_2 + i_3 + i_4 +i_5 +i_tf0 +i_tf1 +i_tf2 +i_tf3 +i_tf4 +i_tf5 #+i_tf6\n",
    "\n",
    "    i_arg = i.argmax()\n",
    "    result.append(i_arg.item())\n",
    "print(result)"
   ]
  },
  {
   "cell_type": "markdown",
   "id": "7fac620a-b3bc-4ac7-9d95-5115ba796bef",
   "metadata": {},
   "source": [
    "# Make Submission"
   ]
  },
  {
   "cell_type": "code",
   "execution_count": 46,
   "id": "049646c5",
   "metadata": {},
   "outputs": [],
   "source": [
    "preds = le.inverse_transform(result) # LabelEncoder로 변환 된 Label을 다시 화가이름으로 변환"
   ]
  },
  {
   "cell_type": "code",
   "execution_count": 47,
   "id": "ffb7b775",
   "metadata": {},
   "outputs": [
    {
     "name": "stdout",
     "output_type": "stream",
     "text": [
      "['Albrecht Du rer' 'Alfred Sisley' 'Amedeo Modigliani' 'Andrei Rublev'\n",
      " 'Andy Warhol' 'Camille Pissarro' 'Caravaggio' 'Claude Monet'\n",
      " 'Diego Rivera' 'Diego Velazquez' 'Edgar Degas' 'Edouard Manet'\n",
      " 'Edvard Munch' 'El Greco' 'Eugene Delacroix' 'Francisco Goya'\n",
      " 'Frida Kahlo' 'Georges Seurat' 'Giotto di Bondone' 'Gustav Klimt'\n",
      " 'Gustave Courbet' 'Henri Matisse' 'Henri Rousseau'\n",
      " 'Henri de Toulouse-Lautrec' 'Hieronymus Bosch' 'Jackson Pollock'\n",
      " 'Jan van Eyck' 'Joan Miro' 'Kazimir Malevich' 'Leonardo da Vinci'\n",
      " 'Marc Chagall' 'Michelangelo' 'Mikhail Vrubel' 'Pablo Picasso'\n",
      " 'Paul Cezanne' 'Paul Gauguin' 'Paul Klee' 'Peter Paul Rubens'\n",
      " 'Pierre-Auguste Renoir' 'Piet Mondrian' 'Pieter Bruegel' 'Raphael'\n",
      " 'Rembrandt' 'Rene Magritte' 'Salvador Dali' 'Sandro Botticelli' 'Titian'\n",
      " 'Vasiliy Kandinskiy' 'Vincent van Gogh' 'William Turner']\n"
     ]
    }
   ],
   "source": [
    "print(le.classes_)"
   ]
  },
  {
   "cell_type": "code",
   "execution_count": 49,
   "id": "e824be6c",
   "metadata": {},
   "outputs": [],
   "source": [
    "submit = pd.read_csv('./submit.csv')"
   ]
  },
  {
   "cell_type": "code",
   "execution_count": 50,
   "id": "505a6db4",
   "metadata": {
    "scrolled": true
   },
   "outputs": [
    {
     "data": {
      "text/html": [
       "<div>\n",
       "<style scoped>\n",
       "    .dataframe tbody tr th:only-of-type {\n",
       "        vertical-align: middle;\n",
       "    }\n",
       "\n",
       "    .dataframe tbody tr th {\n",
       "        vertical-align: top;\n",
       "    }\n",
       "\n",
       "    .dataframe thead th {\n",
       "        text-align: right;\n",
       "    }\n",
       "</style>\n",
       "<table border=\"1\" class=\"dataframe\">\n",
       "  <thead>\n",
       "    <tr style=\"text-align: right;\">\n",
       "      <th></th>\n",
       "      <th>id</th>\n",
       "      <th>artist</th>\n",
       "    </tr>\n",
       "  </thead>\n",
       "  <tbody>\n",
       "    <tr>\n",
       "      <th>0</th>\n",
       "      <td>TEST_00000</td>\n",
       "      <td>Edgar Degas</td>\n",
       "    </tr>\n",
       "    <tr>\n",
       "      <th>1</th>\n",
       "      <td>TEST_00001</td>\n",
       "      <td>Amedeo Modigliani</td>\n",
       "    </tr>\n",
       "    <tr>\n",
       "      <th>2</th>\n",
       "      <td>TEST_00002</td>\n",
       "      <td>Leonardo da Vinci</td>\n",
       "    </tr>\n",
       "    <tr>\n",
       "      <th>3</th>\n",
       "      <td>TEST_00003</td>\n",
       "      <td>Albrecht Du rer</td>\n",
       "    </tr>\n",
       "    <tr>\n",
       "      <th>4</th>\n",
       "      <td>TEST_00004</td>\n",
       "      <td>Edgar Degas</td>\n",
       "    </tr>\n",
       "  </tbody>\n",
       "</table>\n",
       "</div>"
      ],
      "text/plain": [
       "           id             artist\n",
       "0  TEST_00000        Edgar Degas\n",
       "1  TEST_00001  Amedeo Modigliani\n",
       "2  TEST_00002  Leonardo da Vinci\n",
       "3  TEST_00003    Albrecht Du rer\n",
       "4  TEST_00004        Edgar Degas"
      ]
     },
     "execution_count": 50,
     "metadata": {},
     "output_type": "execute_result"
    }
   ],
   "source": [
    "submit['artist'] = preds\n",
    "submit.head()"
   ]
  },
  {
   "cell_type": "code",
   "execution_count": 51,
   "id": "fffe5d5a",
   "metadata": {},
   "outputs": [],
   "source": [
    "submit.to_csv('submit2022-11-11.csv', index=False)"
   ]
  }
 ],
 "metadata": {
  "kernelspec": {
   "display_name": "Python 3 (ipykernel)",
   "language": "python",
   "name": "python3"
  },
  "language_info": {
   "codemirror_mode": {
    "name": "ipython",
    "version": 3
   },
   "file_extension": ".py",
   "mimetype": "text/x-python",
   "name": "python",
   "nbconvert_exporter": "python",
   "pygments_lexer": "ipython3",
   "version": "3.10.6"
  },
  "toc-autonumbering": false,
  "toc-showmarkdowntxt": false
 },
 "nbformat": 4,
 "nbformat_minor": 5
}
